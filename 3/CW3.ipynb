{
 "cells": [
  {
   "cell_type": "markdown",
   "metadata": {},
   "source": [
    "# Coursework 3: Reed-Solomon Codes\n",
    "## Group 17"
   ]
  },
  {
   "cell_type": "markdown",
   "metadata": {},
   "source": [
    "[√] By tick the checkbox, we hereby declare that this coursework report is our own and autonomous work. We have acknowledged all material and sources used in its preparation, including books, articles, reports, lecture notes, internet software packages, and any other kind of document, electronic or personal communication. This work has not been submitted for any other assessment."
   ]
  },
  {
   "cell_type": "markdown",
   "metadata": {},
   "source": [
    "## 3.1 RS Codes on $\\mathbb{F}_p$ (50%)"
   ]
  },
  {
   "cell_type": "markdown",
   "metadata": {},
   "source": [
    "### 3.1.1 RS Codes on $\\mathbb{F}_{17}$\n",
    "\n",
    "1. In $\\mathbb{F}_{17}$, find a primitive element $\\alpha$. \n",
    "2. Let $\\mathcal{C} \\subset \\mathbb{F}_{17}^{16}$ be an RS code with parameters $[16,k,7]$. What is the value of $k$? \n",
    "3. Design and implement an encoding function `RSNum_Enc` that encodes a message $\\boldsymbol{m} \\in \\mathbb{F}_{17}^k$ to a codeword $\\boldsymbol{c} \\in \\mathcal{C}$. \n",
    "4. Let $\\boldsymbol{y} = \\boldsymbol{c} + \\boldsymbol{e}$ be the received word where the channel introduces $t = \\lfloor \\frac{d-1}{2}\\rfloor$ errors in random places. Design and implement a function `RSNum_Channel` for this. Julia function `StatsBase > Sample` can be helpful in randomly chose error positions.\n",
    "5. Design and implement a function `RSNum_Syndrome` to calculate the syndrome vector and the syndrome polynomial from the received word $\\boldsymbol{y}$. \n",
    "6. Design and implement a function `RSNum_KeyPolys` to find error locator polynomial $L(z)$ and error evaluator polynomial $E(z)$ from the syndrome polynomial $S(z)$. \n",
    "7. Design and implement a function `RSNum_Err` to find the estimated error vector $\\hat{\\boldsymbol{e}}$ and the estimated codeword $\\hat{\\boldsymbol{c}}$.\n",
    "8. Design and implement a function `RSNum_Message` to find the estimated message $\\hat{\\boldsymbol{m}}$. \n",
    "9. Implement a function `RSNum_Dec` which uses the functions in Steps 5-8 as sub-routines for decoding.  \n",
    "\n",
    "Provide necessary documentation."
   ]
  },
  {
   "cell_type": "markdown",
   "metadata": {},
   "source": [
    "## 1.  Find a primitive element\n",
    "Use the function `find_primitive` to find all the primitive elements in $\\mathbb{F}_{17}$, which forms a set. Then, choose one primitive element randomly from the set, denoted as 'a'.\n",
    "\n",
    "(Primitive Element: Order of an element is the minimum t that satisfies $a^t=1$ in $\\mathbb{F}_{p}$. If $t=p-1$, this element is a primitive element.)"
   ]
  },
  {
   "cell_type": "code",
   "execution_count": 56,
   "metadata": {},
   "outputs": [
    {
     "data": {
      "text/plain": [
       "a_generator"
      ]
     },
     "metadata": {},
     "output_type": "display_data"
    }
   ],
   "source": [
    "using StatsBase\n",
    "\n",
    "\n",
    "\"\"\"\n",
    "    find_primitive(p)\n",
    "\n",
    "    Find the set of primitive elements for p\n",
    "\"\"\"\n",
    "function find_primitive(p)\n",
    "    PE = Int64[]  # Initialize the set to contain all the primitive elements\n",
    "    for i in 2:p-1  # Ergodic process to find all the primitive elements\n",
    "        ord = 1\n",
    "        n = i\n",
    "        while n != 1  # Run until r is 1\n",
    "            ord = ord + 1\n",
    "            n = mod(i*n,p)\n",
    "        end\n",
    "        if ord == p - 1   # If the order is p-1, it is a primitive element\n",
    "            push!(PE,i);\n",
    "        end\n",
    "    end\n",
    "    return PE\n",
    "end\n",
    "\n",
    "\n",
    "\n",
    "\"\"\"\n",
    "    a_generator(p)\n",
    "\n",
    "    Randomly choose a primitive element from the set\n",
    "\"\"\"\n",
    "function a_generator(p)\n",
    "    PE_set = find_primitive(p)  # Find the set of primitive element for p\n",
    "    \n",
    "    index = sample(collect(1:size(PE_set,1)), 1, replace=false)  # Randomly generate the index\n",
    "    a = PE_set[index[1]]  # a_index is an 1-element vector, use index[1] to get its value\n",
    "\n",
    "    println(\"1.  The chosen primitive element a = \",a,\"\\n\")\n",
    "    return a\n",
    "end"
   ]
  },
  {
   "cell_type": "code",
   "execution_count": 57,
   "metadata": {},
   "outputs": [
    {
     "name": "stdout",
     "output_type": "stream",
     "text": [
      "The primitive element set is [3, 5, 6, 7, 10, 11, 12, 14]\n",
      "\n",
      "1.  The chosen primitive element a = 11\n",
      "\n"
     ]
    }
   ],
   "source": [
    "# Test\n",
    "p = 17\n",
    "println(\"The primitive element set is \", find_primitive(p),\"\\n\")\n",
    "a_generator(p)\n",
    "nothing"
   ]
  },
  {
   "cell_type": "markdown",
   "metadata": {},
   "source": [
    "## 2. Find the value of k\n",
    "The relationship between $[n,k,d]$ and p is: $n=p-1$, $k=n-d+1$.\n",
    "\n",
    "That is, in the given finite filed $\\mathbb{F}_{17}^{16}$, $n = p - 1 = 16$. \n",
    "\n",
    "And if one of $k$ and $d$ is known, the other one can be found via $k=n-d+1$. Hence, for $d = 7$, $k = n - d + 1 = 16 - 7 + 1 = 10$."
   ]
  },
  {
   "cell_type": "code",
   "execution_count": 58,
   "metadata": {},
   "outputs": [
    {
     "data": {
      "text/plain": [
       "k_generator"
      ]
     },
     "metadata": {},
     "output_type": "display_data"
    }
   ],
   "source": [
    "\"\"\"\n",
    "    k_generator(p,d)\n",
    "\n",
    "    Generator k\n",
    "\"\"\"\n",
    "function k_generator(p,d)\n",
    "    k = (p - 1) - d + 1  # k = n - d + 1, n = p - 1\n",
    "    return k\n",
    "end"
   ]
  },
  {
   "cell_type": "code",
   "execution_count": 59,
   "metadata": {},
   "outputs": [
    {
     "name": "stdout",
     "output_type": "stream",
     "text": [
      "p = 17\n",
      "d = 7\n",
      "k = 10\n"
     ]
    }
   ],
   "source": [
    "# Test\n",
    "p = 17\n",
    "d = 7\n",
    "@show p\n",
    "@show d\n",
    "println(\"k = \", k_generator(p,d))\n",
    "nothing"
   ]
  },
  {
   "cell_type": "markdown",
   "metadata": {},
   "source": [
    "## 3. Generate message $m$ and codeword $c$\n",
    "Message $m$ is a polynomial with a degree no larger than $k-1$. Therefore, we can simply let the degree of m equals to $k-1$ and generate $k$ coefficients randomly, $m{\\left(x\\right)}=m_0+m_1x+m_2x^2+\\ldots+m_{k-1}x^{k-1}$\n",
    "\n",
    "After choosing the primitive element a, vector A can be formed as [1, $a$, $a^2$, ... , $a^{p-2}$]. Apply the evaluation mapping, map polynomial m to vector $c$, the codeword $c$ is determined."
   ]
  },
  {
   "cell_type": "code",
   "execution_count": 60,
   "metadata": {},
   "outputs": [
    {
     "data": {
      "text/plain": [
       "RSNum_Enc_using_Polynomials_Abandoned"
      ]
     },
     "metadata": {},
     "output_type": "display_data"
    }
   ],
   "source": [
    "## Abandoned method, reason is explained bellow this block. Just for demonstration\n",
    "## !!!!!!!!!!!!!!!!!!!!!!!!!!!!!!!!!!!!!!!!!!!!!!!!!!!!!!!!!!!!!!!!!!!!!!!!!!!!!!!\n",
    "\n",
    "using Polynomials\n",
    "\n",
    "\n",
    "\"\"\"\n",
    "    RSNum_Enc_using_Polynomials_Abandoned(p,k,a)\n",
    "\n",
    "    Encode the message.\n",
    "\"\"\"\n",
    "function RSNum_Enc_using_Polynomials_Abandoned(p,k,a)\n",
    "    # Initialization\n",
    "    m = Int64[]  # message polynomial (coefficients)\n",
    "    c = zeros(Int64,p-1)  # codeword\n",
    "\n",
    "    # Generate the polynomial m(x)\n",
    "    for i in 1:k\n",
    "        push!(m,rand(0:p-1)) # Randomly generate coefficients in the finite field for m\n",
    "    end\n",
    "    println(\"Message m is \",m,\"\\n\")\n",
    "\n",
    "    # Generate codeword c\n",
    "    m_x = Polynomial(m)  # Generate the polynomial m(x)\n",
    "    for i in 1:p-1\n",
    "        a_i = powermod(a,i-1,p)  # mod(a^(i-1),p), calculate the ith element in A ([1,a,a^2,...,a^(p-2)])\n",
    "        c[i] = trunc(Int,mod(m_x(a_i),p))  # substituting every the ith element in A to calculate the ith element of codeword c\n",
    "    end\n",
    "    println(\"Codeword c is \",vec(c),\"\\n\")\n",
    "    return c\n",
    "end"
   ]
  },
  {
   "cell_type": "code",
   "execution_count": 61,
   "metadata": {},
   "outputs": [
    {
     "name": "stdout",
     "output_type": "stream",
     "text": [
      "1.  The chosen primitive element a = 6\n",
      "\n",
      "Message m is [13"
     ]
    },
    {
     "name": "stdout",
     "output_type": "stream",
     "text": [
      ", 10, 16, 11, 7, 8, 11, 10, 12, 3]\n",
      "\n",
      "Codeword c is [16, 9, 5, 14, 5, 12, 6, 1, 0, 0, 3, 11, 5, 10, 7, 2]\n",
      "\n"
     ]
    }
   ],
   "source": [
    "# Test\n",
    "p = 17\n",
    "d = 7\n",
    "k = k_generator(p,d)\n",
    "a = a_generator(p)\n",
    "RSNum_Enc_using_Polynomials_Abandoned(p,k,a)\n",
    "nothing"
   ]
  },
  {
   "cell_type": "markdown",
   "metadata": {},
   "source": [
    "However, the method above has a problem.\n",
    "\n",
    "When $k$ is large / the degree of $m(x)$ is large, some results may go beyond the bound, e.g. for $k=49$, $x^{48}$ cannot be calculated accurately, in this form: '4.564684651865564e48'.\n",
    "\n",
    "To solve this problem, the generator matrix $G$ is used to find the codeword, the process can be written as $$m*G=c$$  "
   ]
  },
  {
   "cell_type": "code",
   "execution_count": 62,
   "metadata": {},
   "outputs": [
    {
     "data": {
      "text/plain": [
       "RSNum_Enc"
      ]
     },
     "metadata": {},
     "output_type": "display_data"
    }
   ],
   "source": [
    "# The correct one\n",
    "\n",
    "\"\"\"\n",
    "    RSNum_Enc(p,k,a)\n",
    "\n",
    "    Encode the message.\n",
    "\"\"\"\n",
    "function RSNum_Enc(p,k,a)\n",
    "    # Initialization\n",
    "    m = Int64[]  # message polynomial (coefficients)\n",
    "    G = zeros(Int64,k,p-1)  # generator matrix\n",
    "    c = zeros(Int64,p-1)  # codeword\n",
    "    \n",
    "    # Generate the polynomial m(x)\n",
    "    for i in 1:k\n",
    "        push!(m,rand(0:p-1)) # Randomly generate coefficients in the finite field for m\n",
    "    end\n",
    "    println(\"2.  Message m is \",m,\"\\n\")\n",
    "\n",
    "    # Generate the generator matrix G\n",
    "    for i in 1:k\n",
    "        for j in 1:p-1\n",
    "            G[i,j] = powermod(a,(i-1)*(j-1),p)  # G[i,j] = a^((i-1)(j-1)) mod p\n",
    "        end\n",
    "    end\n",
    "\n",
    "    # Generate codeword c\n",
    "    c = (mod.(m'*G,p))'\n",
    "    println(\"3.  Codeword c is \",vec(c),\"\\n\")\n",
    "    return m, c\n",
    "end"
   ]
  },
  {
   "cell_type": "code",
   "execution_count": 63,
   "metadata": {},
   "outputs": [
    {
     "name": "stdout",
     "output_type": "stream",
     "text": [
      "1.  The chosen primitive element a = 3\n",
      "\n"
     ]
    },
    {
     "name": "stdout",
     "output_type": "stream",
     "text": [
      "2.  Message m is [9, 13, 7, 9, 16, 7, 13, 5, 6, 8]\n",
      "\n",
      "3.  Codeword c is [8, 1, 5, 5, 6, 10, 0, 13, 9, 2, 7, 12, 16, 15, 1, 0]\n",
      "\n"
     ]
    }
   ],
   "source": [
    "# Test\n",
    "p = 17\n",
    "d = 7\n",
    "k = k_generator(p,d)\n",
    "a = a_generator(p)\n",
    "RSNum_Enc(p,k,a)\n",
    "nothing"
   ]
  },
  {
   "cell_type": "markdown",
   "metadata": {},
   "source": [
    "## 4. Received word\n",
    "The received word $r=c+e$ is got by introducing random errors in random positions to c."
   ]
  },
  {
   "cell_type": "code",
   "execution_count": 64,
   "metadata": {},
   "outputs": [
    {
     "data": {
      "text/plain": [
       "RSNum_Channel"
      ]
     },
     "metadata": {},
     "output_type": "display_data"
    }
   ],
   "source": [
    "using StatsBase\n",
    "\n",
    "\n",
    "\"\"\"\n",
    "    RSNum_Channel(p,d,c,t)\n",
    "\n",
    "    Add noise to the codeword.\n",
    "\"\"\"\n",
    "function RSNum_Channel(p,d,c,t)\n",
    "    index = sample(collect(1:length(c)), t, replace=false); # Randomly choose t indexes using sample function, which is the position for errors\n",
    "    println(\"4.  Error position is \",sort(index,by=abs),\"\\n\")  # show the sorted error position\n",
    "\n",
    "    e = zeros(Int64,p-1)  # Initialize the error vector\n",
    "    r = c'  # Initialize the received word\n",
    "    for i in 1:t\n",
    "        e[index[i]] = rand(1:p-1)   # Randomly generate the error \n",
    "        r[index[i]] = mod(c[index[i]] + e[index[i]], p)  # Add the random errors to the codeword to form the received word, r = c + e\n",
    "    end\n",
    "    println(\"5.  Error vector is \",e,\"\\n\")\n",
    "    println(\"6.  Received word is \",vec(r),\"\\n\")\n",
    "    return r\n",
    "end"
   ]
  },
  {
   "cell_type": "code",
   "execution_count": 65,
   "metadata": {},
   "outputs": [
    {
     "name": "stdout",
     "output_type": "stream",
     "text": [
      "1.  The chosen primitive element a = 11\n",
      "\n",
      "2.  Message m is [5, 10, 10, 6, 14, 9, 5, 4, 12, 4]\n",
      "\n",
      "3.  Codeword c is [11, 1, 15, 4, 0, 3, 10, 14, 13, 13, 14, 16, "
     ]
    },
    {
     "name": "stdout",
     "output_type": "stream",
     "text": [
      "15, 9, 7, 3]\n",
      "\n",
      "4.  Error position is [4, 5, 10]\n",
      "\n",
      "5.  Error vector is [0, 0, 0, 2, 9, 0, 0, 0, 0, 2, 0, 0, 0, 0, 0, 0]\n",
      "\n",
      "6.  Received word is "
     ]
    },
    {
     "name": "stdout",
     "output_type": "stream",
     "text": [
      "[11, 1, 15, 6, 9, 3, 10, 14, 13, 15, 14, 16, 15, 9, 7, 3]\n",
      "\n"
     ]
    }
   ],
   "source": [
    "# Test\n",
    "p = 17\n",
    "d = 7\n",
    "k = k_generator(p,d)\n",
    "t = floor(Int,(d-1)/2)\n",
    "a = a_generator(p)\n",
    "m,c = RSNum_Enc(p,k,a)\n",
    "RSNum_Channel(p,d,c,t)\n",
    "nothing"
   ]
  },
  {
   "cell_type": "markdown",
   "metadata": {},
   "source": [
    "### 5. Generate $S\\left(z\\right)$ and $s$\n",
    "The syndrome polynomial $S\\left(z\\right)$ can be generated as $S\\left(z\\right)=\\sum_{j=0}^{n-k-1}{s_jz^j}$, where $s=rH^T$, $r$ is the received message, and $H$ is the parity-check matrix whose every entry equals to $\\alpha^{i\\left(j-1\\right)}$ and size is $\\left(n-k\\right)\\times n$."
   ]
  },
  {
   "cell_type": "code",
   "execution_count": 66,
   "metadata": {},
   "outputs": [
    {
     "data": {
      "text/plain": [
       "RSNum_Syndrome"
      ]
     },
     "metadata": {},
     "output_type": "display_data"
    }
   ],
   "source": [
    "using Polynomials\n",
    "\n",
    "\n",
    "\"\"\"\n",
    "    RSNum_Syndrome(p,n,k,a,r)\n",
    "\n",
    "    Generate the Syndrome Polynomial\n",
    "\"\"\"\n",
    "function RSNum_Syndrome(p,n,k,a,r)\n",
    "    H = zeros(Int64,n-k,n)  # Initialize the parity-check matrix\n",
    "    for i in 1:n-k\n",
    "        for j in 1:n\n",
    "            H[i,j] = powermod(a,i*(j-1),p)  # parity-check matrix H[i,j] = a^(i*(j-1)) mod p\n",
    "        end\n",
    "    end\n",
    "    s_1 = r * H'\n",
    "\n",
    "    # Apply modulation and change the type of s_1 into Int64\n",
    "    S = zeros(Int64,n-k)\n",
    "    for i in 1:n-k\n",
    "        S[i] = mod(trunc(Int,s_1[i]),p)  # change the type of s_1 and apply modulation to each element of s_1\n",
    "    end\n",
    "\n",
    "    println(\"7.  Syndrome polynomial S(z) = \",Polynomial(S,:z),\"\\n\")  # show the syndrome polynomial\n",
    "    return S  # return the coefficients of syndrome polynomial\n",
    "end"
   ]
  },
  {
   "cell_type": "code",
   "execution_count": 67,
   "metadata": {},
   "outputs": [
    {
     "name": "stdout",
     "output_type": "stream",
     "text": [
      "1.  The chosen primitive element a = 5\n",
      "\n",
      "2.  Message m is [11"
     ]
    },
    {
     "name": "stdout",
     "output_type": "stream",
     "text": [
      ", 14, 2, 3, 7, 6, 8, 15, 1, 0]\n",
      "\n",
      "3.  Codeword c is [16, 13, 1, 2, 1, 6, 3, 8, 8, 15, 6, 6, 0, 13, 10, 0]\n",
      "\n",
      "4.  Error position is [9, 13, 16]\n",
      "\n",
      "5.  Error vector is [0, 0, 0, 0, 0, 0, 0, 0, 16, 0, 0, 0, 12, 0, 0, 16]\n",
      "\n",
      "6.  Received word is ["
     ]
    },
    {
     "name": "stdout",
     "output_type": "stream",
     "text": [
      "16, 13, 1, 2, 1, 6, 3, 8, 7, 15, 6, 6, 12, 13, 10, 16]\n",
      "\n",
      "7.  Syndrome polynomial S(z) = 8 + 6*z + z^2 + 7*z^3 + 4*z^4 + 12*z^5\n",
      "\n"
     ]
    }
   ],
   "source": [
    "# Test\n",
    "p = 17\n",
    "n = 16\n",
    "d = 7\n",
    "t = floor(Int,(d-1)/2)\n",
    "k = k_generator(p,d)\n",
    "a = a_generator(p)\n",
    "m,c = RSNum_Enc(p,k,a)\n",
    "r = RSNum_Channel(p,d,c,t)\n",
    "RSNum_Syndrome(p,n,k,a,r)\n",
    "nothing"
   ]
  },
  {
   "cell_type": "markdown",
   "metadata": {},
   "source": [
    "## 6. Generate $L\\left(z\\right)$ and $E\\left(z\\right)$\n",
    "Apply  Euclidean algorithm to $z^{d-1}$ and $S\\left(z\\right)$\n",
    "\n",
    "$$z^{d-1}=q_1\\left(z\\right)S\\left(z\\right)+r_1\\left(z\\right)$$\n",
    "$$S\\left(z\\right)=q_2\\left(z\\right)r_1\\left(z\\right)+r_2\\left(z\\right)$$\n",
    "$$...$$\n",
    "$$r_{l-2}=q_l\\left(z\\right)r_{l-1}\\left(z\\right)+r_l\\left(z\\right)$$\n",
    "\n",
    "where $deg(r_l\\left(z\\right))$≤ $t$-1\n",
    "\n",
    "By Bezout's Identity, one has,\n",
    "$$r_l\\left(z\\right)=a\\left(z\\right)S\\left(z\\right)+b\\left(z\\right)z^{d-1}\\equiv a\\left(z\\right)S\\left(z\\right)mod {z^{d-1}}$$\n",
    "\n",
    "Let $c$ be the leading coefficient of the polynomial $a\\left(z\\right)$, i.e., $c^{-1}a\\left(z\\right)$ is a monic polynomial. Then, $$L\\left(z\\right)=c^{-1}a\\left(z\\right)$$ $$E\\left(z\\right)=c^{-1}r_l\\left(z\\right)$$"
   ]
  },
  {
   "cell_type": "markdown",
   "metadata": {},
   "source": [
    "In the following block, all the functions come from previous courseworks."
   ]
  },
  {
   "cell_type": "code",
   "execution_count": 68,
   "metadata": {},
   "outputs": [
    {
     "data": {
      "text/plain": [
       "vec_conv"
      ]
     },
     "metadata": {},
     "output_type": "display_data"
    }
   ],
   "source": [
    "\"\"\"\n",
    "    isprime(n)\n",
    "\n",
    "    Used to determine whether the input is a prime number \n",
    "    Return 'true' if it is a prime number, return 'false' if not\n",
    "\"\"\"\n",
    "function isprime(n)\n",
    "    if n < 2\n",
    "        return false    \n",
    "    elseif n == 2\n",
    "        return true\n",
    "    # Check all even numbers\n",
    "    elseif n % 2 == 0\n",
    "        return false\n",
    "    end\n",
    "    # Consider all odd numbers\n",
    "    for i in collect(3:2:√n) # only need to check i < √n\n",
    "        if n % i == 0 \n",
    "            return false\n",
    "        end\n",
    "    end\n",
    "    # if no f_xs were found\n",
    "    true  \n",
    "end\n",
    "\n",
    "\n",
    "\n",
    "\"\"\"\n",
    "    getdeg(A)\n",
    "\n",
    "    Determine the degree of polynomial A. On the right is the coefficient of the largest term\n",
    "    e.g. 3x^2+2x+1 then input A = [1 2 3]\n",
    "\"\"\"\n",
    "function getdeg(A)\n",
    "    n = length(A)\n",
    "\n",
    "    for i in 1:length(A)\n",
    "        if A[n] == 0 # Determine whether the last bit is 0, if yes, reduce 1 to the length of A\n",
    "            n -= 1; # Judge the next one in the next loop\n",
    "            if n == 0 # if all of A equal to 0, then return degree 0\n",
    "                return 0\n",
    "            end\n",
    "        else\n",
    "            return n-1 # degree starts from 0, and the number of items starts from 1, so return n-1\n",
    "        end\n",
    "    end\n",
    "end\n",
    "\n",
    "\n",
    "\n",
    "\"\"\"\n",
    "    fractionmod(molecular,denominator,p)\n",
    "\n",
    "    Apply modulation to fraction numbers\n",
    "\"\"\"\n",
    "function fractionmod(molecular,denominator,p) # input the molecular and denominator of the fraction, then get the mod\n",
    "    n=0 \n",
    "    judgement = true #make judgement whether jump out the loop\n",
    "    while judgement\n",
    "        n += 1\n",
    "        judgement = (mod(molecular,p) != mod(denominator*n,p)) \n",
    "        #Judge how many n can make the polynomial hold, they molecular%p equal to denominator module p, return n\n",
    "    end\n",
    "    return n\n",
    "end\n",
    "\n",
    "\n",
    "\n",
    "\"\"\"\n",
    "    polydiv(fx,gx,p)\n",
    "\n",
    "    Polynomial division, Find the remainder and quotient of fx/gx in p-domain\n",
    "\"\"\"\n",
    "function polydiv(fx,gx,p)\n",
    "    if isprime(p)  # decide it's prime or not, if not, then return error\n",
    "        fx = mod.(fx,p)  # Take the modulus of fx to ensure that coefficients of fx is in Fp\n",
    "        gx = mod.(gx,p)  # Take the modulus of gx to ensure that coefficients of gx is in Fp\n",
    "        deg_fx = getdeg(fx)  # get the degree of fx and gx\n",
    "        deg_gx = getdeg(gx)\n",
    "        \n",
    "        fx = fx[1:deg_fx+1]  # Discard the extra 0 in fx, e.g. [1 2 1 0 0] -> [1 2 1]\n",
    "        gx = gx[1:deg_gx+1]  # Discard the extra 0 in gx\n",
    "\n",
    "        if gx == [0]\n",
    "            println(\"Warning, cannot divide 0!\\n\")\n",
    "            return (rem=[],quo=[])\n",
    "        elseif deg_gx > deg_fx  # If the order of gx is higher than fx, the remainder is gx, the quotient is 0\n",
    "            rx = fx\n",
    "            qx = [0]\n",
    "            return (rem=rx,quo=qx)\n",
    "        else\n",
    "            deg_diff = deg_fx - deg_gx  # degree difference between fx and gx\n",
    "            qx = zeros(deg_diff+1)  # Initialize qx and rx\n",
    "            rx = zeros(deg_gx+1)\n",
    "\n",
    "            for i in 0:deg_diff\n",
    "                # Add 0 to the gx vector to make gx and fx the same length\n",
    "                # With the change of degree quotient, the position of gx is different each time\n",
    "                zero_highdeg = zeros(Int64,i) \n",
    "                zero_lowdeg = zeros(Int64,deg_diff-i)\n",
    "                gx_addzero = append!(zero_lowdeg,gx,zero_highdeg)\n",
    "\n",
    "                # Calculate the quotient of each step\n",
    "                # eg: Divide the highest order coefficient of fx by the highest order coefficient of gx for the first time\n",
    "                qx[deg_diff+1-i] = fx[deg_fx+1-i]/gx[deg_gx+1]\n",
    "\n",
    "                if !isinteger(qx[deg_diff+1-i])  # Fraction modulo if qx is not a integer\n",
    "                    qx[deg_diff+1-i] = fractionmod(fx[deg_fx+1-i],gx[deg_gx+1],p)\n",
    "                else  # integer mod\n",
    "                    qx[deg_diff+1-i] = mod(qx[deg_diff+1-i],p) \n",
    "                end\n",
    "\n",
    "                # Calculate the remainder, the remainder is the next divider\n",
    "                fx = fx-gx_addzero.*qx[deg_diff+1-i]\n",
    "            end\n",
    "\n",
    "            rx = convert(Vector{Int64},mod.(fx,p))  # the newest fx is the remainder, do modulation\n",
    "            qx = convert(Vector{Int64},mod.(qx,p))\n",
    "        \n",
    "            return (rx[1:getdeg(rx)+1],qx[1:getdeg(qx)+1])  # Discard extra 0s\n",
    "        end\n",
    "    else\n",
    "        return \"p is not a prime number. Please change the value of p.\" # p is not a prime\n",
    "    end\n",
    "end\n",
    "\n",
    "\n",
    "\n",
    "\"\"\"\n",
    "    vec_conv(a, b)\n",
    "\n",
    "    Our own convolution function\n",
    "    The multiplication of polynomials is actually the convolution\n",
    "\"\"\"\n",
    "function vec_conv(a, b) #a(x)*b(x) is actually the convolution of the two vector elements\n",
    "    M = length(a)        \n",
    "    N = length(b)\n",
    "    c = zeros(Int64,M+N-1)\n",
    "    for i = 1:M\n",
    "        for j = 1:N\n",
    "            c[i+j-1] += a[i]*b[j]  # find each element\n",
    "        end\n",
    "    end\n",
    "    return c\n",
    "end"
   ]
  },
  {
   "cell_type": "markdown",
   "metadata": {},
   "source": [
    "In the above block, all the functions come from previous courseworks.\n",
    "\n",
    "In the next block, two new functions are written."
   ]
  },
  {
   "cell_type": "code",
   "execution_count": 69,
   "metadata": {},
   "outputs": [
    {
     "data": {
      "text/plain": [
       "find_E_and_L"
      ]
     },
     "metadata": {},
     "output_type": "display_data"
    }
   ],
   "source": [
    "\"\"\"\n",
    "    find_E_and_L(Z,S,p,t)  \n",
    "\n",
    "    Use Euclidian algorithm to find the remainder with the degree ≤ t-1 between fx and gx, and use Bezout's Identity to represent this remainder using fx and gx\n",
    "\"\"\"\n",
    "function find_E_and_L(Z,S,p,t)  \n",
    "    if isprime(p) == false\n",
    "        return  \"p is not a prime number. Please change the value of p.\" \n",
    "    end\n",
    "    \n",
    "    (remainder,quotient) = polydiv(Z,S,p)  # Polynomial division, Find the remainder and quotient of Z / S in p-domain\n",
    "    if remainder == [0] || getdeg(remainder) <= (t-1)  # if the degree of remainder ≤ t-1 (use remainder == [0] because the function 'getdeg' cannot process [0])\n",
    "        return remainder, ones(Int64,1), -quotient\n",
    "    else\n",
    "        remainder, b_prev, a_prev = find_E_and_L(S,remainder,p,t)  # if not, iterate untill the degree of remainder ≤ t-1\n",
    "        \n",
    "        # Bezout's Identity\n",
    "        b = mod.(a_prev,p)\n",
    "        temp = mod.(vec_conv(a_prev,quotient),p)\n",
    "        a = mod.(append!(b_prev,zeros(length(temp)-length(b_prev))) - temp,p)\n",
    "        return remainder, b, a  # remainder = b*Z + a*S = a*S mod z^(d-1) where deg(remainder) ≤ t-1\n",
    "    end\n",
    "end"
   ]
  },
  {
   "cell_type": "markdown",
   "metadata": {},
   "source": [
    "Function 'RSNum_KeyPolys'"
   ]
  },
  {
   "cell_type": "code",
   "execution_count": 70,
   "metadata": {},
   "outputs": [
    {
     "data": {
      "text/plain": [
       "RSNum_KeyPolys"
      ]
     },
     "metadata": {},
     "output_type": "display_data"
    }
   ],
   "source": [
    "using Polynomials\n",
    "\n",
    "\n",
    "\"\"\"\n",
    "    RSNum_KeyPolys(S,p,d,t)\n",
    "\n",
    "    Find L and E use Euclidian algorithm to find the remainder with the degree ≤ t-1, and use Bezout's Identity to represent this remainder\n",
    "\"\"\"\n",
    "function RSNum_KeyPolys(S,p,d,t)\n",
    "    t = floor(Int,(d-1)/2)  # maximum correctable errors\n",
    "       \n",
    "    # Z = z^(d-1)\n",
    "    Z = zeros(Int64,d)\n",
    "    Z[d] = 1\n",
    "    \n",
    "    E, ~, L = find_E_and_L(Z,S,p,t)  # Apply Z/s, find E and L\n",
    "    println(\"8.  Locator polynomial L(z) = \",Polynomial(L,:z),\"\\n\")  # show the results\n",
    "    println(\"9.  Error evaluator polynomial E(z) = \",Polynomial(E,:z),\"\\n\")\n",
    "    return E, L\n",
    "end"
   ]
  },
  {
   "cell_type": "code",
   "execution_count": 71,
   "metadata": {},
   "outputs": [
    {
     "name": "stdout",
     "output_type": "stream",
     "text": [
      "1.  The chosen primitive element a = 5\n",
      "\n",
      "2.  Message m is [0, 12, 1, 2, 11, 11, 16, 2, 13, 6]\n",
      "\n",
      "3.  Codeword c is [6,"
     ]
    },
    {
     "name": "stdout",
     "output_type": "stream",
     "text": [
      " 12, 16, 3, 9, 9, 7, 14, 8, 5, 6, 13, 5, 1, 13, 9]\n",
      "\n",
      "4.  Error position is [4, 6, 10]\n",
      "\n",
      "5.  Error vector is [0, 0, 0, 3, 0, 7, 0, 0, 0, 14, 0, 0, 0, 0, 0, 0]\n",
      "\n",
      "6.  Received word is [6, 12, 16, 6, 9, 16, 7, 14, 8, 2, 6, 13, 5, 1, 13, 9]\n",
      "\n",
      "7.  Syndrome polynomial S(z) = 12 + 11*z + z^2 + 13*z^3 + 11*z^4 + 4*z^5\n",
      "\n"
     ]
    },
    {
     "name": "stdout",
     "output_type": "stream",
     "text": [
      "8.  Locator polynomial L(z) = 2 + 4*z + 2*z^2 + 7*z^3\n",
      "\n",
      "9.  Error evaluator polynomial E(z) = 7 + 2*z + 2*z^2\n",
      "\n"
     ]
    }
   ],
   "source": [
    "# Test\n",
    "p = 17\n",
    "n = 16\n",
    "d = 7\n",
    "t = floor(Int,(d-1)/2)\n",
    "k = k_generator(p,d)\n",
    "a = a_generator(p)\n",
    "m,c = RSNum_Enc(p,k,a)\n",
    "r = RSNum_Channel(p,d,c,t)\n",
    "S = RSNum_Syndrome(p,n,k,a,r)\n",
    "RSNum_KeyPolys(S,p,d,t)\n",
    "nothing"
   ]
  },
  {
   "cell_type": "markdown",
   "metadata": {},
   "source": [
    "## 7. Calculate estimated error $\\hat{e}$ and estimated codeword $\\hat{c}$\n",
    "After getting $L(z)$ and $E(z)$, the error positions can be found from $L(z)$, and corresponding errors $e_i$ from $E(z)$.\n",
    "\n",
    "Substitute $a^0,\\alpha^{-1},\\alpha^{-2},\\cdots,\\alpha^{-\\left(p-2\\right)}$ to $L(z)$, by this exhaustively computing, find all k that satisfy $L\\left(\\alpha^{-k}\\right)=0$. The value of k represents error position.\n",
    "\n",
    "As for the corresponding errors, $e_k=E\\left(\\alpha^{-k}\\right)/\\left(\\alpha^k\\mathrm{\\Pi}_{j\\neq k}\\left(1-\\alpha^j\\alpha^{-k}\\right)\\right)=-E\\left(\\alpha^{-k}\\right)/\\frac{d}{dz}L\\left(\\alpha^{-k}\\right)$. It is better to use the second one which has less complexity.\n",
    "\n",
    "Then the codeword $\\hat{c}$ can be recovered by $\\hat{c}=r-\\hat{e}$"
   ]
  },
  {
   "cell_type": "code",
   "execution_count": 72,
   "metadata": {},
   "outputs": [
    {
     "data": {
      "text/plain": [
       "RSNum_Err"
      ]
     },
     "metadata": {},
     "output_type": "display_data"
    }
   ],
   "source": [
    "using Polynomials\n",
    "\n",
    "\n",
    "\"\"\"\n",
    "    dfx(fx,p)\n",
    "\n",
    "    Find the first derivative of fx\n",
    "\"\"\"\n",
    "function dfx(fx,p)\n",
    "    dfx = zeros(Int64,length(fx)-1)  # Initialize the first derivative\n",
    "    for i in 2:length(fx)\n",
    "        dfx[i-1] = mod(fx[i]*(i-1),p)  # Calculate each element of the first derivative\n",
    "    end\n",
    "    return dfx\n",
    "end\n",
    "\n",
    "\n",
    "\n",
    "\"\"\"\n",
    "    Substi(x,fx,p)\n",
    "\n",
    "    Substitute x into f(x) in Fp. If use the function polynomial, it has the same problem as out abandoned method mentioned in \"3.Generate message m and codeword c\"\n",
    "\"\"\"\n",
    "function Substi(x,fx,p)\n",
    "    L = length(fx)\n",
    "    x_i = zeros(Int64,1,L)\n",
    "    for i in 1:L\n",
    "        x_i[i] = powermod(x,i-1,p)  # get corresponding values\n",
    "    end\n",
    "    result = mod.(x_i*fx,p)   # multiply each coefficient with its corresponding x^i\n",
    "    return result[1]  # result is an 1-element vector, use result[1] to get its value\n",
    "end\n",
    "\n",
    "\n",
    "\n",
    "\"\"\"\n",
    "    RSNum_Err(p,a,r,L,E)\n",
    "\n",
    "    Estimate the error and recover the codeword\n",
    "\"\"\"\n",
    "function RSNum_Err(p,a,r,L,E)\n",
    "    # Estimate the error position\n",
    "    e_p = Int64[]  # Initialize the estimated error position\n",
    "    for i in 1:p-1\n",
    "        if mod(Substi(powermod(a,-(i-1),p),L,p),p) == 0  # substitute a^(-k) into L, check whether the result equals to 0\n",
    "            push!(e_p,i)\n",
    "        end\n",
    "    end\n",
    "    println(\"10. Estimated error position is \",e_p,\"\\n\")\n",
    "\n",
    "    # Estimate the error\n",
    "    e_hat = zeros(Int64,p-1)  # Initialize the estimated error\n",
    "    dL = dfx(L,p)  # the 1st derivative of L\n",
    "    for i in 1:length(e_p)\n",
    "        # e[k]        =                  - E[a^(-k)]                               /                 d[L(a^(-k))]/dz\n",
    "        e_hat[e_p[i]] = fractionmod(mod(-1*Substi(powermod(a,-(e_p[i]-1),p),E,p),p), Substi(powermod(a,-(e_p[i]-1),p),dL,p), p)\n",
    "    end\n",
    "    println(\"11. Estimated error is \", e_hat,\"\\n\")\n",
    "\n",
    "    # Estimate the codeword\n",
    "    c_hat = mod.(r' - e_hat, p)  # c = r - e\n",
    "    println(\"12. Estimated codeword is \", vec(c_hat),\"\\n\")\n",
    "    return c_hat\n",
    "end"
   ]
  },
  {
   "cell_type": "code",
   "execution_count": 73,
   "metadata": {},
   "outputs": [
    {
     "name": "stdout",
     "output_type": "stream",
     "text": [
      "1.  The chosen primitive element a = 5\n",
      "\n",
      "2.  Message m is [10, 8, 3, 6, 4, 0, 9, 12, 7, 10]\n",
      "\n",
      "3.  Codeword c is [1, 5, 16, 2, 9, 14, 11, 14, 14, 2, 7, 5, 9, 12, 1, 4]\n",
      "\n",
      "4.  Error position is [6, 10, 11]\n",
      "\n",
      "5.  Error vector is [0, 0, 0, 0, 0, 8"
     ]
    },
    {
     "name": "stdout",
     "output_type": "stream",
     "text": [
      ", 0, 0, 0, 14, 4, 0, 0, 0, 0, 0]\n",
      "\n",
      "6.  Received word is [1, 5, 16, 2, 9, 5, 11, 14, 14, 16, 11, 5, 9, 12, 1, 4]\n",
      "\n",
      "7.  Syndrome polynomial S(z) = 10 + 15*z + 15*z^2 + 10*z^3 + 11*z^5\n",
      "\n",
      "8.  Locator polynomial L(z) = 6 + 11*z + 15*z^2 + 6*z^3\n",
      "\n",
      "9.  Error evaluator polynomial E(z) = 9 + 13*z + 14*z^2\n",
      "\n"
     ]
    },
    {
     "name": "stdout",
     "output_type": "stream",
     "text": [
      "10. Estimated error position is [6, 10, 11]\n",
      "\n",
      "11. Estimated error is [0, 0, 0, 0, 0, 8, 0, 0, 0, 14, 4, 0, 0, 0, 0, 0]\n",
      "\n",
      "12. Estimated codeword is [1, 5, 16, 2, 9, 14, 11, 14, 14, 2, 7, 5, 9, 12, 1, 4]\n",
      "\n"
     ]
    }
   ],
   "source": [
    "# Test\n",
    "p = 17\n",
    "n = 16\n",
    "d = 7\n",
    "t = floor(Int,(d-1)/2)\n",
    "k = k_generator(p,d)\n",
    "a = a_generator(p)\n",
    "m,c = RSNum_Enc(p,k,a)\n",
    "r = RSNum_Channel(p,d,c,t)\n",
    "S = RSNum_Syndrome(p,n,k,a,r)\n",
    "E, L = RSNum_KeyPolys(S,p,d,t)\n",
    "RSNum_Err(p,a,r,L,E)\n",
    "nothing"
   ]
  },
  {
   "cell_type": "markdown",
   "metadata": {},
   "source": [
    "## 8. Recover the message \n",
    "With the estimated codeword $\\hat{c}$, the estimated message $\\hat{m}$ can be recovered. Since the original message $m$ is converted to $c$ by $m*G=c$, it can be converted back by $m=cG^{-1}$, hence $\\hat{m}=\\hat{c}G^{-1}$\n",
    "\n",
    "Obviously, we can directly take the inverse of $G$, which is $inv(G)$, and get the result. However, elements in the result of $inv(G)$ are float point numbers, which cannot be applied modulation. Therefore, we designed a function 'myinv', which is our own matrix inverse function to apply modulation to matrix elements during calculation.\n",
    "\n",
    "But, this function also has a problem, which will be explained later."
   ]
  },
  {
   "cell_type": "code",
   "execution_count": 74,
   "metadata": {},
   "outputs": [
    {
     "data": {
      "text/plain": [
       "inv_with_mod"
      ]
     },
     "metadata": {},
     "output_type": "display_data"
    }
   ],
   "source": [
    "## Abandoned method, explained bellow this block. Just for demonstration\n",
    "## !!!!!!!!!!!!!!!!!!!!!!!!!!!!!!!!!!!!!!!!!!!!!!!!!!!!!!!!!!!!!!!!!!!!!\n",
    "\n",
    "using LinearAlgebra\n",
    "\n",
    "\n",
    "\"\"\"\n",
    "    inv_with_mod(Mat,p)\n",
    "\n",
    "    Our own function for matrix inverse\n",
    "\"\"\"\n",
    "function inv_with_mod(Mat,p)\n",
    "    L = LinearAlgebra.checksquare(Mat)  # Check whether matrix A is a square matrix, if true, return its size\n",
    "    Co = zeros(Int64,L,L)  # Cofactor \n",
    "    \n",
    "    for i = 1:L\n",
    "        # Use the elimination matrix to eliminate  the row or column of A to get the minor\n",
    "        El = fill(true,L)  # El has L elements with type true\n",
    "        El[i] = false  # Set the ith element to be false, which can eliminate the ith row or column\n",
    "        Mi1 = Mat[:,El]  # Mi1 is used to find the minor, here, the ith column of A is eliminated\n",
    "\n",
    "        for n = 1:L\n",
    "            El = fill(true,L)\n",
    "            El[n] = false  # Set the nth element to be false, which can eliminate the nth row or column\n",
    "            Mi = Mi1[El,:]  # Mi is the minor, here, the nth column of Mi1 is eliminated, which means that Mi is the matrix that eliminate the ith column and nth row of A\n",
    "\n",
    "            # Find each element of the Cofactor matrix\n",
    "            Co[n,i] = mod((-1)^(n+i)*round(det(Mi)),p)  # Use round(det(Mi)) because det() return float point numbers, e.g. 3.0000000000000001\n",
    "        end\n",
    "    end\n",
    "    return mod.(fractionmod(1,round(det(Mat)),p)*Co, p)  # Multiply 1/det(A) with the Cofactor matrix, the inverse of A is found\n",
    "end"
   ]
  },
  {
   "cell_type": "code",
   "execution_count": 75,
   "metadata": {},
   "outputs": [
    {
     "data": {
      "text/plain": [
       "31×31 Matrix{Int64}:\n",
       " 43  30  24  20   9  60  17  22  29  …  19  43   8  45   2  14  39   7   4\n",
       "  3  33  32  49  22  13  53   3  39     46   8  26  36  52  51  49   5  35\n",
       " 27  27  40  18  16  56  56  47   3     13  32  41  24  11  55  40  48  47\n",
       " 14  27  38  53  42  55  17  54   8     34  58  36  44  43  13  36   5  36\n",
       " 25  57  45  56   8  40   6  35  28     51  18  20  15  22   7   9   6  27\n",
       "  7  18  42  29  12  29  21  15  28  …  28  27  46  16  47  11   0  44  10\n",
       " 11  34  21   3  47  23  45  55  50     20  39  21  25  54  23  38   8  40\n",
       "  8  41  28  31  47  26   0  60   1     18  39  10  32  27  12  15  42  31\n",
       " 52  60  15   3  29  22  35  23  42     52   3  59   7  52  59  58  45   2\n",
       " 48   7   0   7  54  10  20  59  35     18   4   7   3   3  13  44  21  39\n",
       "  ⋮                   ⋮              ⋱               ⋮                   ⋮\n",
       " 21  43  17  33  36  56  40  48  19      0  11  21  27   9  28  48  47  37\n",
       " 56   4  26  49  17  50  17  55   0     19  37  60  37  54  38  38  35  17\n",
       " 40  41  45  10  35  31  19  51  42     58  52  45  54  14  19  19  57  22\n",
       " 53  39  43  18  39   1  26   7   7  …  49  45  38  23   0  28  19  54  32\n",
       " 20   2  18  41  54  30  52  22  26     36  32  18  16  50  24  14  19  43\n",
       " 54  20  60   3  40  27  51  30  19     28  59  44  42   7   8  24  25   7\n",
       " 31  23  16  40  45   1  36  20  52     28  22  41  24  17  41  20  45   3\n",
       " 38  59  35   0  32  58  20  42  28      0   0  51   5  46   0  13  36  15\n",
       " 38  16  34  52   2  45  36  57  10  …  17  35  24  12  23  33  36   4  47"
      ]
     },
     "metadata": {},
     "output_type": "display_data"
    }
   ],
   "source": [
    "# Test\n",
    "Mat = [1 5 25 3 15 14 9 45 42 27 13 4 20 39 12 60 56 36 58 46 47 52 16 19 34 48 57 41 22 49 1;  # Mat is a 31×31 Matrix\n",
    "     1 8 3 24 9 11 27 33 20 38 60 53 58 37 52 50 34 28 41 23 1 8 3 24 9 11 27 33 20 38 60; \n",
    "     1 25 15 9 42 13 20 12 56 58 47 16 34 57 22 1 25 15 9 42 13 20 12 56 58 47 16 34 57 22 1; \n",
    "     1 3 9 27 20 60 58 52 34 41 1 3 9 27 20 60 58 52 34 41 1 3 9 27 20 60 58 52 34 41 1; \n",
    "     1 15 42 20 56 47 34 22 25 9 13 12 58 16 57 1 15 42 20 56 47 34 22 25 9 13 12 58 16 57 1; \n",
    "     1 24 27 38 58 50 41 8 9 33 60 37 34 23 3 11 20 53 52 28 1 24 27 38 58 50 41 8 9 33 60; \n",
    "     1 59 4 53 16 29 3 55 12 37 48 26 9 43 36 50 22 17 27 7 47 28 5 51 20 21 19 23 15 31 60; \n",
    "     1 9 20 58 34 1 9 20 58 34 1 9 20 58 34 1 9 20 58 34 1 9 20 58 34 1 9 20 58 34 1; \n",
    "     1 11 60 50 1 11 60 50 1 11 60 50 1 11 60 50 1 11 60 50 1 11 60 50 1 11 60 50 1 11 60; \n",
    "     1 42 56 34 25 13 58 57 15 20 47 22 9 12 16 1 42 56 34 25 13 58 57 15 20 47 22 9 12 16 1; \n",
    "     1 33 52 8 20 50 3 38 34 24 60 28 9 53 41 11 58 23 27 37 1 33 52 8 20 50 3 38 34 24 60; \n",
    "     1 4 16 3 12 48 9 36 22 27 47 5 20 19 15 60 57 45 58 49 13 52 25 39 34 14 56 41 42 46 1; \n",
    "     1 43 19 24 56 29 27 2 25 38 48 51 58 54 4 50 15 35 41 55 47 8 39 30 9 21 49 33 16 17 60; \n",
    "     1 32 48 11 47 40 60 29 13 50 14 21 1 32 48 11 47 40 60 29 13 50 14 21 1 32 48 11 47 40 60; \n",
    "     1 12 22 20 57 13 34 42 16 9 47 15 58 25 56 1 12 22 20 57 13 34 42 16 9 47 15 58 25 56 1; \n",
    "     1 53 3 37 9 50 27 28 20 23 60 8 58 24 52 11 34 33 41 38 1 53 3 37 9 50 27 28 20 23 60; \n",
    "     1 21 14 50 13 29 60 40 47 11 48 32 1 21 14 50 13 29 60 40 47 11 48 32 1 21 14 50 13 29 60; \n",
    "     1 58 9 34 20 1 58 9 34 20 1 58 9 34 20 1 58 9 34 20 1 58 9 34 20 1 58 9 34 20 1; \n",
    "     1 46 42 41 56 14 34 39 25 52 13 49 58 45 57 60 15 19 20 5 47 27 22 36 9 48 12 3 16 4 1; \n",
    "     1 37 27 23 58 11 41 53 9 28 60 24 34 38 3 50 20 8 52 33 1 37 27 23 58 11 41 53 9 28 60; \n",
    "     1 47 13 1 47 13 1 47 13 1 47 13 1 47 13 1 47 13 1 47 13 1 47 13 1 47 13 1 47 13 1; \n",
    "     1 2 4 8 16 32 3 6 12 24 48 35 9 18 36 11 22 44 27 54 47 33 5 10 20 40 19 38 15 30 60; \n",
    "     1 10 39 24 57 21 27 26 16 38 14 18 58 31 5 50 12 59 41 44 13 8 19 7 9 29 46 33 25 6 60; \n",
    "     1 16 12 9 22 47 20 15 57 58 13 25 34 56 42 1 16 12 9 22 47 20 15 57 58 13 25 34 56 42 1; \n",
    "     1 19 56 27 25 48 58 4 15 41 47 39 9 49 16 60 42 5 34 36 13 3 57 46 20 14 22 52 12 45 1; \n",
    "     1 30 46 38 42 40 41 10 56 33 14 54 34 44 39 11 25 18 52 35 13 24 49 6 58 32 45 8 57 2 60; \n",
    "     1 48 47 60 13 14 1 48 47 60 13 14 1 48 47 60 13 14 1 48 47 60 13 14 1 48 47 60 13 14 1; \n",
    "     1 28 52 53 20 11 3 23 34 37 60 33 9 8 41 50 58 38 27 24 1 28 52 53 20 11 3 23 34 37 60; \n",
    "     1 18 19 37 56 32 27 59 25 23 48 10 58 7 4 11 15 26 41 6 47 53 39 31 9 40 49 28 16 44 60; \n",
    "     1 49 22 41 57 48 34 19 16 52 47 46 58 36 56 60 12 39 20 4 13 27 42 45 9 14 15 3 25 5 1; \n",
    "     1 54 49 23 22 29 41 18 57 28 48 30 34 6 19 50 16 10 52 2 47 37 46 44 58 21 36 53 56 35 60]\n",
    "p = 61\n",
    "inv_with_mod(Mat,p)"
   ]
  },
  {
   "cell_type": "markdown",
   "metadata": {},
   "source": [
    "However, the above method is abandoned. The reason is that the result of det(A) is not precise as well. When the result of det(A) is very large, e.g. the Matrix A used in #Test in the above block, the determinant of A is -3.449251804558317e54, which is not precise.\n",
    "\n",
    "Therefore, we decide to use Gaussian Elimination to calculate the estimated m, $\\hat{m}G=\\hat{c}$. Since the Gaussian Elimination should be in the form of $Ax = b$, transpose is taken, $G^{T}\\hat{m}^{T}=\\hat{c}^{T}$.\n",
    "\n",
    "In our function 'Gaussian_Elimination', for $Ax = b$, the steps can be described as,\n",
    "1. Eliminate the 1st element of the 2nd row, the 3rd row, ..., the last row, by subtracting the 1st row * an appropriate factor. Then, eliminate the 2nd element of the 3rd row, the 4th row, ..., the last row, by subtracting the 2nd row * an appropriate factor. Repeat these steps, until the matrix A becomes an upper-triangular matrix. The same linear transformation should also be applied to b.\n",
    "2. In the last row, we can get $A[L,L]*x[L]=b[L]$, hence $x[L] = b[L]/A[L,L]$. Substitute $x[L]$ to the second row from the bottom, $x[L-1]$ can be found. Then, substitute $x[L]$ and $x[L-1]$ to the third row from the bottom, $x[L-2]$ can be found. Repeat the substitution, each element of x can be calculated."
   ]
  },
  {
   "cell_type": "code",
   "execution_count": 76,
   "metadata": {},
   "outputs": [
    {
     "data": {
      "text/plain": [
       "RSNum_Message"
      ]
     },
     "metadata": {},
     "output_type": "display_data"
    }
   ],
   "source": [
    "\"\"\"\n",
    "    Gaussian_Elimination(A,b,p)\n",
    "\n",
    "    Function for Gaussian Elimination\n",
    "\"\"\"\n",
    "function Gaussian_Elimination(A,b,p)\n",
    "    L = LinearAlgebra.checksquare(A)  # Check whether matrix A is a square matrix, if true, return its size\n",
    "    x = zeros(Int64,L,1)  # Initialize x, Ax = b, target is to solve x\n",
    "    \n",
    "    # Gaussian Elimination, transfer A to an upper-triangular matrix\n",
    "    for i in 1:L-1\n",
    "       for j in i+1:L\n",
    "          a = fractionmod(A[j,i],A[i,i],p)  # a = A[j,i]/A[i,i]\n",
    "          for k in i+1:L\n",
    "             A[j,k] = mod(A[j,k] - A[i,k] * a, p)  # Multiply the ith row with a, use jth row to subtract it\n",
    "          end\n",
    "          A[j,i] = 0  # After multiplying the ith row with a, the ith element of the jth row becomes the same as the ith element of the ith row, hence the result of subtraction is 0\n",
    "          \n",
    "          b[j] = mod(b[j] - b[i] * a,p)    #  Apply the same thing to b\n",
    "       end\n",
    "    end\n",
    "    \n",
    "    # Substitution, now we have an upper-triangular matrix A times x equals to b (A and b are different from the original A and b)\n",
    "    x[L] = mod(fractionmod(b[L],A[L,L],p),p)  # Find x[L]\n",
    "    \n",
    "    # Substitute x[L], x[L-1],...,x[i+1] to calculate x[i]\n",
    "    for i in L-1:-1:1\n",
    "       sum = 0;\n",
    "       for j in i+1:L\n",
    "          sum = mod(sum + A[i,j] * x[j],p)   \n",
    "       end\n",
    "       x[i] = mod(fractionmod(b[i]-sum,A[i,i],p),p)\n",
    "    end\n",
    "    return x\n",
    "end\n",
    " \n",
    " \n",
    " \n",
    "\"\"\"\n",
    "    RSNum_Message(p,k,a,c)\n",
    " \n",
    "    Function to recover message m from the codeword c\n",
    "\"\"\"\n",
    "function RSNum_Message(p,k,a,c)\n",
    "    # Initialize the generator matrix\n",
    "    G = zeros(Int64,k,p-1)  \n",
    "    for i in 1:k\n",
    "        for j in 1:p-1\n",
    "            G[i,j] = powermod(a,(i-1)*(j-1),p)\n",
    "        end\n",
    "    end\n",
    "\n",
    "    # Randomly choose k columns of the generator matrix G, make it become a square matrix\n",
    "    index = sort(sample(collect(1:p-1),k,replace=false),by=abs)\n",
    "\n",
    "    # take the transpose since Gaussian Elimination should be in the form of Ax = b\n",
    "    G_T = (G[:,index])'\n",
    "\n",
    "    # Choose the corresponding elements of c_hat\n",
    "    c_hat = c[index]\n",
    "\n",
    "    # Use Gaussian Elimination to find the result, we have the function G_T * m_hat = c_hat (m and c are vectors, hence no need to take their transpose in code)\n",
    "    m_hat = vec(Gaussian_Elimination(G_T,c_hat,p))\n",
    "    println(\"13. Estimated message is \", m_hat,\"\\n\")\n",
    "    return m_hat\n",
    "end"
   ]
  },
  {
   "cell_type": "code",
   "execution_count": 77,
   "metadata": {},
   "outputs": [
    {
     "name": "stdout",
     "output_type": "stream",
     "text": [
      "1.  The chosen primitive element a = 12\n",
      "\n",
      "2.  Message m is [15, 1, 14, 12, 2, 3, 13, 4, 2, 10]\n",
      "\n",
      "3.  Codeword c is [8, 0, 6, 3, 0, 2, 14, 11, 16, 14, 16, 14, 1, 4, 7, 5]\n",
      "\n",
      "4.  Error position is "
     ]
    },
    {
     "name": "stdout",
     "output_type": "stream",
     "text": [
      "[5, 7, 9]\n",
      "\n",
      "5.  Error vector is [0, 0, 0, 0, 12, 0, 14, 0, 15, 0, 0, 0, 0, 0, 0, 0]\n",
      "\n",
      "6.  Received word is [8, 0, 6, 3, 12, 2, 11, 11, 14, 14, 16, 14, 1, 4, 7, 5]\n",
      "\n",
      "7.  Syndrome polynomial S(z) = 16 + 8*z + 9*z^2 + 13*z^3 + 11*z^4 + 15*z^5\n",
      "\n",
      "8.  Locator polynomial L(z) = 2 + 6"
     ]
    },
    {
     "name": "stdout",
     "output_type": "stream",
     "text": [
      "*z + 5*z^2 + z^3\n",
      "\n",
      "9.  Error evaluator polynomial E(z) = 15 + 10*z + 10*z^2\n",
      "\n",
      "10. Estimated error position is [5, 7, 9]\n",
      "\n",
      "11. Estimated error is [0, 0, 0, 0, 12, 0, 14, 0, 15, 0, 0, 0, 0, 0, 0, 0]\n",
      "\n",
      "12. Estimated codeword is [8, 0, 6, 3, 0, 2, 14, 11, 16, 14, 16, 14, 1, 4, 7, 5]\n",
      "\n"
     ]
    },
    {
     "name": "stdout",
     "output_type": "stream",
     "text": [
      "13. Estimated message is [15, 1, 14, 12, 2, 3, 13, 4, 2, 10]\n",
      "\n"
     ]
    }
   ],
   "source": [
    "# Test\n",
    "p = 17\n",
    "n = 16\n",
    "d = 7\n",
    "t = floor(Int,(d-1)/2)\n",
    "k = k_generator(p,d)\n",
    "a = a_generator(p)\n",
    "m,c = RSNum_Enc(p,k,a)\n",
    "r = RSNum_Channel(p,d,c,t)\n",
    "S = RSNum_Syndrome(p,n,k,a,r)\n",
    "E, L = RSNum_KeyPolys(S,p,d,t)\n",
    "c_hat = RSNum_Err(p,a,r,L,E)\n",
    "RSNum_Message(p,k,a,c_hat)\n",
    "nothing"
   ]
  },
  {
   "cell_type": "markdown",
   "metadata": {},
   "source": [
    "## 9.  Decoding process\n",
    "Implement the procedures above to complete the whole decoding process."
   ]
  },
  {
   "cell_type": "code",
   "execution_count": 78,
   "metadata": {},
   "outputs": [
    {
     "data": {
      "text/plain": [
       "RSNum_Dec"
      ]
     },
     "metadata": {},
     "output_type": "display_data"
    }
   ],
   "source": [
    "\"\"\"\n",
    "    RSNum_Dec(p,n,k,d,a,r)\n",
    "\n",
    "    Decoding function, combine steps 5-8\n",
    "\"\"\"\n",
    "function RSNum_Dec(p,n,k,d,a,r)\n",
    "    S = RSNum_Syndrome(p,n,k,a,r)\n",
    "    E, L = RSNum_KeyPolys(S,p,d,t)\n",
    "    c_hat = RSNum_Err(p,a,r,L,E)\n",
    "    m_hat = RSNum_Message(p,k,a,c_hat)\n",
    "    return m_hat\n",
    "end"
   ]
  },
  {
   "cell_type": "code",
   "execution_count": 79,
   "metadata": {},
   "outputs": [
    {
     "name": "stdout",
     "output_type": "stream",
     "text": [
      "1.  The chosen primitive element a = 14\n",
      "\n",
      "2.  Message m is [13, 6, 7, 9, 6, 8, 14, 5, 11, 7]\n",
      "\n",
      "3.  Codeword c is [1, 1, 15, 0, 15, 4, 16, 6, 16, 8,"
     ]
    },
    {
     "name": "stdout",
     "output_type": "stream",
     "text": [
      " 9, 4, 3, 1, 15, 9]\n",
      "\n",
      "4.  Error position is [7, 13, 16]\n",
      "\n",
      "5.  Error vector is [0, 0, 0, 0, 0, 0, 10, 0, 0, 0, 0, 0, 8, 0, 0, 4]\n",
      "\n",
      "6.  Received word is [1, 1, 15, 0, 15, 4, 9, 6, 16, 8, 9, 4, 11, 1, 15, 13]\n"
     ]
    },
    {
     "name": "stdout",
     "output_type": "stream",
     "text": [
      "\n",
      "7.  Syndrome polynomial S(z) = 5 + 6*z + 10*z^2 + 14*z^3 + 7*z^4 + z^5\n",
      "\n",
      "8.  Locator polynomial L(z) = 16 + 13*z + 3*z^2 + 14*z^3\n",
      "\n",
      "9.  Error evaluator polynomial E(z) = 12 + 8*z + 15*z^2\n",
      "\n",
      "10. Estimated error position is [7, 13, 16]\n",
      "\n",
      "11. Estimated error is [0, 0, 0, 0, 0, 0, 10, 0, 0, 0, 0, 0, 8, 0, 0, 4]\n",
      "\n",
      "12. Estimated codeword is [1, 1, "
     ]
    },
    {
     "name": "stdout",
     "output_type": "stream",
     "text": [
      "15, 0, 15, 4, 16, 6, 16, 8, 9, 4, 3, 1, 15, 9]\n",
      "\n",
      "13. Estimated message is [13, 6, 7, 9, 6, 8, 14, 5, 11, 7]\n",
      "\n"
     ]
    }
   ],
   "source": [
    "# Test\n",
    "p = 17\n",
    "n = 16\n",
    "d = 7\n",
    "t = floor(Int,(d-1)/2)\n",
    "k = k_generator(p,d)\n",
    "a = a_generator(p)\n",
    "m,c = RSNum_Enc(p,k,a)\n",
    "r = RSNum_Channel(p,d,c,t)\n",
    "RSNum_Dec(p,n,k,d,a,r)\n",
    "nothing"
   ]
  },
  {
   "cell_type": "markdown",
   "metadata": {},
   "source": [
    "## 10.  Final Function\n",
    "The final combined function."
   ]
  },
  {
   "cell_type": "code",
   "execution_count": 80,
   "metadata": {},
   "outputs": [
    {
     "data": {
      "text/plain": [
       "RSNum"
      ]
     },
     "metadata": {},
     "output_type": "display_data"
    }
   ],
   "source": [
    "\"\"\"\n",
    "    RSNum(p,n,k,d)\n",
    "\n",
    "    Final function\n",
    "\"\"\"\n",
    "function RSNum(p,n,k,d,t)\n",
    "    if isprime(p) == false\n",
    "        println(\"p is not a prime number. Please change the value of p.\\n\")\n",
    "        return \"Warning\"\n",
    "    end\n",
    "\n",
    "    # Randomly choose a primitive element from the set\n",
    "    a = a_generator(p)\n",
    "\n",
    "    # Generate the message and codeword\n",
    "    m, c = RSNum_Enc(p,k,a)\n",
    "\n",
    "    # Generate noise and add this noise to the codeword\n",
    "    r = RSNum_Channel(p,d,c,t)\n",
    "\n",
    "    # Recover the message\n",
    "    m_hat = RSNum_Dec(p,n,k,d,a,r)\n",
    "\n",
    "    # Check the correctness\n",
    "    if m == m_hat\n",
    "        println(\"🙂🙂🙂 Recovery Successful 🙂🙂🙂\\n\")\n",
    "        flag = true\n",
    "    else\n",
    "        println(\"!!!!! Fail to recover message m !!!!!\\n\")\n",
    "        flag = false\n",
    "    end\n",
    "\n",
    "    println(\"Put original message and estimated message together to compare:\")\n",
    "    println(m)\n",
    "    println(m_hat)\n",
    "    return flag\n",
    "end"
   ]
  },
  {
   "cell_type": "code",
   "execution_count": 81,
   "metadata": {},
   "outputs": [
    {
     "name": "stdout",
     "output_type": "stream",
     "text": [
      "1.  The chosen primitive element a = 10\n",
      "\n",
      "2.  Message m is [11, 13, 15, 12, 13, 16, 8, 10, 10, 16]\n",
      "\n",
      "3.  Codeword c is [5, 5, 11, 5, 1, 15, 8, 7, 7, 15, 10, 12, 4, 7, 3, 10]\n",
      "\n",
      "4.  Error position is [1, 10"
     ]
    },
    {
     "name": "stdout",
     "output_type": "stream",
     "text": [
      ", 12]\n",
      "\n",
      "5.  Error vector is [4, 0, 0, 0, 0, 0, 0, 0, 0, 11, 0, 3, 0, 0, 0, 0]\n",
      "\n",
      "6.  Received word is [9, 5, 11, 5, 1, 15, 8, 7, 7, 9, 10, 15, 4, 7, 3, 10]\n",
      "\n",
      "7.  Syndrome polynomial S(z) = 5 + 9*z + 16*z^2 + 2*z^3 + 4*z^4 + 12*z^5\n",
      "\n",
      "8.  Locator polynomial L(z) = 16 + 11*z + 3*z^2 + 4*z^3\n",
      "\n",
      "9.  Error evaluator polynomial E(z) = 12 + 12*z + 13*z^2\n",
      "\n",
      "10. Estimated error position is [1, 10, 12]\n",
      "\n",
      "11. Estimated error is [4, 0, 0, 0, 0, 0, 0, 0, 0, 11, 0, 3, 0, 0, 0, 0]\n",
      "\n",
      "12. Estimated codeword is [5, 5, 11, 5"
     ]
    },
    {
     "name": "stdout",
     "output_type": "stream",
     "text": [
      ", 1, 15, 8, 7, 7, 15, 10, 12, 4, 7, 3, 10]\n",
      "\n",
      "13. Estimated message is [11, 13, 15, 12, 13, 16, 8, 10, 10, 16]\n",
      "\n",
      "🙂🙂🙂 Recovery Successful 🙂🙂🙂\n",
      "\n",
      "Put original message and estimated message together to compare:\n",
      "[11, 13, 15, 12, 13, 16, 8, 10, 10, 16]\n",
      "[11, 13, 15, 12, 13, 16, 8, 10, 10, 16]\n"
     ]
    }
   ],
   "source": [
    "# Test\n",
    "p = 17\n",
    "n = p-1\n",
    "d = 7\n",
    "t = floor(Int,(d-1)/2)\n",
    "k = n-d+1\n",
    "RSNum(p,n,k,d,t)\n",
    "nothing"
   ]
  },
  {
   "cell_type": "markdown",
   "metadata": {},
   "source": [
    "### Explanation for the result above\n",
    "\n",
    "The whole process of RS code is:\n",
    "\n",
    "1. Determine basic parameters $p$, $n$, $k$, $d$, where $n=p-1, d=n-k+1$\n",
    "2. Randomly choose a primitive element in $\\mathbb{F}_{p}$, which is shown in the above result (1)\n",
    "3. Generate message randomly, shown in result (2)\n",
    "4. Based on this message, find code codeword $c$, shown in result (3)\n",
    "5. Then, this codeword is transfer through the channel, and random noise is added to the codeword. The position of errors is in result (4), the error vector is in result (5). Also, the received word is in result (6).\n",
    "6. Based on the received word, syndrome polynomial is shown in result (7), calculated by $s=y*H'$, where H is the parity-check matrix.\n",
    "7. Then, use the syndrome polynomial to find locator polynomial $L(z)$ and error evaluator polynomial $E(z)$, shown in result (8) and (9), respectively.\n",
    "8. Use $L(z)$ and $E(z)$ to estimate the error positions and error vector, shown in result (10) and (11), respectively.\n",
    "9. Use $c = r - e$ to estimate the codeword, shown in result (11).\n",
    "10. Finally, use Gaussian Elimination to recover the message from the codeword using the equation $m * G = c$ or in the standard form $G^T * m^T = c^T$.\n",
    "\n",
    "Obviously, the estimated vectors are precisely the same as the original ones. The result demonstrates that our implementation is correct."
   ]
  },
  {
   "cell_type": "markdown",
   "metadata": {},
   "source": [
    "### 3.1.2 RS Codes on $\\mathbb{F}_{p}$\n",
    "\n",
    "The above code should work well for other choices of $p$, $\\alpha$, $[n,k,d]$. Try another $p$ with $30<p<100$ and demonstrate the correctness of your code. "
   ]
  },
  {
   "cell_type": "markdown",
   "metadata": {},
   "source": [
    "This is the same as 3.1.1, just change the value of p and d."
   ]
  },
  {
   "cell_type": "code",
   "execution_count": 82,
   "metadata": {},
   "outputs": [
    {
     "name": "stdout",
     "output_type": "stream",
     "text": [
      "1.  The chosen primitive element a = 21\n",
      "\n",
      "2.  Message m is [34, 90, 72, 87, 84, 3"
     ]
    },
    {
     "name": "stdout",
     "output_type": "stream",
     "text": [
      ", 53, 2, 86, 28, 15, 86, 67, 32, 26, 55, 78, 89, 78, 40, 3, 79, 31, 16, 30, 59, 34, 96, 42, 19, 23, 74, 67, 63, 24, 67, 91, 8, 85, 26, 16, 30, 69, 10, 25, 43, 25, 24, 23, 17, 32, 87, 6, 63, 65, 49, 92, 23, 13, 89, 90, 59, 42, 75, 21, 48, 28]\n",
      "\n",
      "3.  Codeword c is [5, 75, 63, 18, 1, 20, 55, 84, 19, 54, 65, 24, 53, 36, 90, 5, 8, 78, 57, 31, 1, 89, 39, 7, 93, 86, 69, 40, 53, 72, 61, 38, 65, 40, 54, 81, 30, 55, 23, 35, 72, 33, 53, 83, 48, 79, 81, 15, 31, 67, 38, 85, 45, 34, 68, 96, 3, 42, 54, 65, 6, 77, 35, 61, 86, 61, 62, 28, 28, 82, 58, 67, 90, 93, 4, 60, 64, 21, 75, 37, 25, 88, 14, 25, 67, 81, 6, 30, 31, 81, 46, 89, 0, 13, 60, 4]\n",
      "\n",
      "4.  Error position is "
     ]
    },
    {
     "name": "stdout",
     "output_type": "stream",
     "text": [
      "[5, 6, 12, 13, 29, 45, 47, 53, 62, 64, 70, 72, 94, 95]\n",
      "\n",
      "5.  Error vector is [0, 0, 0, 0, 73, 27, 0, 0, 0, 0, 0, 96, 35, 0, 0, 0, 0, 0, 0, 0, 0, 0, 0, 0, 0, 0, 0, 0, 31, 0, 0, 0, 0, 0, 0, 0, 0, 0, 0, 0, 0, 0, 0, 0, 67, 0, 17, 0, 0, 0, 0, 0, 30, 0, 0, 0, 0, 0, 0, 0, 0, 68, 0, 50, 0, 0, 0, 0, 0, 32,"
     ]
    },
    {
     "name": "stdout",
     "output_type": "stream",
     "text": [
      " 0, 45, 0, 0, 0, 0, 0, 0, 0, 0, 0, 0, 0, 0, 0, 0, 0, 0, 0, 0, 0, 0, 0, 13, 3, 0]\n",
      "\n",
      "6.  Received word is [5, 75, 63, 18, 74, 47, 55, 84, 19, 54, 65, 23, 88, 36, 90, 5, 8, 78, 57, 31, 1, 89, 39, 7, 93, 86, 69, 40, 84, 72, 61, 38, 65, 40, 54, 81, 30, 55, 23, 35, 72, 33, 53, 83, 18, 79, 1, 15, 31, 67, 38, 85, 75, 34, 68, 96, 3, 42, 54, 65, 6, 48, 35, 14, 86, 61, 62, 28, 28, 17, 58, 15, 90, 93, 4, 60, 64, 21, 75, 37, 25, 88, 14, 25, 67, 81, 6, 30, 31, 81, 46, 89, 0, 26, 63, 4]\n",
      "\n",
      "7.  Syndrome polynomial S(z) = 59 + 61*z + 36*z^2 + 25*z^3 + 68*z^4 + 78*z^5 + 90*z^6 + 51*z^7 + 9*z^8 + 66*z^9 + 25*z^10 + 86*z^11 + 73*z^12 + 69*z^13 + 15*z^14 + 87*z^15 + 52*z^16 + 70*z^17 + 3*z^18 + 18*z^19 + 20*z^20 + 96*z^21 + 76*z^22 + 64*z^23 + 19*z^24 + 68*z^25 + 64*z^26 + 53*z^27 + 56*z^28\n",
      "\n",
      "8.  Locator polynomial L(z) = 96 + 59*z + 52*z^3 + 38*z^4 + 44*z^5 + 13*z^6 + 84*z^7 + 15*z^8 + 9*z^9 + 66*z^10 + 39*z^11 + 35*z^12 + 47*z^13 + 92*z^14\n",
      "\n",
      "9.  Error evaluator polynomial E(z) = 38 + 25*z + 71*z^2 + 26*z^3 + 31*z^4 + 50*z^5 + 58*z^6 + 6*z^7 + 48*z^8 + 85*z^9 + 70*z^11 + 34*z^12 + 25*z^13\n",
      "\n",
      "10. Estimated error position is [5"
     ]
    },
    {
     "name": "stdout",
     "output_type": "stream",
     "text": [
      ", 6, 12, 13, 29, 45, 47, 53, 62, 64, 70, 72, 94, 95]\n",
      "\n",
      "11. Estimated error is [0, 0, 0, 0, 73, 27, 0, 0, 0, 0, 0, 96, 35, 0, 0, 0, 0, 0, 0, 0, 0, 0, 0, 0, 0, 0, 0, 0, 31, 0, 0, 0, 0, 0, 0, 0, 0, 0, 0, 0, 0, 0, 0, 0, 67, 0, 17, 0, 0, 0, 0, 0, 30, 0, 0, 0, 0, 0, 0, 0, 0, 68, "
     ]
    },
    {
     "name": "stdout",
     "output_type": "stream",
     "text": [
      "0, 50, 0, 0, 0, 0, 0, 32, 0, 45, 0, 0, 0, 0, 0, 0, 0, 0, 0, 0, 0, 0, 0, 0, 0, 0, 0, 0, 0, 0, 0, 13, 3, 0]\n",
      "\n",
      "12. Estimated codeword is [5, 75, 63, 18, 1, 20, 55, 84, 19, 54, 65, 24, 53, 36, 90, 5, 8, 78, 57, 31, 1, 89, 39, 7, 93, 86, 69, 40, 53, 72, 61, 38, 65, 40, 54, 81, 30, 55, 23, 35, 72, 33, 53, 83, 48, 79, 81, 15, 31, 67, 38, 85, 45, 34, 68, 96, 3, 42, 54, 65, 6, 77, 35, 61, 86, 61, 62, 28, 28, 82, 58, 67, 90, 93, 4, 60, 64, 21, 75, 37, 25, 88, 14, 25, 67, 81, 6, 30, 31, 81, 46, 89, 0, 13, 60, 4]\n",
      "\n",
      "13. Estimated message is [34, 90, 72, 87, 84, 3,"
     ]
    },
    {
     "name": "stdout",
     "output_type": "stream",
     "text": [
      " 53, 2, 86, 28, 15, 86, 67, 32, 26, 55, 78, 89, 78, 40, 3, 79, 31, 16, 30, 59, 34, 96, 42, 19, 23, 74, 67, 63, 24, 67, 91, 8, 85, 26, 16, 30, 69, 10, 25, 43, 25, 24, 23, 17, 32, 87, 6, 63, 65, 49, 92, 23, 13, 89, 90, 59, 42, 75, 21, 48, 28]\n",
      "\n",
      "🙂🙂🙂 Recovery Successful 🙂🙂🙂\n",
      "\n",
      "Put original message and estimated message together to compare:\n",
      "[34, 90, 72, 87, 84, 3, 53, 2, 86, 28, 15, 86, 67, 32, 26, 55, 78, 89, 78, 40, 3, 79, 31, 16, 30, 59, 34, 96, 42, 19, 23, 74, 67, 63, 24, 67, 91, 8, 85, 26, 16, 30, 69, 10, 25, 43, 25, 24, 23, 17, 32, 87, 6, 63, 65, 49, 92, 23, 13, 89, 90, 59, 42, 75, 21, 48, 28]\n",
      "[34, 90, 72, 87, 84, 3, 53, 2, 86, 28, 15, 86, 67, 32, 26, 55, 78, 89, 78, 40, 3, 79, 31, 16, 30, 59, 34, 96, 42, 19, 23, 74, 67, 63, 24, 67, 91, 8, 85, 26, "
     ]
    },
    {
     "name": "stdout",
     "output_type": "stream",
     "text": [
      "16, 30, 69, 10, 25, 43, 25, 24, 23, 17, 32, 87, 6, 63, 65, 49, 92, 23, 13, 89, 90, 59, 42, 75, 21, 48, 28]\n"
     ]
    }
   ],
   "source": [
    "# Test\n",
    "p = 97\n",
    "d = 30\n",
    "t = floor(Int,(d-1)/2)\n",
    "n = p-1\n",
    "k = n-d+1\n",
    "RSNum(p,n,k,d,t)\n",
    "nothing"
   ]
  },
  {
   "cell_type": "code",
   "execution_count": 83,
   "metadata": {},
   "outputs": [
    {
     "name": "stdout",
     "output_type": "stream",
     "text": [
      "1.  The chosen primitive element a = 29\n",
      "\n",
      "2.  Message m is [56, 96, 5, 30, 59, 46, 67, 64, 35, 45, 51, 49, 61, 70, 85, 57, 5, 12, 33, 26, 61, 2, 48, 51, 74, 76, 50, 77, 31, 89, 64, 17, 20, 77, 54, 55"
     ]
    },
    {
     "name": "stdout",
     "output_type": "stream",
     "text": [
      ", 42, 34, 95, 40, 30, 30, 13, 31, 69, 0, 79, 85, 42, 64, 4, 50, 21, 27, 89, 91, 59, 8, 51, 83, 51, 29, 86, 56, 24, 5, 52]\n",
      "\n",
      "3.  Codeword c is [37, 4, 91, 95, 53, 50, 54, 34, 58, 62, 21, 77, 81, 85, 52, 5, 24, 91, 67, 61, 50, 51, 59, 66, 59, 10, 82, 79, 50, 5, 28, 8, 78, 3, 40, 58, 31, 45, 14, 35, 20, 42, 40, 26, 54, 24, 50, 8, 94, 67, 95, 45, 17, 72, 13, 67, 14, 11, 77, 57, 5, 83, 69, 7, 39, 49, 71, 26, 82, 30, 54, 46, 54, 15, 96, 12, 59, 58, 59, 94, 3, 23, 10, 17, 71, 26, 64, 12, 37, 27, 36, 23, 51, 63, 13, 76]\n",
      "\n",
      "4.  Error position is [4, 11, 15, 29, 31, 35, 45, 51, 58, 65, 74, 75, 79, 90, 91]\n",
      "\n",
      "5.  Error vector is [0, 0, 0, 44, 0, 0, 0, 0, 0, 0, 21, 0, 0, 0, 77, 0, 0, 0, 0, 0, 0, 0, 0, 0, 0, 0, 0, 0, 13, 0, 11, 0, 0, 0, 73, 0, 0, 0, 0, 0, 0, 0, 0, 0, 52, 0, 0, 0, 0, 0, 1, 0, 0, 0, 0, 0, 0, 82, 0, 0, 0, 0, 0, 0, 93, 0, 0, 0, 0, 0, 0, 0, 0, 93, 54, 0, 0, 0, 52, 0, 0, 0, 0"
     ]
    },
    {
     "name": "stdout",
     "output_type": "stream",
     "text": [
      ", 0, 0, 0, 0, 0, 0, 21, 80, 0, 0, 0, 0, 0]\n",
      "\n",
      "6.  Received word is [37, 4, 91, 42, 53, 50, 54, 34, 58, 62, 42, 77, 81, 85, 32, 5, 24, 91, 67, 61, 50, 51, 59, 66, 59, 10, 82, 79, 63, 5, 39, 8, 78, 3, 16, 58, 31, 45, 14, 35, 20, 42, 40, 26, 9, 24, 50, 8, 94, 67, 96, 45, 17, 72, 13, 67, 14, 93, 77, 57, 5, 83, 69, 7, 35, 49, 71, 26, 82, 30, 54, 46, 54, 11, 53, 12, 59, 58, 14, 94, 3, 23, 10, 17, 71, 26, 64, 12, 37, 48, 19, 23, 51"
     ]
    },
    {
     "name": "stdout",
     "output_type": "stream",
     "text": [
      ", 63, 13, 76]\n",
      "\n",
      "7.  Syndrome polynomial S(z) = 10 + 82*z + 61*z^2 + 43*z^3 + 60*z^4 + 87*z^5 + 48*z^6 + 14*z^7 + 24*z^8 + 16*z^9 + 46*z^11 + 33*z^12 + 85*z^13 + 61*z^14 + 27*z^15 + 43*z^16 + 40*z^17 + 21*z^18 + 91*z^19 + 31*z^20 + 21*z^21 + 55*z^22 + 29*z^23 + 11*z^24 + 89*z^25 + 65*z^26 + 63*z^28\n",
      "\n",
      "8.  Locator polynomial L(z) = 61 + 94*z + 55*z^2 + 60*z^3 + 48*z^4 + 69*z^5 + 19*z^6 + 42*z^7 + 75*z^8 + 82*z^9 + 20*z^10 + 70*z^11 + 72*z^12 + 92*z^13 + 47*z^14 + 86*z^15\n",
      "\n",
      "9.  Error evaluator polynomial E(z) = 28 + 25*z + 48*z^2 + 81*z^3 + 64*z^4 + 64*z^5 + 57*z^6 + 80*z^7 + 15*z^8 + 36*z^9 + 32*z^10 + 85*z^11 + 5*z^12 + 25*z^13\n",
      "\n",
      "10. Estimated error position is [6, 87]\n",
      "\n",
      "11. Estimated error is [0, 0, 0, 0, 0, 39, 0, 0, 0, 0, 0, 0, 0"
     ]
    },
    {
     "name": "stdout",
     "output_type": "stream",
     "text": [
      ", 0, 0, 0, 0, 0, 0, 0, 0, 0, 0, 0, 0, 0, 0, 0, 0, 0, 0, 0, 0, 0, 0, 0, 0, 0, 0, 0, 0, 0, 0, 0, 0, 0, 0, 0, 0, 0, 0, 0, 0, 0, 0, 0, 0, 0, 0, 0, 0, 0, 0, 0, 0, 0, 0, 0, 0, 0, 0, 0, 0, 0, 0, 0, 0, 0, 0, 0, 0, 0, 0, 0, 0, 0, 86, 0, 0, 0, 0, 0, 0, 0, 0, 0]\n",
      "\n",
      "12. Estimated codeword is [37, 4, 91, 42, 53, 11, 54, 34, 58, 62, 42, 77, 81, 85, 32, 5, 24, 91, 67, 61, 50, 51, 59, 66, 59, 10, 82, 79, 63, 5, 39, 8, 78, 3, 16, 58, 31, 45, 14, 35, 20, 42, 40, "
     ]
    },
    {
     "name": "stdout",
     "output_type": "stream",
     "text": [
      "26, 9, 24, 50, 8, 94, 67, 96, 45, 17, 72, 13, 67, 14, 93, 77, 57, 5, 83, 69, 7, 35, 49, 71, 26, 82, 30, 54, 46, 54, 11, 53, 12, 59, 58, 14, 94, 3, 23, 10, 17, 71, 26, 75, 12, 37, 48, 19, 23, 51, 63, 13, 76]\n",
      "\n",
      "13. Estimated message is [24, 48, 21, 94, 18, 91, 90, 3, 84, 27, 39, 44, 73, 64, 5, 75, 41, 52, 76, 94, 48, 62, 95, 74, 64, 56, 78, 12, 55, 23, 2, 66, 10, 60, 61, 9, 15, 0, 94, 85, 86, 77, 20, 45, 24, 4, 39, 82, 76, 88, 22, 89, 41, 49, 55, 3, 6, 91, 68, 8, 18, 95, 33, 67, 45, 5, 19]\n",
      "\n",
      "!!!!! Fail to recover message m !!!!!\n",
      "\n",
      "Put original message and estimated message together to compare:\n",
      "[56, 96, 5, 30, 59, 46, 67, 64, 35, 45, 51, 49, 61, 70, 85, 57, 5, 12, 33, 26, 61, 2, 48, 51, 74, 76, 50, 77, 31, 89, 64, 17, 20, 77, 54, 55, 42, 34, 95, 40, 30, 30, 13, 31, 69, 0, 79, 85, 42, 64, 4, 50, 21, 27, 89, 91, 59, 8, 51"
     ]
    },
    {
     "name": "stdout",
     "output_type": "stream",
     "text": [
      ", 83, 51, 29, 86, 56, 24, 5, 52]\n",
      "[24, 48, 21, 94, 18, 91, 90, 3, 84, 27, 39, 44, 73, 64, 5, 75, 41, 52, 76, 94, 48, 62, 95, 74, 64, 56, 78, 12, 55, 23, 2, 66, 10, 60, 61, 9, 15, 0, 94, 85, 86, 77, 20, 45, 24, 4, 39, 82, 76, 88, 22, 89, 41, 49, 55, 3, 6, 91, 68, 8, 18, 95, 33, 67, 45, 5, 19]\n"
     ]
    }
   ],
   "source": [
    "# Test\n",
    "# This result should be fail !!!!!!!!!!!!!!\n",
    "\n",
    "p = 97\n",
    "d = 30\n",
    "t = floor(Int,(d-1)/2) + 1  # If t exceed its limitation \n",
    "n = p-1\n",
    "k = n-d+1\n",
    "RSNum(p,n,k,d,t)\n",
    "nothing"
   ]
  },
  {
   "cell_type": "markdown",
   "metadata": {},
   "source": [
    "## 3.2 RS Codes on $\\mathbb{F}_{p^k}$ (50%)"
   ]
  },
  {
   "cell_type": "markdown",
   "metadata": {},
   "source": [
    "### 3.2.1 RS Codes on $\\mathbb{F}_{16}$\n",
    "\n",
    "Now we consider the finite field $\\mathbb{F}_{16} = \\mathbb{F}_2[z]/z^4 + z +1$, and an RS code $\\mathcal{C} \\subset \\mathbb{F}_{16}$ with parameters $[15,k,7]$. \n",
    "\n",
    "Repeat the steps in 3.1.1 and change the function names from `RSNum_...` to `RSPoly_...`. Provide necessary documentation. "
   ]
  },
  {
   "cell_type": "markdown",
   "metadata": {},
   "source": [
    "## 1.  Declare our basis in $\\mathbb{F}_{p^k}$"
   ]
  },
  {
   "cell_type": "code",
   "execution_count": 84,
   "metadata": {},
   "outputs": [
    {
     "data": {
      "text/plain": [
       "Table_generator"
      ]
     },
     "metadata": {},
     "output_type": "display_data"
    }
   ],
   "source": [
    "using StatsBase\n",
    "\n",
    "\n",
    "\"\"\"\n",
    "    Table_generator(q,p,f_x)\n",
    "\n",
    "    Relate the corresponding a^k with a polynomial, and the row number of Table represent the index of corresponding a^k\n",
    "\n",
    "    e.g. F2^4\n",
    "    0   0     [0 0 0 0]       8   a^7   [1 1 0 1]\n",
    "    1   a^0   [1 0 0 0]       9   a^8   [1 0 1 0]\n",
    "    2   a^1   [0 1 0 0]      10   a^9   [0 1 0 1]\n",
    "    3   a^2   [0 0 1 0]      11   a^10  [1 1 1 0]\n",
    "    4   a^3   [0 0 0 1]      12   a^11  [0 1 1 1]\n",
    "    5   a^4   [1 1 0 0]      13   a^12  [1 1 1 1]\n",
    "    6   a^5   [0 1 1 0]      14   a^13  [1 0 1 1]\n",
    "    7   a^6   [0 0 1 1]      15   a^14  [1 0 0 1]\n",
    "\"\"\"\n",
    "function  Table_generator(q,p,f_x)\n",
    "    L = getdeg(f_x)  # The length of the Table\n",
    "    Table = []\n",
    "    for i = 0:q-1\n",
    "        if i == 0  # The first row is for zero\n",
    "            pushfirst!(Table,zeros(Int64,L))\n",
    "        else  # Build the table based on 'polydiv', 1 / f_x\n",
    "            pol,~ = polydiv(prepend!([1],zeros(Int64,i-1)),f_x,p)\n",
    "            append!(pol, zeros(Int64,(L-length(pol))))  # Zero Padding\n",
    "            push!(Table,pol)\n",
    "        end\n",
    "    end\n",
    "    return Table\n",
    "end"
   ]
  },
  {
   "cell_type": "code",
   "execution_count": 85,
   "metadata": {},
   "outputs": [
    {
     "data": {
      "text/plain": [
       "16-element Vector{Any}:\n",
       " [0, 0, 0, 0]\n",
       " [1, 0, 0, 0]\n",
       " [0, 1, 0, 0]\n",
       " [0, 0, 1, 0]\n",
       " [0, 0, 0, 1]\n",
       " [1, 1, 0, 0]\n",
       " [0, 1, 1, 0]\n",
       " [0, 0, 1, 1]\n",
       " [1, 1, 0, 1]\n",
       " [1, 0, 1, 0]\n",
       " [0, 1, 0, 1]\n",
       " [1, 1, 1, 0]\n",
       " [0, 1, 1, 1]\n",
       " [1, 1, 1, 1]\n",
       " [1, 0, 1, 1]\n",
       " [1, 0, 0, 1]"
      ]
     },
     "metadata": {},
     "output_type": "display_data"
    }
   ],
   "source": [
    "# Test\n",
    "q = 16\n",
    "p = 2\n",
    "f_x = [1,1,0,0,1]  # Fq/f(x)\n",
    "Table_generator(q,p,f_x)"
   ]
  },
  {
   "cell_type": "code",
   "execution_count": 86,
   "metadata": {},
   "outputs": [
    {
     "data": {
      "text/plain": [
       "Index_to_Poly"
      ]
     },
     "metadata": {},
     "output_type": "display_data"
    }
   ],
   "source": [
    "# The bellow two functions are based on 'Table_generator', change the index to polynomials in Table or change back.\n",
    "\n",
    "\n",
    "\"\"\"\n",
    "    Poly_to_Index(x,Table)\n",
    "\n",
    "    Based on 'Table_generator', convert the polynomial in the Table to corresponding Index\n",
    "\"\"\"\n",
    "function Poly_to_Index(x,Table)\n",
    "    if x isa Vector{Any}\n",
    "        Index = zeros(Int64,length(x))\n",
    "        for j in 1:length(x)\n",
    "            for i in 1: length(Table)\n",
    "                if x[j] == Table[i]  # Check which row equals to x, output the Index\n",
    "                    Index[j] = i-1\n",
    "                end\n",
    "            end\n",
    "        end\n",
    "    elseif x isa Vector{Int}\n",
    "        for i in 1: length(Table)\n",
    "            if x == Table[i]  # Check which row equals to x, output the Index\n",
    "                Index = i-1\n",
    "            end\n",
    "        end\n",
    "    end\n",
    "    return Index\n",
    "end\n",
    "\n",
    "\n",
    "\n",
    "\"\"\"\n",
    "    Index_to_Poly(Index,Table)\n",
    "\n",
    "    Based on 'Table_generator', convert the Index in the Table to corresponding polynomial\n",
    "\"\"\"\n",
    "function Index_to_Poly(Index,Table)\n",
    "    if Index isa Int64\n",
    "        return Table[Mod_Poly(Index,length(Table))+1]  # Output the row based on the Index\n",
    "    else   # if x_dec is a vector\n",
    "        x = []\n",
    "        for i = 1:length(Index)\n",
    "            push!(x,Table[Mod_Poly(Index[i],length(Table))+1])  # Output the row based on the Index\n",
    "        end\n",
    "    end\n",
    "    return x\n",
    "end"
   ]
  },
  {
   "cell_type": "code",
   "execution_count": 87,
   "metadata": {},
   "outputs": [
    {
     "data": {
      "text/plain": [
       "Mod_Poly"
      ]
     },
     "metadata": {},
     "output_type": "display_data"
    }
   ],
   "source": [
    "# Basic midulation function\n",
    "\n",
    "\n",
    "\"\"\"\n",
    "    Mod_Poly(a,q) \n",
    "\n",
    "    Modulation in the field F2^k\n",
    "\n",
    "    It produce a number ring with period q - 1 (except 0)\n",
    "    e.g. F2^4\n",
    "\n",
    "    -19 -18 -17 -16 -15 -14 -13 -12 -11 -10  -9  -8  -7  -6  -5  -4  -3  -2  -1  0  1  2  3  4  5  6  7  8  9  10  11  12  13  14  15  16  17  18  19  20\n",
    "     12  13  14  15   1   2   3   4   5   6   7   8   9  10  11  12  13  14  15  0  1  2  3  4  5  6  7  8  9  10  11  12  13  14  15   1   2   3   4   5\n",
    "\"\"\"\n",
    "function Mod_Poly(a,q) \n",
    "    period = q - 1\n",
    "    if a isa Int\n",
    "        if a < 0  # if a < 0, negative values follow a different rule from positive values\n",
    "            while a < 0\n",
    "                a = a + period\n",
    "            end\n",
    "            a = a + 1\n",
    "        elseif a >= q  # if a >= q, positive values follow a different rule from negative values, (no need to process 0 to q - 1)\n",
    "            while a >= q\n",
    "                a = a - period\n",
    "            end\n",
    "        end\n",
    "    else  # if a is a vector\n",
    "        for i = 1:length(a)\n",
    "            if a[i] < 0   # Same method\n",
    "                while a[i] < 0\n",
    "                    a[i] = a[i] + period\n",
    "                end\n",
    "                a[i] = a[i] + 1\n",
    "            elseif a[i] >= q\n",
    "                while a[i] >= q\n",
    "                    a[i] = a[i] - period\n",
    "                end\n",
    "            end\n",
    "        end\n",
    "    end\n",
    "    return a\n",
    "end"
   ]
  },
  {
   "cell_type": "code",
   "execution_count": 88,
   "metadata": {},
   "outputs": [
    {
     "data": {
      "text/plain": [
       "Div_Poly"
      ]
     },
     "metadata": {},
     "output_type": "display_data"
    }
   ],
   "source": [
    "#    ( +  *  / )  in F2^k\n",
    "\n",
    "\n",
    "\"\"\"\n",
    "    Add_Poly(a,b,Table)\n",
    "\n",
    "    Addition in the field F2^k\n",
    "\"\"\"\n",
    "function Add_Poly(a,b,Table)\n",
    "    @assert length(a) == length(b)\n",
    "    if a isa Int  # If the input is integer                                    \n",
    "        a = Index_to_Poly([a],Table)   #  Convert the corresponding index to polynomial, then apply the plus.\n",
    "        b = Index_to_Poly([b],Table)   #  e.g. In F2^4, 2 = [0 1 0 0], 3 = [0 0 1 0], 2 + 3 = [0 1 0 0] + [0 0 1 0] = [0 1 1 0]\n",
    "        Index = Poly_to_Index(mod.((a+b)[1],2),Table)  # Convert the polynomial back to index. e.g. [0 1 1 0] = 6\n",
    "    else  # If the input is vector\n",
    "        a = Index_to_Poly(a,Table)  # Convert the corresponding index to polynomial\n",
    "        b = Index_to_Poly(b,Table)  # Since x and y are vectors, the result is in this form [[0 1 0 0],[0 0 1 0]]\n",
    "        Index = zeros(Int64,length(a))\n",
    "        for i = 1:length(a)\n",
    "            Index[i] = Poly_to_Index(mod.(a[i]+b[i],2),Table)  # Convert the polynomial back to index.\n",
    "        end\n",
    "    end\n",
    "    return Index\n",
    "end\n",
    "\n",
    "\n",
    "\n",
    "\"\"\"\n",
    "    Mul_Poly(a,b,q)\n",
    "\n",
    "    Multiplication in the field F2^k\n",
    "\"\"\"\n",
    "function Mul_Poly(a,b,q)\n",
    "    if a == 0 || b == 0  # 0 * any = 0\n",
    "        return 0\n",
    "    elseif a isa Int && b isa Int  # integer * integer\n",
    "        Index = Mod_Poly(Mod_Poly(a,q) + Mod_Poly(b,q) - 1, q)  # Multiplication of two polynomials is equivalent to the sum of their indexes - 1\n",
    "        return Index\n",
    "    elseif a isa Int && b isa Vector  # integer * vector\n",
    "        Index = zeros(Int64,length(b))\n",
    "        for i = 1:length(b)\n",
    "            if b[i] == 0    # 0 * any = 0\n",
    "                Index[i] = 0\n",
    "            else\n",
    "                Index[i] = Mod_Poly(Mod_Poly(a,q) + Mod_Poly(b[i],q) - 1, q)  # Multiplication of two polynomials is equivalent to the sum of their indexes - 1\n",
    "            end\n",
    "        end\n",
    "        return Index\n",
    "    end\n",
    "end\n",
    "\n",
    "\n",
    "\n",
    "\"\"\"\n",
    "    Div_Poly(x,y,q)\n",
    "\n",
    "    Division in the field F2^k\n",
    "\"\"\"\n",
    "function Div_Poly(a,b,q)\n",
    "    @assert b != 0  # Cannot divide 0\n",
    "    if a == 0    # 0 / any = 0\n",
    "        return 0\n",
    "    else\n",
    "        return mod(Mod_Poly(a,q) - Mod_Poly(b,q), q - 1) + 1  # Division of two polynomials is equivalent to the division of their indexes + 1\n",
    "    end\n",
    "end"
   ]
  },
  {
   "cell_type": "code",
   "execution_count": 89,
   "metadata": {},
   "outputs": [
    {
     "data": {
      "text/plain": [
       "PolyDiv_Poly"
      ]
     },
     "metadata": {},
     "output_type": "display_data"
    }
   ],
   "source": [
    "#   a^k     vector a * vector b      fx/gx\n",
    "\n",
    "\n",
    "\"\"\"\n",
    "    Pow_Poly(x,power,q)\n",
    "\n",
    "    Power in the field F2^k\n",
    "\"\"\"\n",
    "function Pow_Poly(a,power,q)\n",
    "    if a == 0   # 0^any = 0\n",
    "        return 0\n",
    "    elseif power == 0   # any^0 = 1\n",
    "        return 1\n",
    "    elseif power > 0   # for positive power\n",
    "        temp = a\n",
    "        for i = 1:power-1\n",
    "            a = Mul_Poly(a,temp,q)  # a^power\n",
    "        end\n",
    "        return a\n",
    "    else   # for negative power\n",
    "        temp = a\n",
    "        for i = 1:power-1\n",
    "            a = Mul_Poly(a,temp,q)  # a^power\n",
    "        end \n",
    "        return Div_Poly(1,a,q)  # 1 / a^power = a^-power\n",
    "    end\n",
    "end\n",
    "\n",
    "\n",
    "\n",
    "\"\"\"\n",
    "    Conv_Poly(a,b,q)\n",
    "\n",
    "    Convolution in the field F2^k\n",
    "\"\"\"\n",
    "function Conv_Poly(a,b,q)\n",
    "    M = length(a) \n",
    "    N = length(b)\n",
    "    R = zeros(Int64,M+N-1) # Initialize the result, its length is length(a) + length(b) - 1\n",
    "    for i = 1:M\n",
    "        for j = 1:N\n",
    "            R[i+j-1] = Add_Poly(Mul_Poly(a[i],b[j],q),R[i+j-1],Table)  # R = a * b + R, this is calculated in the field F2^k\n",
    "        end\n",
    "    end\n",
    "    return R\n",
    "end\n",
    "\n",
    "\n",
    "\n",
    "\"\"\"\n",
    "    PolyDiv_Poly(fx,gx,q,Table) \n",
    "\n",
    "    Polynomial Division in the field F2^k\n",
    "\"\"\"\n",
    "function PolyDiv_Poly(fx,gx,q,Table) \n",
    "    fx = Mod_Poly(fx,q)  # Take the modulus of fx to ensure that coefficients of fx is in F2^k\n",
    "    gx = Mod_Poly(gx,q)  # Take the modulus of gx to ensure that coefficients of gx is in F2^k\n",
    "    deg_fx = getdeg(fx)  # get the degree of fx and gx\n",
    "    deg_gx = getdeg(gx)\n",
    "\n",
    "    fx = fx[1:deg_fx+1]  # Discard the extra 0 in fx, e.g. [1 2 1 0 0] -> [1 2 1]\n",
    "    gx = gx[1:deg_gx+1]  # Discard the extra 0 in gx\n",
    "\n",
    "    if gx == [0]\n",
    "        return \"Warning, cannot divide 0!\"\n",
    "    elseif deg_gx > deg_fx  # If the order of gx is higher than fx, the remainder is gx, the quotient is 0\n",
    "        rx = fx\n",
    "        qx = [0]\n",
    "        return rem=rx,quo=qx\n",
    "    else\n",
    "        deg_diff = deg_fx - deg_gx  # degree difference between fx and gx\n",
    "        qx = zeros(Int64,deg_diff+1)  # Initialize qx and rx\n",
    "        rx = zeros(Int64,deg_gx+1)\n",
    "\n",
    "        for i in 0:deg_diff\n",
    "            # Add 0 to the gx vector to make gx and fx the same length\n",
    "            # With the change of degree quotient, the position of gx is different each time\n",
    "            zero_highdeg = zeros(Int64,i) \n",
    "            zero_lowdeg = zeros(Int64,deg_diff-i)\n",
    "            gx_addzero = append!(zero_lowdeg,gx,zero_highdeg)\n",
    "\n",
    "            # Calculate the quotient of each step\n",
    "            # eg: Divide the highest order coefficient of fx by the highest order coefficient of gx for the first time\n",
    "            qx[deg_diff+1-i] = Div_Poly(fx[deg_fx+1-i],gx[deg_gx+1],q)\n",
    "\n",
    "            # Calculate the remainder, the remainder is the next divider\n",
    "            temp = Mul_Poly(qx[deg_diff+1-i],gx_addzero,q)\n",
    "            if temp != 0\n",
    "                fx = Add_Poly(fx,temp,Table)\n",
    "            end\n",
    "        end\n",
    "    end\n",
    "\n",
    "    rx = convert(Vector{Int64},Mod_Poly(fx,q))  # the newest fx is the remainder, do modulation\n",
    "    qx = convert(Vector{Int64},Mod_Poly(qx,q))\n",
    "\n",
    "    return rx[1:getdeg(rx)+1],qx[1:getdeg(qx)+1]  # Discard extra 0s\n",
    "end"
   ]
  },
  {
   "cell_type": "markdown",
   "metadata": {},
   "source": [
    "## 2. Generate message $m$ and codeword $c$\n"
   ]
  },
  {
   "cell_type": "code",
   "execution_count": 90,
   "metadata": {},
   "outputs": [
    {
     "data": {
      "text/plain": [
       "RSPoly_Enc"
      ]
     },
     "metadata": {},
     "output_type": "display_data"
    }
   ],
   "source": [
    "\"\"\"\n",
    "    RSPoly_Enc(Table,k,a)\n",
    "\n",
    "    Encode the message.\n",
    "\"\"\"\n",
    "function RSPoly_Enc(Table,k,a)\n",
    "    # Generate the polynomial m(x)\n",
    "    m = []  # message polynomial (coefficients)\n",
    "    while length(m) < k\n",
    "        push!(m,Table[rand(1:length(Table))])  # Randomly generate coefficients in the finite field for m\n",
    "    end\n",
    "    m = Poly_to_Index(m,Table)\n",
    "    println(\"1.  Message m is \",m,\"\\n\")\n",
    "\n",
    "    # Generate codeword c\n",
    "    q = length(Table)\n",
    "    c = zeros(Int64,q-1)\n",
    "    for n in 1:q-1\n",
    "        for k in 1:length(m)\n",
    "           c[n] = Add_Poly(Mul_Poly(m[k],Pow_Poly(a,(n-1)*(k-1),q),q),c[n],Table)\n",
    "        end\n",
    "    end\n",
    "    c = Mod_Poly(c,q)\n",
    "    println(\"2.  Codeword c is \",c,\"\\n\")\n",
    "\n",
    "    return m, c\n",
    "end"
   ]
  },
  {
   "cell_type": "code",
   "execution_count": 91,
   "metadata": {},
   "outputs": [
    {
     "name": "stdout",
     "output_type": "stream",
     "text": [
      "1.  Message m is [8, 2, 5, 3, 9, 1, 10, 8, 8, 6, 0]\n",
      "\n",
      "2.  Codeword c is [6, 7, 6, 2, 14, 11, 14, 6, 3, 3, 2, 3, 11, 4, 14]\n",
      "\n"
     ]
    }
   ],
   "source": [
    "q = 16\n",
    "p = 2\n",
    "f_x = [1,1,0,0,1] \n",
    "Table = Table_generator(q,p,f_x)\n",
    "d = 5\n",
    "n = q-1\n",
    "k = n-d+1\n",
    "a = 2  # a is chosen to be [0, 1, 0, 0] for simplification\n",
    "RSPoly_Enc(Table,k,a)\n",
    "nothing"
   ]
  },
  {
   "cell_type": "markdown",
   "metadata": {},
   "source": [
    "## 3. Received word"
   ]
  },
  {
   "cell_type": "markdown",
   "metadata": {},
   "source": [
    "The received word $r=c+e$ is got by introducing random errors in random positions to c."
   ]
  },
  {
   "cell_type": "code",
   "execution_count": 92,
   "metadata": {},
   "outputs": [
    {
     "data": {
      "text/plain": [
       "RSPoly_Channel"
      ]
     },
     "metadata": {},
     "output_type": "display_data"
    }
   ],
   "source": [
    "using StatsBase\n",
    "\n",
    "\n",
    "\"\"\"\n",
    "    RSPoly_Channel(t,c,Table)\n",
    "\n",
    "    Add noise to the codeword.\n",
    "\"\"\"\n",
    "function RSPoly_Channel(t,c,Table)\n",
    "    Index = sample(collect(1:length(c)),t,replace=false); # Randomly choose t indexes using sample function, which is the position for errors\n",
    "    println(\"3.  Error position is \",sort(Index,by=abs),\"\\n\")  # show the sorted error position\n",
    "\n",
    "    e = zeros(Int64,length(c))  # Initialize the error vector\n",
    "    for i in 1:t\n",
    "        e[Index[i]] = rand(1:length(Table)-1)   # Randomly generate the error \n",
    "    end\n",
    "    r = Add_Poly(e,c,Table)  # Add the random errors to the codeword to form the received word, r = c + e\n",
    "\n",
    "    println(\"4.  Error vector is \",e,\"\\n\")\n",
    "    println(\"5.  Received word is \",r,\"\\n\")\n",
    "    return r\n",
    "end"
   ]
  },
  {
   "cell_type": "code",
   "execution_count": 93,
   "metadata": {},
   "outputs": [
    {
     "name": "stdout",
     "output_type": "stream",
     "text": [
      "1.  Message m is [6, 14, 10, 12, 9, 12, 4, 0, 11, 9, 3]\n",
      "\n",
      "2.  Codeword c is [10, 7, 10, 6, 14, 2, 14, 5, 4, 15, 14, 0, 3, 3, 1]\n",
      "\n",
      "3.  Error position is [9, 10]\n",
      "\n",
      "4.  Error vector is [0, 0, 0, 0, 0, 0, 0, 0, 8, 7, 0, 0, 0, 0, 0]\n",
      "\n",
      "5.  Received word is [10, 7, 10, 6, 14, 2, 14, 5, 5, 9, 14, 0, 3, 3, 1]\n",
      "\n"
     ]
    }
   ],
   "source": [
    "q = 16\n",
    "p = 2\n",
    "f_x = [1,1,0,0,1] \n",
    "Table = Table_generator(q,p,f_x)\n",
    "d = 5\n",
    "n = q-1\n",
    "k = n-d+1\n",
    "t = floor(Int64,(d-1)/2)\n",
    "a = 2  # a is chosen to be [0, 1, 0, 0] for simplification\n",
    "m, c = RSPoly_Enc(Table,k,a)\n",
    "RSPoly_Channel(t,c,Table)\n",
    "nothing"
   ]
  },
  {
   "cell_type": "markdown",
   "metadata": {},
   "source": [
    "### 4. Generate $S\\left(z\\right)$ and $s$"
   ]
  },
  {
   "cell_type": "markdown",
   "metadata": {},
   "source": [
    "The syndrome polynomial $S\\left(z\\right)$ can be generated as $S\\left(z\\right)=\\sum_{j=0}^{n-k-1}{s_jz^j}$, where $s=rH^T$, $r$ is the received message, and $H$ is the parity-check matrix whose every entry equals to $\\alpha^{i\\left(j-1\\right)}$ and size is $\\left(n-k\\right)\\times n$."
   ]
  },
  {
   "cell_type": "code",
   "execution_count": 94,
   "metadata": {},
   "outputs": [
    {
     "data": {
      "text/plain": [
       "RSPoly_Syndrome"
      ]
     },
     "metadata": {},
     "output_type": "display_data"
    }
   ],
   "source": [
    "using Polynomials\n",
    "\n",
    "\n",
    "\"\"\"\n",
    "    RSPoly_Syndrome(a,r,k,Table)\n",
    "\n",
    "    Generate the Syndrome Polynomial\n",
    "\"\"\"\n",
    "function RSPoly_Syndrome(a,r,k,Table)\n",
    "    q = length(Table)\n",
    "    S = zeros(Int64,q-1-k)\n",
    "    for i in 1:q-k-1\n",
    "        for n in 1:q-1\n",
    "           S[i] = Add_Poly(Mul_Poly(r[n],Pow_Poly(a,(n-1)*i,q),q),S[i],Table)  # Calculate S[i]\n",
    "        end\n",
    "    end\n",
    "    S = Mod_Poly(S,q)\n",
    "    println(\"6.  Syndrome polynomial S(z) = \",Polynomial(S,:z),\"\\n\")  # show the syndrome polynomial\n",
    "    return S  # return the coefficients of syndrome polynomial\n",
    "end"
   ]
  },
  {
   "cell_type": "code",
   "execution_count": 95,
   "metadata": {},
   "outputs": [
    {
     "name": "stdout",
     "output_type": "stream",
     "text": [
      "1.  Message m is [8, 2, 12, 4, 14, 1, 12, 13, 12, 13, 10]\n",
      "\n",
      "2.  Codeword c is [15, 11, 13, 2, 11, 7, 2, 9, 15, 6, 11, 10, 13, 7, 9]\n",
      "\n",
      "3.  Error position is [5, 13]\n",
      "\n",
      "4.  Error vector is [0, 0, 0, 0, 13, 0, 0, 0, 0, 0, 0, 0, 2, 0, 0]\n",
      "\n",
      "5.  Received word is [15, 11, 13, 2, 4, 7, 2, 9, 15, "
     ]
    },
    {
     "name": "stdout",
     "output_type": "stream",
     "text": [
      "6, 11, 10, 14, 7, 9]\n",
      "\n",
      "6.  Syndrome polynomial S(z) = 13 + z + z^2 + 12*z^3\n",
      "\n"
     ]
    }
   ],
   "source": [
    "q = 16\n",
    "p = 2\n",
    "f_x = [1,1,0,0,1] \n",
    "Table = Table_generator(q,p,f_x)\n",
    "d = 5\n",
    "n = q-1\n",
    "k = n-d+1\n",
    "t = floor(Int64,(d-1)/2)\n",
    "a = 2  # a is chosen to be [0, 1, 0, 0] for simplification\n",
    "m, c = RSPoly_Enc(Table,k,a)\n",
    "r = RSPoly_Channel(t,c,Table)\n",
    "RSPoly_Syndrome(a,r,k,Table)\n",
    "nothing"
   ]
  },
  {
   "cell_type": "markdown",
   "metadata": {},
   "source": [
    "## 5. Generate $L\\left(z\\right)$ and $E\\left(z\\right)$"
   ]
  },
  {
   "cell_type": "markdown",
   "metadata": {},
   "source": [
    "Apply  Euclidean algorithm to $z^{d-1}$ and $S\\left(z\\right)$\n",
    "\n",
    "$$z^{d-1}=q_1\\left(z\\right)S\\left(z\\right)+r_1\\left(z\\right)$$\n",
    "$$S\\left(z\\right)=q_2\\left(z\\right)r_1\\left(z\\right)+r_2\\left(z\\right)$$\n",
    "$$...$$\n",
    "$$r_{l-2}=q_l\\left(z\\right)r_{l-1}\\left(z\\right)+r_l\\left(z\\right)$$\n",
    "\n",
    "where $deg(r_l\\left(z\\right))$≤ $t$-1\n",
    "\n",
    "By Bezout's Identity, one has,\n",
    "$$r_l\\left(z\\right)=a\\left(z\\right)S\\left(z\\right)+b\\left(z\\right)z^{d-1}\\equiv a\\left(z\\right)S\\left(z\\right)mod {z^{d-1}}$$\n",
    "\n",
    "Let $c$ be the leading coefficient of the polynomial $a\\left(z\\right)$, i.e., $c^{-1}a\\left(z\\right)$ is a monic polynomial. Then, $$L\\left(z\\right)=c^{-1}a\\left(z\\right)$$ $$E\\left(z\\right)=c^{-1}r_l\\left(z\\right)$$"
   ]
  },
  {
   "cell_type": "code",
   "execution_count": 96,
   "metadata": {},
   "outputs": [
    {
     "data": {
      "text/plain": [
       "find_E_and_L_Poly"
      ]
     },
     "metadata": {},
     "output_type": "display_data"
    }
   ],
   "source": [
    "\"\"\"\n",
    "    find_E_and_L_Poly(Z,S,q,t,Table)\n",
    "\n",
    "    Use Euclidian algorithm to find the remainder with the degree ≤ t-1 between fx and gx, and use Bezout's Identity to represent this remainder using fx and gx\n",
    "\"\"\"\n",
    "function find_E_and_L_Poly(Z,S,q,t,Table)\n",
    "    rem,quo = PolyDiv_Poly(Z,S,q,Table)  # Polynomial division, Find the remainder and quotient of Z / S in p-domain\n",
    "    if rem == [0] || getdeg(rem) <= (t-1)  # if the degree of remainder ≤ t-1 (use remainder == [0] because the function 'getdeg' cannot process [0])\n",
    "        return rem, ones(Int64,1), Mod_Poly(quo,q)\n",
    "    else\n",
    "        rem,b_prev,a_prev = find_E_and_L_Poly(S,rem,q,t,Table)  # if not, iterate untill the degree of remainder ≤ t-1\n",
    "        \n",
    "        # Bezout's Identity\n",
    "        b = Mod_Poly(a_prev,q)\n",
    "        temp = Mod_Poly(Conv_Poly(a_prev,quo,q),q)\n",
    "        a = Mod_Poly(Add_Poly(append!(b_prev,zeros(length(temp)-length(b_prev))),temp,Table),q)\n",
    "        return rem,b,a  # remainder = b*Z + a*S = a*S mod z^(d-1) where deg(remainder) ≤ t-1\n",
    "    end\n",
    "end"
   ]
  },
  {
   "cell_type": "code",
   "execution_count": 97,
   "metadata": {},
   "outputs": [
    {
     "data": {
      "text/plain": [
       "RSPoly_KeyPolys"
      ]
     },
     "metadata": {},
     "output_type": "display_data"
    }
   ],
   "source": [
    "using Polynomials\n",
    "\n",
    "\n",
    "\"\"\"\n",
    "    RSPoly_KeyPolys(S,q,d,t,Table)\n",
    "\n",
    "    Find L and E use Euclidian algorithm to find the remainder with the degree ≤ t-1 between fx and gx, and use Bezout's Identity to represent this remainder using fx and gx\n",
    "\"\"\"\n",
    "function RSPoly_KeyPolys(S,q,d,t,Table)\n",
    "    # Z = z^(d-1)\n",
    "    Z = prepend!([1],zeros(Int64,d-1))\n",
    "    \n",
    "    E, ~, L = find_E_and_L_Poly(Z,S,q,t,Table)  # Apply Z/S, find E and L\n",
    "    println(\"7.  Locator polynomial L(z) = \",Polynomial(L,:z),\"\\n\")  # show the results\n",
    "    println(\"8.  Error evaluator polynomial E(z) = \",Polynomial(E,:z),\"\\n\")\n",
    "    return E, L\n",
    "end"
   ]
  },
  {
   "cell_type": "code",
   "execution_count": 98,
   "metadata": {},
   "outputs": [
    {
     "name": "stdout",
     "output_type": "stream",
     "text": [
      "1.  Message m is [1, 11, 5, 12, 8, 12, 6, 6, 9, 5, 15]\n",
      "\n",
      "2.  Codeword c is [1, 2, 11, 3, 12, 14, 3, 1, 6, 8, 6, 14, 7, 2, 13]\n",
      "\n",
      "3.  Error position is [6, 14]\n",
      "\n",
      "4.  Error vector is [0, 0, 0, 0, 0, 9, 0, 0, 0, 0, 0, 0, 0, 13, 0]\n",
      "\n",
      "5.  Received word is "
     ]
    },
    {
     "name": "stdout",
     "output_type": "stream",
     "text": [
      "[1, 2, 11, 3, 12, 4, 3, 1, 6, 8, 6, 14, 7, 14, 13]\n",
      "\n",
      "6.  Syndrome polynomial S(z) = 10 + 14*z + 15*z^2 + 12*z^3\n",
      "\n"
     ]
    },
    {
     "name": "stdout",
     "output_type": "stream",
     "text": [
      "7.  Locator polynomial L(z) = 10 + 2*z + 13*z^2\n",
      "\n",
      "8.  Error evaluator polynomial E(z) = 4 + 7*z\n",
      "\n"
     ]
    }
   ],
   "source": [
    "q = 16\n",
    "p = 2\n",
    "f_x = [1,1,0,0,1] \n",
    "Table = Table_generator(q,p,f_x)\n",
    "d = 5\n",
    "n = q-1\n",
    "k = n-d+1\n",
    "t = floor(Int64,(d-1)/2)\n",
    "a = 2  # a is chosen to be [0, 1, 0, 0] for simplification\n",
    "m, c = RSPoly_Enc(Table,k,a)\n",
    "r = RSPoly_Channel(t,c,Table)\n",
    "S = RSPoly_Syndrome(a,r,k,Table)\n",
    "RSPoly_KeyPolys(S,q,d,t,Table)\n",
    "nothing"
   ]
  },
  {
   "cell_type": "markdown",
   "metadata": {},
   "source": [
    "## 6. Calculate estimated error $\\hat{e}$ and estimated codeword $\\hat{c}$\n",
    "After getting $L(z)$ and $E(z)$, the error positions can be found from $L(z)$, and corresponding errors $e_i$ from $E(z)$.\n",
    "\n",
    "Substitute $a^0,\\alpha^{-1},\\alpha^{-2},\\cdots,\\alpha^{-\\left(p-2\\right)}$ to $L(z)$, by this exhaustively computing, find all k that satisfy $L\\left(\\alpha^{-k}\\right)=0$. The value of k represents error position.\n",
    "\n",
    "As for the corresponding errors, $e_k=E\\left(\\alpha^{-k}\\right)/\\left(\\alpha^k\\mathrm{\\Pi}_{j\\neq k}\\left(1-\\alpha^j\\alpha^{-k}\\right)\\right)=-E\\left(\\alpha^{-k}\\right)/\\frac{d}{dz}L\\left(\\alpha^{-k}\\right)$. It is better to use the second one which has less complexity.\n",
    "\n",
    "Then the codeword $\\hat{c}$ can be recovered by $\\hat{c}=r-\\hat{e}$"
   ]
  },
  {
   "cell_type": "code",
   "execution_count": 99,
   "metadata": {},
   "outputs": [
    {
     "data": {
      "text/plain": [
       "RSPol_Num_Err"
      ]
     },
     "metadata": {},
     "output_type": "display_data"
    }
   ],
   "source": [
    "\"\"\"\n",
    "    Subs_Poly(x,fx,q,Table)\n",
    "\n",
    "    Substitute x into f(x), return the result\n",
    "\"\"\"\n",
    "function Subs_Poly(x,fx,q,Table)\n",
    "    L = length(fx)\n",
    "    Result = zeros(Int64,L)\n",
    "    for i in 1:L\n",
    "        Result[i] = Mul_Poly(fx[i],Pow_Poly(x,i-1,q),q) # multiply each coefficient of fx with x^i-1\n",
    "    end\n",
    "\n",
    "    sum = 0\n",
    "    for j in 1:L\n",
    "        sum = Add_Poly(sum,Result[j],Table)  # sum all the elements of Result.\n",
    "    end\n",
    "    return sum\n",
    "end\n",
    "\n",
    "\n",
    "\n",
    "\"\"\"\n",
    "    dfx_Poly(fx,q)\n",
    "\n",
    "    Find the first derivative of fx\n",
    "\"\"\"\n",
    "function dfx_Poly(fx,q)\n",
    "    dfx = zeros(Int64,length(fx)-1)    # Initialize the first derivative\n",
    "    for i in 2:length(fx)\n",
    "        dfx[i-1] = Mod_Poly(fx[i],q) * mod(i-1,2)  # Calculate each element of the first derivative.\n",
    "    end\n",
    "    return dfx\n",
    "end\n",
    "\n",
    "\n",
    "\n",
    "\"\"\"\n",
    "    RSPol_Num_Err(L,E,q,r,Table)\n",
    "\n",
    "    Estimate the error and recover the codeword\n",
    "\"\"\"\n",
    "function RSPol_Num_Err(L,E,q,r,Table)\n",
    "    # Estimate the error position\n",
    "    e_p = Int64[]   # Initialize the estimated error position\n",
    "    for i in 1:q-1  # substitute 1, a^(-1), a^(-2), ..., a^(-(q-2)) to L\n",
    "        if i == 1\n",
    "            temp = 1\n",
    "        else\n",
    "            temp = Mod_Poly(-(i-1),q)\n",
    "        end\n",
    "        if Subs_Poly(temp,L,q,Table) == 0  # Substitute a^-(i-1) into L, check whether the result equals to 0\n",
    "            push!(e_p,i)\n",
    "        end\n",
    "    end\n",
    "    println(\"9. Estimated error position is \",e_p,\"\\n\")\n",
    "\n",
    "    # Estimate the error\n",
    "    e_hat = zeros(Int64,q-1)  # Initialize the estimated error\n",
    "    dL = dfx_Poly(L,q)  # the 1st derivative of L\n",
    "    for j in 1:length(e_p)\n",
    "        if e_p[j] == 1  # 1 is a particular case (inorder to distinguish 0 and a^0)\n",
    "            #  e[k]       =               E[a^(-k)]        /        d[L(a^(-k))]/dz          in F2^q, -E[a^(-k)] = E[a^(-k)]\n",
    "            e_hat[e_p[j]] = Div_Poly(Subs_Poly(1,E,q,Table),Subs_Poly(1,dL,q,Table),q)\n",
    "        else\n",
    "            e_hat[e_p[j]] = Div_Poly(Subs_Poly(Mod_Poly(-(e_p[j]-1),q),E,q,Table),Subs_Poly(Mod_Poly(-(e_p[j]-1),q),dL,q,Table),q)\n",
    "        end\n",
    "    end\n",
    "    println(\"10. Estimated error is \", e_hat,\"\\n\")\n",
    "\n",
    "    # Estimate the codeword\n",
    "    c_hat = Add_Poly(r,e_hat,Table)  # c = y + e     in F2^q, -e = e\n",
    "    println(\"11. Estimated codeword is \", c_hat,\"\\n\")\n",
    "    return c_hat\n",
    "end"
   ]
  },
  {
   "cell_type": "code",
   "execution_count": 100,
   "metadata": {},
   "outputs": [
    {
     "name": "stdout",
     "output_type": "stream",
     "text": [
      "1.  Message m is [11, 1, 15, 12, 13, 3, 15, 3, 14, 6, 13]\n",
      "\n",
      "2.  Codeword c is [5, 9, 2, 0, 7, 8, 13, 13, 12, 9, 12, 8, 9, 13, 0]\n",
      "\n",
      "3.  Error position is [6, 7]\n",
      "\n",
      "4.  Error vector is [0, 0, 0, 0, 0, 3, 4, 0, 0, 0, 0, 0, 0, 0, 0]\n",
      "\n",
      "5.  Received word is [5, 9, 2, 0, 7, 13, 11,"
     ]
    },
    {
     "name": "stdout",
     "output_type": "stream",
     "text": [
      " 13, 12, 9, 12, 8, 9, 13, 0]\n",
      "\n",
      "6.  Syndrome polynomial S(z) = 1 + 12*z + 4*z^2 + 3*z^3\n",
      "\n",
      "7.  Locator polynomial L(z) = 9 + 3*z + 5*z^2\n",
      "\n",
      "8.  Error evaluator polynomial E(z) = 9 + 11*z\n",
      "\n",
      "9. Estimated error position is [6, 7]\n",
      "\n",
      "10. Estimated error is [0,"
     ]
    },
    {
     "name": "stdout",
     "output_type": "stream",
     "text": [
      " 0, 0, 0, 0, 3, 4, 0, 0, 0, 0, 0, 0, 0, 0]\n",
      "\n",
      "11. Estimated codeword is [5, 9, 2, 0, 7, 8, 13, 13, 12, 9, 12, 8, 9, 13, 0]\n",
      "\n"
     ]
    }
   ],
   "source": [
    "q = 16\n",
    "p = 2\n",
    "f_x = [1,1,0,0,1] \n",
    "Table = Table_generator(q,p,f_x)\n",
    "d = 5\n",
    "n = q-1\n",
    "k = n-d+1\n",
    "t = floor(Int64,(d-1)/2)\n",
    "a = 2  # a is chosen to be [0, 1, 0, 0] for simplification\n",
    "m, c = RSPoly_Enc(Table,k,a)\n",
    "r = RSPoly_Channel(t,c,Table)\n",
    "S = RSPoly_Syndrome(a,r,k,Table)\n",
    "E,L = RSPoly_KeyPolys(S,q,d,t,Table)\n",
    "RSPol_Num_Err(L,E,q,r,Table)\n",
    "nothing"
   ]
  },
  {
   "cell_type": "markdown",
   "metadata": {},
   "source": [
    "## 7. Recover the message \n",
    "With the estimated codeword $\\hat{c}$, the estimated message $\\hat{m}$ can be recovered. Since the original message $m$ is converted to $c$ by $m*G=c$, it can be converted back by $m=cG^{-1}$, hence $\\hat{m}=\\hat{c}G^{-1}$\n"
   ]
  },
  {
   "cell_type": "markdown",
   "metadata": {},
   "source": [
    "For every entry of $G$, its value is $G\\left[i,j\\right]=\\alpha^{\\left(i-1\\right)\\left(j-1\\right)}$ and it should be normallised in Galois field.\n",
    "\n",
    "For example, in 8 filed, the $G$ should be\n",
    "\n",
    "$$G=\\left[\\begin{matrix}1&1&1&1&1&1&1\\\\1&\\alpha&\\alpha^2&\\alpha^3&\\alpha^4&\\alpha^5&\\alpha^6\\\\1&\\alpha^2&\\alpha^4&\\alpha^6&\\alpha&\\alpha^3&\\alpha^5\\\\1&\\alpha^3&\\alpha^6&\\alpha^2&\\alpha^2&\\alpha&\\alpha^4\\\\\\end{matrix}\\right]$$"
   ]
  },
  {
   "cell_type": "code",
   "execution_count": 101,
   "metadata": {},
   "outputs": [
    {
     "data": {
      "text/plain": [
       "GaussElimination_poly"
      ]
     },
     "metadata": {},
     "output_type": "display_data"
    }
   ],
   "source": [
    "\"\"\"\n",
    "    GaussElimination_poly(A,b,q,Table)\n",
    "\n",
    "    Function for Gaussian Elimination\n",
    "\"\"\"\n",
    "function GaussElimination_poly(A,b,q,Table)\n",
    "    L = LinearAlgebra.checksquare(A)  # Check whether matrix A is a square matrix, if true, return its size\n",
    "    x = zeros(Int64,L,1)  # Initialize x, Ax = b, target is to solve x\n",
    "\n",
    "    # Gaussian Elimination, transfer A to an upper-triangular matrix\n",
    "    for i in 1:L-1\n",
    "        for j in i+1:L\n",
    "            a = Div_Poly(A[j,i],A[i,i],q)    # a = A[j,i]/A[i,i]\n",
    "            for k in i+1:L\n",
    "                A[j,k] = Add_Poly(A[j,k],Mul_Poly(A[i,k],a,q),Table)  # Multiply the ith row with a, use jth row to subtract it\n",
    "            end\n",
    "            A[j,i] = 0  # After multiplying the ith row with a, the ith element of the jth row becomes the same as the ith element of the ith row, hence the result of subtraction is 0\n",
    "\n",
    "            b[j] = Add_Poly(b[j],Mul_Poly(b[i],a,q),Table)  #  Apply the same thing to b\n",
    "        end\n",
    "    end\n",
    "\n",
    "    # Substitution, now we have an upper-triangular matrix A times x equals to b (A and b are different from the original A and b)\n",
    "    x[L] = Div_Poly(b[L],A[L,L],q)  # Find x[L]\n",
    "\n",
    "    # Substitute x[L], x[L-1],...,x[i+1] to calculate x[i]\n",
    "    for i in L-1:-1:1\n",
    "        sum = 0\n",
    "        for j in i+1:L\n",
    "            sum = Add_Poly(sum,Mul_Poly(A[i,j],x[j],q),Table)\n",
    "        end\n",
    "        x[i] = Div_Poly(Add_Poly(b[i],sum,Table),A[i,i],q)\n",
    "    end\n",
    "    return x\n",
    "end"
   ]
  },
  {
   "cell_type": "code",
   "execution_count": 102,
   "metadata": {},
   "outputs": [
    {
     "data": {
      "text/plain": [
       "RSPoly_Message"
      ]
     },
     "metadata": {},
     "output_type": "display_data"
    }
   ],
   "source": [
    "\"\"\"\n",
    "    RSPoly_Message(q,k,a,c,Table)\n",
    " \n",
    "    Function to recover message m from the codeword c\n",
    "\"\"\"\n",
    "function RSPoly_Message(q,k,a,c,Table)\n",
    "    # Initialize the generator matrix\n",
    "    G = zeros(Int64,k,q-2)  \n",
    "    for i in 1:k\n",
    "        for j in 1:q-2\n",
    "            G[i,j] = Pow_Poly(a,(i-1)*(j-1),q)\n",
    "        end\n",
    "    end\n",
    "\n",
    "    # Randomly choose k columns of the generator matrix G, make it become a square matrix\n",
    "    Index = sort(sample(collect(1:q-2),k,replace=false),by=abs)\n",
    "\n",
    "    # take the transpose since Gaussian Elimination should be in the form of Ax = b\n",
    "    G_T = (G[:,Index])'\n",
    "\n",
    "    # Choose the corresponding elements of c_hat\n",
    "    c_hat = c[Index]\n",
    "\n",
    "    # Use Gaussian Elimination to find the result, we have the function G_T * m_hat = c_hat (m and c are vectors, hence no need to take their transpose in code)\n",
    "    m_hat = vec(GaussElimination_poly(G_T,c_hat,q,Table))\n",
    "    println(\"12. Estimated message is \", m_hat,\"\\n\")\n",
    "    return m_hat\n",
    "end"
   ]
  },
  {
   "cell_type": "code",
   "execution_count": 103,
   "metadata": {},
   "outputs": [
    {
     "name": "stdout",
     "output_type": "stream",
     "text": [
      "1.  Message m is [12, 15, 14, 14, 8, 2, 15, 13, 13, 6, 12]\n",
      "\n",
      "2.  Codeword c is [13, 4, 12, 15, 14, 6, 11, 3, 6, 13, 9, 7, 7, 10, 0]\n",
      "\n",
      "3.  Error position is [7, 11]\n",
      "\n",
      "4.  Error vector is "
     ]
    },
    {
     "name": "stdout",
     "output_type": "stream",
     "text": [
      "[0, 0, 0, 0, 0, 0, 3, 0, 0, 0, 12, 0, 0, 0, 0]\n",
      "\n",
      "5.  Received word is [13, 4, 12, 15, 14, 6, 5, 3, 6, 13, 8, 7, 7, 10, 0]\n",
      "\n",
      "6.  Syndrome polynomial S(z) = 15 + 8*z + 4*z^2 + 2*z^3\n",
      "\n",
      "7.  Locator polynomial L(z) = 3 + 10*z + 4*z^2\n",
      "\n",
      "8.  Error evaluator polynomial E(z) = 2 + 13*z\n",
      "\n",
      "9. Estimated error position is [7, 11]\n",
      "\n",
      "10. Estimated error is [0, 0, 0, 0, 0, 0, 3, 0, 0, 0, 12, 0, 0, 0, 0"
     ]
    },
    {
     "name": "stdout",
     "output_type": "stream",
     "text": [
      "]\n",
      "\n",
      "11. Estimated codeword is [13, 4, 12, 15, 14, 6, 11, 3, 6, 13, 9, 7, 7, 10, 0]\n",
      "\n"
     ]
    },
    {
     "name": "stdout",
     "output_type": "stream",
     "text": [
      "12. Estimated message is [12, 15, 14, 14, 8, 2, 15, 13, 13, 6, 12]\n",
      "\n"
     ]
    }
   ],
   "source": [
    "q = 16\n",
    "p = 2\n",
    "f_x = [1,1,0,0,1] \n",
    "Table = Table_generator(q,p,f_x)\n",
    "d = 5\n",
    "n = q-1\n",
    "k = n-d+1\n",
    "t = floor(Int64,(d-1)/2)\n",
    "a = 2  # a is chosen to be [0, 1, 0, 0] for simplification\n",
    "m, c = RSPoly_Enc(Table,k,a)\n",
    "r = RSPoly_Channel(t,c,Table)\n",
    "S = RSPoly_Syndrome(a,r,k,Table)\n",
    "E,L = RSPoly_KeyPolys(S,q,d,t,Table)\n",
    "c_hat = RSPol_Num_Err(L,E,q,r,Table)\n",
    "RSPoly_Message(q,k,a,c_hat,Table)\n",
    "nothing"
   ]
  },
  {
   "cell_type": "markdown",
   "metadata": {},
   "source": [
    "## 8.  Decoding process\n",
    "Implement the procedures above to complete the whole decoding process."
   ]
  },
  {
   "cell_type": "code",
   "execution_count": 104,
   "metadata": {},
   "outputs": [
    {
     "data": {
      "text/plain": [
       "RSPoly_Dec"
      ]
     },
     "metadata": {},
     "output_type": "display_data"
    }
   ],
   "source": [
    "\"\"\"\n",
    "    RSPoly_Dec(q,d,t,a,r,k,Table)\n",
    "\n",
    "    Decoding function, combine steps 4-7\n",
    "\"\"\"\n",
    "function RSPoly_Dec(q,d,t,a,r,k,Table)\n",
    "    S = RSPoly_Syndrome(a,r,k,Table)\n",
    "    E,L = RSPoly_KeyPolys(S,q,d,t,Table)\n",
    "    c_hat = RSPol_Num_Err(L,E,q,r,Table)\n",
    "    m_hat = RSPoly_Message(q,k,a,c_hat,Table)\n",
    "    return m_hat\n",
    "end"
   ]
  },
  {
   "cell_type": "code",
   "execution_count": 105,
   "metadata": {},
   "outputs": [
    {
     "name": "stdout",
     "output_type": "stream",
     "text": [
      "1.  Message m is [4, 12, 11, 1, 2, 3, 12, 0, 1, 15, 9]\n",
      "\n",
      "2.  Codeword c is [9, 1, 8, 4, 14, 5, 0, 5, 1, 15, 4, 0, 14, 7, 5]\n",
      "\n",
      "3.  Error position is [3, 9]\n",
      "\n",
      "4.  Error vector is [0, 0, 14, 0, 0, 0, 0, 0, 14, 0, 0, 0, 0, 0, 0]\n",
      "\n",
      "5.  Received word is [9, 1, 6, 4, 14, 5, 0, 5, 7, 15, 4, 0, 14, 7, 5]\n",
      "\n"
     ]
    },
    {
     "name": "stdout",
     "output_type": "stream",
     "text": [
      "6.  Syndrome polynomial S(z) = 14 + 14*z + 4*z^2 + 14*z^3\n",
      "\n",
      "7.  Locator polynomial L(z) = 1 + z + 11*z^2\n",
      "\n",
      "8.  Error evaluator polynomial E(z) = 14\n",
      "\n",
      "9. Estimated error position is [3, 9]\n",
      "\n",
      "10. Estimated error is [0, 0, 14, 0, 0, 0, 0, 0, 14, 0, 0, 0, 0, 0, 0]\n",
      "\n",
      "11. Estimated codeword is [9, 1, 8, 4, 14, 5, 0, 5, 1, 15, 4, 0, 14, 7, 5]\n",
      "\n",
      "12. Estimated message is [4, 12, 11, 1, 2, 3, 12, 0, 1, 15, 9]\n",
      "\n"
     ]
    }
   ],
   "source": [
    "q = 16\n",
    "p = 2\n",
    "f_x = [1,1,0,0,1] \n",
    "Table = Table_generator(q,p,f_x)\n",
    "d = 5\n",
    "n = q-1\n",
    "k = n-d+1\n",
    "t = floor(Int64,(d-1)/2)\n",
    "a = 2  # a is chosen to be [0, 1, 0, 0] for simplification\n",
    "m, c = RSPoly_Enc(Table,k,a)\n",
    "r = RSPoly_Channel(t,c,Table)\n",
    "RSPoly_Dec(q,d,t,a,r,k,Table)\n",
    "nothing"
   ]
  },
  {
   "cell_type": "markdown",
   "metadata": {},
   "source": [
    "## 9.  Final Function\n",
    "The final combined function."
   ]
  },
  {
   "cell_type": "code",
   "execution_count": 106,
   "metadata": {},
   "outputs": [
    {
     "data": {
      "text/plain": [
       "RSPoly"
      ]
     },
     "metadata": {},
     "output_type": "display_data"
    }
   ],
   "source": [
    "\"\"\"\n",
    "    RSPoly(q,p,d,n,k,t,a,Table)\n",
    "\n",
    "    Final function\n",
    "\"\"\"\n",
    "function RSPoly(q,p,d,n,k,t,a,Table)\n",
    "    if isprime(p) == false\n",
    "        println(\"p is not a prime number. Please change the value of p.\\n\")\n",
    "        return \"Warning\"\n",
    "    end\n",
    "\n",
    "    # Generate the message and codeword\n",
    "    m, c = RSPoly_Enc(Table,k,a)\n",
    "\n",
    "    # Generate noise and add this noise to the codeword\n",
    "    r = RSPoly_Channel(t,c,Table)\n",
    "\n",
    "    # Recover the message\n",
    "    m_hat = RSPoly_Dec(q,d,t,a,r,k,Table)\n",
    "\n",
    "    # Check the correctness\n",
    "    if m == m_hat\n",
    "        println(\"🙂🙂🙂 Recovery Successful 🙂🙂🙂\\n\")\n",
    "        flag = true\n",
    "    else\n",
    "        println(\"!!!!! Fail to recover message m !!!!!\\n\")\n",
    "        flag = false\n",
    "    end\n",
    "\n",
    "    println(\"Put original message and estimated message together to compare:\")\n",
    "    println(m)\n",
    "    println(m_hat)\n",
    "    println(\"\\nThe above m is in the Index form, the polynomial form of m is:\")\n",
    "    println(Index_to_Poly(m_hat,Table))\n",
    "    println(\"\\nFor convenience, the table is provided:\")\n",
    "    println(Table)\n",
    "    return flag\n",
    "end"
   ]
  },
  {
   "cell_type": "code",
   "execution_count": 107,
   "metadata": {},
   "outputs": [
    {
     "name": "stdout",
     "output_type": "stream",
     "text": [
      "1.  Message m is [8, 4, 15, 11, 11, 11, 12, 11, 2, 4, 9]\n",
      "\n",
      "2.  Codeword c is "
     ]
    },
    {
     "name": "stdout",
     "output_type": "stream",
     "text": [
      "[8, 2, 5, 6, 6, 0, 0, 0, 1, 11, 1, 13, 5, 11, 14]\n",
      "\n",
      "3.  Error position is [6, 15]\n",
      "\n",
      "4.  Error vector is [0, 0, 0, 0, 0, 7, 0, 0, 0, 0, 0, 0, 0, 0, 2]\n",
      "\n",
      "5.  Received word is [8, 2, 5, 6, 6, 7, 0, 0, 1, 11, 1, 13, 5, 11, 13]\n",
      "\n",
      "6.  Syndrome polynomial S(z) = 13 + 8*z + z^2 + z^3\n",
      "\n",
      "7.  Locator polynomial L(z) = 3 + 15*z + 7*"
     ]
    },
    {
     "name": "stdout",
     "output_type": "stream",
     "text": [
      "z^2\n",
      "\n",
      "8.  Error evaluator polynomial E(z) = 15 + 3*z\n",
      "\n",
      "9. Estimated error position is [6, 15]\n",
      "\n",
      "10. Estimated error is [0, 0, 0, 0, 0, 7, 0, 0, 0, 0, 0, 0, 0, 0, 2]\n",
      "\n",
      "11. Estimated codeword is [8, 2, 5, 6, 6, 0, 0, 0, 1, 11, 1, 13, 5, 11, 14]\n",
      "\n",
      "12. Estimated message is [8, 4, 15, 11, 11, 11, 12, 11, 2, 4, 9]\n",
      "\n",
      "🙂🙂🙂 Recovery Successful 🙂🙂🙂\n",
      "\n",
      "Put original message and estimated message together to compare:\n",
      "[8, 4, 15, 11, 11, 11, 12, 11, 2, 4, 9]\n",
      "[8, 4, 15, 11, 11, 11, 12, 11, 2, 4, 9]\n",
      "\n",
      "The above m is in the Index form, the polynomial form of m is:\n",
      "Any[[1, 1, 0, 1], [0, 0, 0, 1], [1, 0, 0, 1], "
     ]
    },
    {
     "name": "stdout",
     "output_type": "stream",
     "text": [
      "[1, 1, 1, 0], [1, 1, 1, 0], [1, 1, 1, 0], [0, 1, 1, 1], [1, 1, 1, 0], [0, 1, 0, 0], [0, 0, 0, 1], [1, 0, 1, 0]]\n",
      "\n",
      "For convenience, the table is provided:\n",
      "Any[[0, 0, 0, 0], [1, 0, 0, 0], [0, 1, 0, 0], ["
     ]
    },
    {
     "name": "stdout",
     "output_type": "stream",
     "text": [
      "0, 0, 1, 0], [0, 0, 0, 1], [1, 1, 0, 0], [0, 1, 1, 0], [0, 0, 1, 1], [1, 1, 0, 1], [1, 0, 1, 0], [0, 1, 0, 1], [1, 1, 1, 0], [0, 1, 1, 1], [1, 1, 1, 1], [1, 0, 1, 1], [1, 0, 0, 1]]\n"
     ]
    }
   ],
   "source": [
    "q = 16\n",
    "p = 2\n",
    "f_x = [1,1,0,0,1] \n",
    "Table = Table_generator(q,p,f_x)\n",
    "d = 5\n",
    "n = q-1\n",
    "k = n-d+1\n",
    "t = floor(Int64,(d-1)/2)\n",
    "a = 2  # a is chosen to be [0, 1, 0, 0] for simplification\n",
    "RSPoly(q,p,d,n,k,t,a,Table)\n",
    "nothing"
   ]
  },
  {
   "cell_type": "markdown",
   "metadata": {},
   "source": [
    "### 3.2.2 RS Codes on $\\mathbb{F}_{2^k}$\n",
    "\n",
    "The above code should work for other choices of $k$ in $\\mathbb{F}_{2^k}$. In 3.2.1, we have worked on the case where $k=4$. Try a different $k$ with $5 \\le k \\le 10$. "
   ]
  },
  {
   "cell_type": "markdown",
   "metadata": {},
   "source": [
    "This is the same as 3.2.1."
   ]
  },
  {
   "cell_type": "code",
   "execution_count": 108,
   "metadata": {},
   "outputs": [
    {
     "name": "stdout",
     "output_type": "stream",
     "text": [
      "1.  Message m is [41, 29, 16, 57, 39, 40, 21, 0, 50, 25, 12, 41, 32, 48, 45, 1, 37, 11, 36, 12, 45, 46, 28, 8, 59, 42, 1, 36, 2, 7, 15, 31, 13, 34, 48, 9, 23, 46, 3, 31, 62, 6, 41, 35, 25, 2, 41, 21, 57, 38, 2, 16, 15, 18, 36, 5, 52]\n",
      "\n",
      "2.  Codeword c is [35, 32, 30, 24, 55, 16, 54, 56"
     ]
    },
    {
     "name": "stdout",
     "output_type": "stream",
     "text": [
      ", 40, 57, 57, 10, 21, 6, 18, 32, 12, 14, 23, 41, 18, 1, 48, 63, 62, 33, 20, 9, 15, 46, 47, 25, 9, 28, 11, 9, 44, 63, 4, 4, 24, 15, 7, 11, 50, 60, 25, 13, 50, 39, 9, 63, 15, 49, 0, 3, 4, 61, 9, 46, 53, 19, 2]\n",
      "\n",
      "3.  Error position is [9, 36, 44]\n",
      "\n",
      "4.  Error vector is [0, 0, 0, 0, 0, 0, 0, 0, 4, 0, 0, 0, 0, 0, 0, 0, 0, 0, 0, 0, 0, 0, 0, 0, 0, 0, 0, 0, 0, 0, 0, 0, 0, 0, 0, 24, "
     ]
    },
    {
     "name": "stdout",
     "output_type": "stream",
     "text": [
      "0, 0, 0, 0, 0, 0, 0, 16, 0, 0, 0, 0, 0, 0, 0, 0, 0, 0, 0, 0, 0, 0, 0, 0, 0, 0, 0]\n",
      "\n",
      "5.  Received word is [35, 32, 30, 24, 55, 16, 54, 56, 49, 57, 57, 10, 21, 6, 18, 32, 12, 14, 23, 41, 18, 1, 48, 63, 62, 33, 20, 9, 15, 46, 47, 25, 9, 28, 11, 22, 44, 63, 4, 4, 24, 15, 7, 51, 50, 60, 25, 13, 50, 39, 9, 63, 15, 49, 0, 3, 4, 61, 9, 46, 53, 19, 2]\n",
      "\n",
      "6.  Syndrome polynomial S(z) = 12 + 36*z + 17*z^2 + 61*z^3 + 61*z^4 + 37*z^5\n",
      "\n",
      "7.  Locator polynomial L(z) = 3 + 50*z + 56*z^2 + 26*z^3\n",
      "\n",
      "8.  Error evaluator polynomial E(z) = 14 + 3*z + 57*z^2\n",
      "\n",
      "9. Estimated error position is [9, 36, 44]\n",
      "\n",
      "10. Estimated error is [0, 0, 0, 0, 0, 0, 0, 0, 4, 0, 0, 0, 0, 0, 0, 0, 0, 0, 0, 0, 0, 0, 0, 0, 0, 0, 0, 0, 0, 0, 0, 0, 0, 0, 0, 24, 0, 0, 0, 0, 0, 0, 0, 16, 0, 0, 0, 0, 0, 0, 0, 0, 0, 0, 0, 0, 0, 0, 0, 0, 0, 0, 0]\n",
      "\n",
      "11. Estimated codeword is [35, 32, 30, 24, 55, 16, 54, 56, 40, 57, 57, 10, 21, 6, 18, 32, 12, 14, 23, 41, 18, 1, 48, 63, 62, 33, 20, 9, 15, 46, 47, 25, 9, 28, 11, 9, 44, 63, 4, 4, 24, 15, 7, 11, 50, 60, 25, 13, 50, 39, 9, 63, 15, 49, 0, 3, 4, 61, 9, 46"
     ]
    },
    {
     "name": "stdout",
     "output_type": "stream",
     "text": [
      ", 53, 19, 2]\n",
      "\n"
     ]
    },
    {
     "name": "stdout",
     "output_type": "stream",
     "text": [
      "12. Estimated message is [41, 29, 16, 57, 39, 40, 21, 0, 50, 25, 12, 41, 32, 48, 45, 1, 37, 11, 36, 12, 45, 46, 28, 8, 59, 42, 1, 36, 2, 7, 15, 31, 13, 34, 48, 9, 23, 46, 3, 31, 62, 6, 41, 35, 25, 2, 41, 21, 57, 38, 2, 16, 15, 18, 36, 5, 52]\n",
      "\n",
      "🙂🙂🙂 Recovery Successful 🙂🙂🙂\n",
      "\n",
      "Put original message and estimated message together to compare:\n",
      "[41, 29, 16, 57, 39, 40, 21, 0, 50, 25, 12, 41, 32, 48, 45, 1, 37, 11, 36, 12, 45, 46, 28, 8, 59, 42, 1, 36, 2, 7, 15, 31, 13, 34, 48, 9, 23, 46, 3"
     ]
    },
    {
     "name": "stdout",
     "output_type": "stream",
     "text": [
      ", 31, 62, 6, 41, 35, 25, 2, 41, 21, 57, 38, 2, 16, 15, 18, 36, 5, 52]\n",
      "[41, 29, 16, 57, 39, 40, 21, 0, 50, 25, 12, 41, 32, 48, 45, 1, 37"
     ]
    },
    {
     "name": "stdout",
     "output_type": "stream",
     "text": [
      ", 11, 36, 12, 45, 46, 28, 8, 59, 42, 1, 36, 2, 7, 15, 31, 13, 34, 48, 9, 23, 46, 3, 31, 62, 6, 41, 35, 25, 2, 41, 21, 57, 38, 2, 16, 15, 18, 36, 5, 52]\n",
      "\n",
      "The above m is in the Index form, the polynomial form of m is:\n",
      "Any[[1, 0, 0, 0, 0, 1], [0, 0, 0, 1, 1, 0], [1, 1, 1, 1, 1, 0], [0, 1, 0, 0, 1, 0], [0, 1, 0, 0, 0, 1], [1, 1, 0, 0, 0, 1], [0, 1, 1, 0, 1, 0], [0, 0, 0, 0, 0, 0], [1, 0, 0, 0, 1, 1], [0, 1, 0, 0, 1, 1], [0, 0, 1, 0, 1, 1], "
     ]
    },
    {
     "name": "stdout",
     "output_type": "stream",
     "text": [
      "[1, 0, 0, 0, 0, 1], [0, 1, 1, 1, 0, 0], [0, 1, 1, 0, 0, 1], [1, 0, 1, 1, 1, 0], [1, 0, 0, 0, 0, 0], [1, 1, 0, 1, 1, 1], [0, 1, 0, 1, 1, 0], [0, 1, 1, 1, 0, 1], [0, 0, 1, 0, 1, 1], [1, 0, 1"
     ]
    },
    {
     "name": "stdout",
     "output_type": "stream",
     "text": [
      ", 1, 1, 0], [0, 1, 0, 1, 1, 1], [0, 0, 1, 1, 0, 0], [1, 0, 0, 1, 0, 1], [1, 1, 1, 1, 0, 1], [1, 0, 1, 0, 0, 1], [1, 0, 0, 0, 0, 0], [0, 1, 1, 1, 0, 1], "
     ]
    },
    {
     "name": "stdout",
     "output_type": "stream",
     "text": [
      "[0, 1, 0, 0, 0, 0], [1, 1, 1, 0, 0, 1], [0, 0, 1, 1, 1, 1], [1, 1, 1, 0, 0, 0], [1, 1, 1, 1, 0, 0], [0, 0, 0, 1, 1, 1], [0, 1, 1, 0, 0, 1], "
     ]
    },
    {
     "name": "stdout",
     "output_type": "stream",
     "text": [
      "[1, 0, 1, 0, 1, 1], [1, 1, 1, 1, 1, 1], [0, 1, 0, 1, 1, 1], [0, 0, 1, 0, 0, 0], [1, 1, 1, 0, 0, 0], [0, 1, 0, 1, 0, 1], [0, 0, 0, 0, 0, 1], [1, 0, 0, 0, 0, 1], [1, 1, 1, 0, 1, 0], [0, 1, 0, 0, 1, 1], [0, 1, 0, 0, 0, 0], [1, 0, 0, 0, 0, 1], [0, 1, 1, 0, 1, 0], "
     ]
    },
    {
     "name": "stdout",
     "output_type": "stream",
     "text": [
      "[0, 1, 0, 0, 1, 0], [1, 0, 0, 0, 1, 0], [0, 1, 0, 0, 0, 0], [1, 1, 1, 1, 1, 0], [0, 0, 1, 1, 1, 1], [1, 1, 0, 1, 1, 0], [0, 1, 1, 1,"
     ]
    },
    {
     "name": "stdout",
     "output_type": "stream",
     "text": [
      " 0, 1], [0, 0, 0, 0, 1, 0], [0, 1, 0, 1, 0, 0]]\n",
      "\n",
      "For convenience, the table is provided:\n",
      "Any[[0, 0, 0, 0, 0, 0], [1, 0, 0, 0, 0, 0], [0, 1, 0, 0, 0, 0], [0, 0, 1, 0, 0, 0], [0, 0,"
     ]
    },
    {
     "name": "stdout",
     "output_type": "stream",
     "text": [
      " 0, 1, 0, 0], [0, 0, 0, 0, 1, 0], [0, 0, 0, 0, 0, 1], [1, 1, 1, 0, 0, 1], [1, 0, 0, 1, 0, 1], [1, 0, 1, 0, 1, 1], [1, 0, 1, 1, 0, 0], [0, 1, 0, 1, 1, 0], [0, 0, 1, 0, 1, 1], "
     ]
    },
    {
     "name": "stdout",
     "output_type": "stream",
     "text": [
      "[1, 1, 1, 1, 0, 0], [0, 1, 1, 1, 1, 0], [0, 0, 1, 1, 1, 1], [1, 1, 1, 1, 1, 0], [0, 1, 1, 1, 1, 1], [1, 1, 0, 1, 1, 0], [0, 1, 1, 0, 1, 1], [1, 1, 0, 1, 0, 0], [0, 1, 1, 0, 1, 0], [0, 0, 1, 1, 0, 1], [1, 1, 1"
     ]
    },
    {
     "name": "stdout",
     "output_type": "stream",
     "text": [
      ", 1, 1, 1], [1, 0, 0, 1, 1, 0], [0, 1, 0, 0, 1, 1], [1, 1, 0, 0, 0, 0], [0, 1, 1, 0, 0, 0], [0, 0, 1, 1, 0, 0], [0, 0, 0, 1, 1, 0], [0, 0, 0, 0, 1, 1], [1, 1, 1, 0, 0, 0], [0, 1, 1, 1, 0, 0], [0, 0,"
     ]
    },
    {
     "name": "stdout",
     "output_type": "stream",
     "text": [
      " 1, 1, 1, 0], [0, 0, 0, 1, 1, 1], [1, 1, 1, 0, 1, 0], [0, 1, 1, 1, 0, 1], [1, 1, 0, 1, 1, 1], [1, 0, 0, 0, 1, 0], [0, 1, 0, 0, 0, 1], [1, 1, 0, 0, 0, 1], [1, 0, 0, 0, 0, 1], [1, 0, 1, 0, 0, 1], [1, 0, 1, 1, 0, 1], [1, 0, 1, 1, 1, 1], [1, 0, 1, 1, 1, 0], [0, 1, 0, 1, 1, 1], [1, 1, 0, 0, 1, 0], [0, 1, 1, 0, 0, 1], [1, 1, 0, 1, 0, 1], [1, 0, 0, 0, 1, 1], [1, 0, 1, 0, 0, 0], [0, 1, 0, 1, 0, 0], [0, 0, 1, 0, 1, 0], [0, 0, 0, 1, 0, 1], "
     ]
    },
    {
     "name": "stdout",
     "output_type": "stream",
     "text": [
      "[1, 1, 1, 0, 1, 1], [1, 0, 0, 1, 0, 0], [0, 1, 0, 0, 1, 0], [0, 0, 1, 0, 0, 1], [1, 1, 1, 1, 0, 1], [1, 0, 0, 1, 1, 1], [1, 0, 1, 0, 1, 0], [0, 1, 0, 1, 0, 1], [1, 1, 0, 0, 1, 1]]\n"
     ]
    }
   ],
   "source": [
    "# Test\n",
    "q = 64\n",
    "p = 2\n",
    "f_x = [1, 1, 1, 0, 0, 1, 1]\n",
    "Table = Table_generator(q,p,f_x)\n",
    "d = 7\n",
    "n = q-1\n",
    "k = n-d+1\n",
    "t = floor(Int64,(d-1)/2)\n",
    "a = 2  # a is chosen to be [0, 1, 0, 0] for simplification\n",
    "RSPoly(q,p,d,n,k,t,a,Table)\n",
    "nothing"
   ]
  },
  {
   "cell_type": "code",
   "execution_count": 109,
   "metadata": {},
   "outputs": [
    {
     "name": "stdout",
     "output_type": "stream",
     "text": [
      "1.  Message m is [104, 58, 84, 66, 14, 127, 67, 82, 90, 10, 49, 28, 25, 50, 5, 58, 6, 27, 35, 30, 0, 90, 10, 74, 37, 31, 46, 10, 60, 83, 48, 125, 80, 1, 127, 8, 125, 85, 102, 37, 20, 41, 30, 49, 58, 40, 109, 69, 23, 65, 111, 56, 64, 125, 27, 57, 126, 90, 82, 79, 34, 127, 57, 125, 104, 71, 108, 47, 82, 105, 80, 27, 116, 127, 126, 73, 0, 116, 45, 1, 4, 66, 28, 19, 111, 69, 45, 2, 89, 51, 126, 26, 2, 17, 44, 104, 32, 8, 127, 75, 109, 8, 2, 55, 74, 45, 0, 88, 121, 72, 84, 20, 51, 77, 54, 55, 8, 72, 105, 105, 54]\n",
      "\n"
     ]
    },
    {
     "name": "stdout",
     "output_type": "stream",
     "text": [
      "2.  Codeword c is [34, 120, 0, 53, 38, 9, 46, 114, 64, 70, 29, 119, 74, 43, 36, 57, 102, 9, 45, 2, 37, 60, 22, 50, 113, 0, 70, 115, 4, 113, 16, 71, 106, 12, 57, 32, 101, 74, 115, 32, 79, 109, 28, 24, 8, 106, 81, 94, 21, 66, 99, 81, 2, 103, 72, 122, 100, 0, 31, 25, 108, 62, 82, 77, 115, 62, 1, 30, 40, 22, 8, 96, 62, 124, 11, 105, 54, 100, 22, 89, 58, 89, 1, 100, 121, 49, 56, 40, 35, 93, 68, 98, 65, 121, 82, 108, 60, 21, 83, 98, 88, 78, 57, 119, 65, 115, 77, 104, 103, 127, 85, 117, 15, 10, 120, 126, 79, 93, 13, 97, 123, 54, 104, 37, 92, 0, 71]\n",
      "\n",
      "3.  Error position is [44, 54, 63]\n",
      "\n",
      "4.  Error vector is [0, 0, 0, 0, 0, 0, 0, 0, 0, 0, 0, 0, 0, 0, 0"
     ]
    },
    {
     "name": "stdout",
     "output_type": "stream",
     "text": [
      ", 0, 0, 0, 0, 0, 0, 0, 0, 0, 0, 0, 0, 0, 0, 0, 0, 0, 0, 0, 0, 0, 0, 0, 0, 0, 0, 0, 0, 120, 0, 0, 0, 0, 0, 0, 0, 0, 0, 62, 0, 0, 0, 0, 0, 0, 0, 0, 18, 0, 0, 0, 0, 0, 0, 0, 0, 0, 0, 0, 0, 0, 0, 0, 0, 0, 0, 0, 0, 0, 0, 0, 0, 0, 0, 0, 0, 0, 0, 0, 0, 0, 0, 0, 0, 0, 0, 0, 0, 0, 0, 0, 0, 0, 0, 0, 0, 0, 0, 0, 0, 0, 0, 0, 0, 0, 0, 0, 0, 0, 0, 0, 0]\n",
      "\n",
      "5.  Received word is [34, 120, 0, 53, 38, 9, 46, 114, 64, 70, 29, 119, 74, 43, 36, 57, 102, 9, 45, 2, 37, 60, 22, 50, 113, 0, 70, 115, 4, 113, 16, 71, 106, 12, 57, 32, 101, 74, 115, 32, 79, 109, 28, 9, 8, 106, 81, 94, 21, 66, 99, 81, 2, 28, 72, 122, 100, 0, 31, 25, 108, 62, 15, 77, 115, 62, 1, 30, 40, 22, 8, 96, 62, 124, 11, 105, 54, 100, 22, 89, 58, 89, 1, 100, 121, 49, 56, 40, 35, 93, 68, 98, 65, 121, 82, 108, 60, 21, 83, 98, 88, 78, 57, 119, 65, 115, 77, 104, 103, 127, 85, 117, 15, 10, 120, 126, 79, 93, 13, 97, 123, 54, 104, 37, 92, 0, 71]\n",
      "\n",
      "6.  Syndrome polynomial S(z) = 101 + 22*z + 43*z^2 + 73*z^3 + 79*z^4 + 13*z^5\n",
      "\n",
      "7.  Locator polynomial L(z) = 56 + 20*z + 5*z^2 + 87*z^3\n",
      "\n",
      "8.  Error evaluator polynomial E(z) = 29 + 103*z"
     ]
    },
    {
     "name": "stdout",
     "output_type": "stream",
     "text": [
      " + 101*z^2\n",
      "\n",
      "9. Estimated error position is [44, 54, 63]\n",
      "\n",
      "10. Estimated error is [0, 0, 0, 0, 0, 0, 0, 0, 0, 0, 0, 0, 0, 0, 0, 0, 0, 0, 0, 0, 0, 0, 0, 0, 0, 0, 0, 0, 0, 0, 0, 0, 0, 0, 0, 0, 0, 0, 0, 0, 0, 0, 0, 120, 0, 0, 0, 0, 0, 0, 0, 0, 0, 62, 0, 0, 0, 0, 0, 0, 0, 0, 18, 0, 0, 0, 0, 0, 0, 0, 0, 0, 0, 0, 0, 0, 0, 0, 0, 0, 0, 0, 0, 0, 0, 0, 0, 0, 0, 0, 0, 0, 0, 0, 0, 0, 0, 0, 0, 0, 0, 0, 0, 0, 0, 0, 0, 0, 0, 0, 0, 0, 0, 0, 0, 0, 0, 0, 0, 0, 0, 0, 0, 0, 0, 0, 0]\n",
      "\n",
      "11. Estimated codeword is [34, 120, 0, 53, 38, 9, 46, 114, 64, 70, 29, 119, 74, 43, 36, 57, 102, 9, 45, 2, 37, 60, 22, 50, 113, 0, 70, 115, 4, 113, 16, 71, 106, 12, 57, 32, 101, 74, 115, 32, 79, 109, 28, 24, 8, 106, 81, 94, 21, 66, 99, 81, 2, 103, 72, 122, 100, 0, 31, 25, 108, 62, 82, 77, 115, 62, 1, 30, 40, 22, 8, 96, 62, 124, 11, 105, 54, 100, 22, 89, 58, 89, 1, 100, 121, 49, 56, 40, 35, 93, 68, 98, 65, 121, 82, 108, 60, 21, 83, 98, 88, 78, 57, 119, 65, 115, 77, 104, 103, 127, 85, 117, 15, 10, 120, 126, 79, 93, 13, 97"
     ]
    },
    {
     "name": "stdout",
     "output_type": "stream",
     "text": [
      ", 123, 54, 104, 37, 92, 0, 71]\n",
      "\n"
     ]
    },
    {
     "name": "stdout",
     "output_type": "stream",
     "text": [
      "12. Estimated message is [104, 58, 84, 66, 14, 127, 67, 82, 90, 10, 49, 28, 25, 50, 5, 58, 6, 27, 35, 30, 0, 90, 10, 74, 37, 31, 46, 10, 60, 83, 48, 125, 80, 1, 127, 8, 125, 85, 102, 37, 20, 41, 30, 49, 58, 40,"
     ]
    },
    {
     "name": "stdout",
     "output_type": "stream",
     "text": [
      " 109, 69, 23, 65, 111, 56, 64, 125, 27, 57, 126, 90, 82, 79, 34, 127, 57, 125, 104, 71, 108, 47, 82, 105, 80, 27, 116, 127, 126, 73, 0, 116, 45"
     ]
    },
    {
     "name": "stdout",
     "output_type": "stream",
     "text": [
      ", 1, 4, 66, 28, 19, 111, 69, 45, 2, 89, 51, 126, 26, 2, 17, 44, 104, 32, 8, 127, 75, 109, 8, 2, 55, 74, 45, 0, 88, 121, 72, 84, 20, 51, 77, 54, 55, 8, 72, 105, 105, 54]\n",
      "\n",
      "🙂🙂🙂 Recovery Successful 🙂🙂🙂\n",
      "\n",
      "Put original message and estimated message together to compare:\n",
      "[104, 58, 84, 66, 14, 127, 67, 82, 90, 10, 49, 28, 25, 50, 5, 58, 6, 27, 35, 30, 0, 90, 10, 74, 37, 31, 46, 10, 60, 83, 48, 125, 80, 1, 127, 8, 125, 85, 102, 37, 20, 41, 30, 49, 58, 40, 109, 69, 23, 65, 111, 56, 64, "
     ]
    },
    {
     "name": "stdout",
     "output_type": "stream",
     "text": [
      "125, 27, 57, 126, 90, 82, 79, 34, 127, 57, 125, 104, 71, 108, 47, 82, 105, 80, 27, 116, 127, 126, 73, 0, 116, 45, 1, 4"
     ]
    },
    {
     "name": "stdout",
     "output_type": "stream",
     "text": [
      ", 66, 28, 19, 111, 69, 45, 2, 89, 51, 126, 26, 2, 17, 44, 104, 32, 8, 127, 75, 109, 8, 2, 55, 74, 45, 0, 88, 121, 72, 84, 20, 51, 77, 54, 55, 8, 72, 105, 105, 54]\n",
      "[104, 58, 84, 66, 14, 127, 67, 82, 90, 10, 49, 28, 25, 50, 5, 58, 6, 27, 35, 30, 0, 90, 10, 74, 37, 31, 46, 10, 60, 83, 48, 125, 80, 1, 127, 8, 125, 85, 102, 37, 20, 41, 30, 49, 58, 40, 109, 69, 23, 65, 111, 56, 64,"
     ]
    },
    {
     "name": "stdout",
     "output_type": "stream",
     "text": [
      " 125, 27, 57, 126, 90, 82, 79, 34, 127, 57, 125, 104, 71, 108, 47, 82, 105, 80, 27, 116, 127, 126, 73, 0, 116, 45, 1, 4, 66, 28, 19, 111, 69, 45, 2, 89, 51, 126, 26, 2, 17, 44, 104, 32, 8, 127, 75, 109, 8, 2, 55, 74, 45, 0, 88, 121, 72, 84, 20, 51, 77, 54, 55, 8, 72, 105, 105, 54]\n",
      "\n",
      "The above m is in the Index form, the polynomial form of m is:\n",
      "Any[[1, 0, 0, 0, 1, 0, 0], [1, 0, 1, 0, 1, 1, 1], [1, 1, 1, 1, 0, 1, 1], [0, 1, 0, 0, 1, 1, 0], [1, 1, 1, 1, 1, 1, 0], [0, 0, 0, 0, 0, 1, 1], "
     ]
    },
    {
     "name": "stdout",
     "output_type": "stream",
     "text": [
      "[0, 0, 1, 0, 0, 1, 1], [1, 1, 0, 1, 0, 0, 1], [1, 0, 1, 0, 0, 1, 0], [1, 1, 1, 0, 0, 0, 1], [1, 1, 0, 1, 1, 0, 1], [1, 1, 0, 0, 1, 1, 1], [0, 1, 1, 0, 0, 1, 0], [1, 1, 1, 0, 1, 1, 1], [0, 0, 0, 0, 1, 0, 0], [1, 0, 1, 0, 1, 1, 1], [0, 0, 0, 0, 0, 1, 0], [1, 0, 0, 1, 1, 0, 1], [1, 0, 1, 1, 1, 0, 0], [0, 1, 1, 1, 0, 0, 1], [0, 0, 0, 0, 0, 0, 0], [1, 0, 1"
     ]
    },
    {
     "name": "stdout",
     "output_type": "stream",
     "text": [
      ", 0, 0, 1, 0], [1, 1, 1, 0, 0, 0, 1], [1, 1, 1, 0, 0, 0, 0], [0, 0, 1, 0, 1, 1, 1], [1, 0, 1, 1, 1, 0, 1], [1, 1, 0, 0, 0, 1, 0], [1, 1, 1, 0, 0, 0, 1], [0, 1, 1, 0, 1, 0, 1], ["
     ]
    },
    {
     "name": "stdout",
     "output_type": "stream",
     "text": [
      "1, 1, 1, 0, 1, 0, 1], [1, 0, 1, 1, 0, 0, 1], [0, 0, 0, 1, 1, 0, 0], [0, 1, 0, 0, 0, 0, 1], [1, 0, 0, 0, 0, 0, 0], [0, 0, 0, 0, 0, 1, 1], [1, 0, 0, 0, 0, 0, 1], [0, 0, 0, 1, 1, 0, 0], [1, 1, 1, 1, 1, 0, 0], [0"
     ]
    },
    {
     "name": "stdout",
     "output_type": "stream",
     "text": [
      ", 0, 1, 0, 1, 1, 0], [0, 0, 1, 0, 1, 1, 1], [1, 0, 1, 0, 1, 0, 0], [1, 1, 0, 1, 0, 0, 0], [0, 1, 1, 1, 0, 0, 1], [1, 1, 0, 1, 1, 0, 1], [1, 0, 1, 0, 1, 1, 1], [1, 0, 1, 0, 0, 1, 1], [1, 1, 1, 0, 0, 1, 1], "
     ]
    },
    {
     "name": "stdout",
     "output_type": "stream",
     "text": [
      "[0, 1, 0, 0, 1, 0, 0], [1, 0, 0, 1, 0, 1, 1], [1, 0, 0, 1, 1, 0, 0], [0, 1, 1,"
     ]
    },
    {
     "name": "stdout",
     "output_type": "stream",
     "text": [
      " 1, 1, 0, 0], [1, 0, 1, 1, 0, 1, 0], [0, 0, 1, 1, 0, 1, 1], [0, 0, 0, 1, 1, 0, 0], [1, 0, 0, 1, 1, 0, 1], [0, 1, 0, 1, 1, 0, 1], [0,"
     ]
    },
    {
     "name": "stdout",
     "output_type": "stream",
     "text": [
      " 0, 0, 0, 1, 1, 0], [1, 0, 1, 0, 0, 1, 0], [1, 1, 0, 1, 0, 0, 1], [1, 0, 0, 0, 0, 1, 0], [0, 1, 1, 1, 0, 1, 1], [0, 0, 0, 0, 0, 1, 1], "
     ]
    },
    {
     "name": "stdout",
     "output_type": "stream",
     "text": [
      "[0, 1, 0, 1, 1, 0, 1], [0, 0, 0, 1, 1, 0, 0], [1, 0, 0, 0, 1, 0, 0], [0, 0, 0, 1, 0, 0, 1], [1, 1, 0, 0, 1, 0, 1], [0, 1, 1, 0, 0, 0, 1], [1, 1, 0, 1, 0, 0, 1], [0, 1, 0"
     ]
    },
    {
     "name": "stdout",
     "output_type": "stream",
     "text": [
      ", 0, 0, 1, 0], [0, 1, 0, 0, 0, 0, 1], [1, 0, 0, 1, 1, 0, 1], [1, 0, 1, 0, 0, 0, 0], [0, 0, 0, 0, 0, 1, 1], [0, 0, 0, 0, 1, 1, 0], [1, 1, 0, 0, 0, 1, 1], [0, 0, 0, 0, 0, 0, 0], [1, 0, 1, 0, 0, 0, 0], [1, 0, 0, 0, 1, 1, 1], [1, 0, 0, 0, 0, 0, "
     ]
    },
    {
     "name": "stdout",
     "output_type": "stream",
     "text": [
      "0], [0, 0, 0, 1, 0, 0, 0], [0, 1, 0, 0, 1, 1, 0], [1, 1, 0, 0, 1, 1, "
     ]
    },
    {
     "name": "stdout",
     "output_type": "stream",
     "text": [
      "1], [0, 1, 0, 1, 0, 1, 1], [0, 1, 1, 1, 1, 0, 0], [0, 1, 0, 0, 1, 0, 0], [1, 0, 0, 0, 1, 1, 1], [0, 1, 0, 0, 0, 0, 0], [0, 1, 0, 0, 1, 1, 1], [1, 1, 1, 1, 0, 1, 0], [0, 0, 0, 0, 1, "
     ]
    },
    {
     "name": "stdout",
     "output_type": "stream",
     "text": [
      "1, 0], [0, 0, 1, 1, 0, 0, 1], [0, 1, 0, 0, 0, 0, 0], [0, 1, 0, 1, 1, 1, 1], [0, 0, 0, 1, 1, 0, 1], [1, 0, 0, 0, 1, 0, 0], [1, 1, 0, 1, 1, 1, 1], [1, 0, 0, 0, 0, 0, 1], [0, 0, 0, 0, 0, 1, 1], [0, 1, 1, 1, 0, 0, 0], [1, 1, 1, 0, 0, 1, 1], [1, 0, 0, 0, 0, 0, 1], [0, 1, 0, 0, 0, 0, 0], "
     ]
    },
    {
     "name": "stdout",
     "output_type": "stream",
     "text": [
      "[0, 1, 1, 0, 1, 1, 1], [1, 1, 1, 0, 0, 0, 0], [1, 0, 0, 0, 1, 1, 1], [0, 0, 0, 0, 0, 0, 0], [1, 0, 0, 1, 1, 1, 0], [1, 0, 0, 0, 0, 1, 1], [1, 0, 0, 0, 1, 0, 1], [1, 1, 1, 1, 0, 1, 1], [1, 0, 1,"
     ]
    },
    {
     "name": "stdout",
     "output_type": "stream",
     "text": [
      " 0, 1, 0, 0], [1, 1, 1, 1, 0, 1, 0], [0, 0, 0, 1, 1, 1, 0], [1, 1, 0, 1, 1, 1, 0], [0, 1, 1, 0, 1, 1, 1], [1, 0, 0, 0, 0, 0, 1], ["
     ]
    },
    {
     "name": "stdout",
     "output_type": "stream",
     "text": [
      "1, 0, 0, 0, 1, 0, 1], [0, 1, 0, 0, 0, 1, 0], [0, 1, 0, 0, 0, 1, 0], [1, 1, 0, 1, 1, 1, 0]]\n",
      "\n",
      "For convenience, the table is provided:\n",
      "Any[[0, 0, 0, 0, 0, 0, 0], [1, 0, 0, 0, 0, 0, 0], [0, 1, 0, 0, 0, 0, 0], [0, 0,"
     ]
    },
    {
     "name": "stdout",
     "output_type": "stream",
     "text": [
      " 1, 0, 0, 0, 0], [0, 0, 0, 1, 0, 0, 0], [0, 0, 0, 0, 1, 0, 0], [0, 0, 0, 0, 0, 1, 0], [0, 0, 0, 0, 0, 0, 1], [1, 0, 0, 0, 0, 0, 1], [1, 1, 0, 0"
     ]
    },
    {
     "name": "stdout",
     "output_type": "stream",
     "text": [
      ", 0, 0, 1], [1, 1, 1, 0, 0, 0, 1], [1, 1, 1, 1, 0, 0, 1], [1, 1, 1, 1, 1, 0, 1], [1, 1, 1, 1, 1, 1, 1], [1, 1, 1, 1, 1, 1, 0], "
     ]
    },
    {
     "name": "stdout",
     "output_type": "stream",
     "text": [
      "[0, 1, 1, 1, 1, 1, 1], [1, 0, 1, 1, 1, 1, 0], [0, 1, 0, 1, 1, 1, 1], [1, 0, 1, 0, 1, 1, 0], [0, 1, 0, 1, 0, 1, 1], [1, 0, 1, 0, 1, 0, 0], [0, 1, 0, 1, 0, 1, 0], [0, 0, 1, 0, 1, 0, 1], [1, 0, 0, 1, 0, 1, 1], "
     ]
    },
    {
     "name": "stdout",
     "output_type": "stream",
     "text": [
      "[1, 1, 0, 0, 1, 0, 0], [0, 1, 1, 0, 0, 1, 0], [0, 0, 1, 1, 0, 0, 1], [1, 0, 0, 1, 1, 0, 1], [1, 1, 0, 0, 1, 1, 1], [1, 1, 1, 0, 0, 1, 0"
     ]
    },
    {
     "name": "stdout",
     "output_type": "stream",
     "text": [
      "], [0, 1, 1, 1, 0, 0, 1], [1, 0, 1, 1, 1, 0, 1], [1, 1, 0, 1, 1, 1, 1], [1, 1, 1, 0, 1, 1, 0], [0, 1, 1, 1, 0, 1, 1], [1, 0, 1, 1, 1, 0, 0], [0, 1, 0, 1, 1, 1, 0], "
     ]
    },
    {
     "name": "stdout",
     "output_type": "stream",
     "text": [
      "[0, 0, 1, 0, 1, 1, 1], [1, 0, 0, 1, 0, 1, 0], [0, 1, 0, 0, 1, 0, 1], [1, 0, 1, 0, 0, 1, 1], [1, 1, 0, 1, 0, 0, 0], [0, 1, 1, 0, 1, 0, 0], [0, 0, 1, 1, 0, 1, 0], [0, 0, 0, 1, 1, 0, 1], [1, 0, 0, 0, 1, 1, 1], [1, 1, 0, 0, 0, 1, 0], [0, 1, 1, 0, 0, 0, 1], [1, 0, 1, 1, 0, 0, 1], [1, 1, 0, 1, 1, 0, 1], "
     ]
    },
    {
     "name": "stdout",
     "output_type": "stream",
     "text": [
      "[1, 1, 1, 0, 1, 1, 1], [1, 1, 1, 1, 0, 1, 0], [0, 1, 1, 1, 1, 0, 1], [1, 0, 1, 1, 1, 1, 1], [1, 1, 0, 1, 1, 1, 0], [0, 1, 1, 0, 1, 1, 1], [1, 0, 1, 1, 0, 1, 0], [0, 1, 0, 1, 1, 0, 1], [1, 0, 1, 0, 1, 1, 1], [1, 1, 0, 1, 0, 1, 0], [0, 1, 1, 0, 1, 0, 1], [1, 0, 1, 1, 0, 1, 1], [1, 1, 0, 1, 1, 0, 0], [0, 1, 1, 0, 1, 1, 0], [0, 0, 1, 1, 0, 1, 1], [1, 0, 0, 1, 1, 0, 0], [0"
     ]
    },
    {
     "name": "stdout",
     "output_type": "stream",
     "text": [
      ", 1, 0, 0, 1, 1, 0], [0, 0, 1, 0, 0, 1, 1], [1, 0, 0, 1, 0, 0, 0], [0, 1, 0, 0, 1, 0, 0], [0, 0, 1, 0, 0, 1, 0], [0, 0, 0, 1, 0, 0, 1], [1, 0, 0, 0, 1, 0, 1], [1, 1, "
     ]
    },
    {
     "name": "stdout",
     "output_type": "stream",
     "text": [
      "0, 0, 0, 1, 1], [1, 1, 1, 0, 0, 0, 0], [0, 1, 1, 1, 0, 0, 0], [0, 0, 1, 1, 1, 0, 0], [0, 0, 0, 1, 1, 1, 0], [0, 0, 0, 0, 1, 1, 1], [1, 0, 0, 0, 0,"
     ]
    },
    {
     "name": "stdout",
     "output_type": "stream",
     "text": [
      " 1, 0], [0, 1, 0, 0, 0, 0, 1], [1, 0, 1, 0, 0, 0, 1], [1, 1, 0, 1, 0, 0, 1], [1, 1, 1, 0, 1, 0, 1], [1, 1, 1, 1, 0, 1, 1], [1, 1, 1, 1, 1, 0, 0], [0, 1, 1, 1, 1, 1, 0], [0, 0, 1, 1, 1, 1, 1]"
     ]
    },
    {
     "name": "stdout",
     "output_type": "stream",
     "text": [
      ", [1, 0, 0, 1, 1, 1, 0], [0, 1, 0, 0, 1, 1, 1], [1, 0, 1, 0, 0, 1, 0], [0, 1, 0, 1, 0, 0, 1], [1, 0, 1, 0, 1, 0, 1], [1, 1, 0, 1, 0, 1, 1], [1, 1, 1, 0, 1, 0, 0], [0, 1, 1, 1, 0, 1, 0], "
     ]
    },
    {
     "name": "stdout",
     "output_type": "stream",
     "text": [
      "[0, 0, 1, 1, 1, 0, 1], [1, 0, 0, 1, 1, 1, 1], [1, 1, 0, 0, 1, 1, 0], [0, 1, 1, 0, 0, 1, 1], [1, 0, 1, 1, 0, 0, 0], [0, 1, 0, 1, 1, 0, 0], [0, 0, 1, 0, 1, 1, 0], [0, 0, 0, 1, 0, 1, 1], [1, 0, 0, 0, 1, 0, 0], [0, 1, 0, 0, 0, 1, 0], [0, 0, 1, 0, 0, 0, 1], [1, 0, 0, 1, 0, 0, 1], [1, 1, 0, 0, 1, 0, 1], [1, 1, 1, 0, 0, 1, 1], [1"
     ]
    },
    {
     "name": "stdout",
     "output_type": "stream",
     "text": [
      ", 1, 1, 1, 0, 0, 0], [0, 1, 1, 1, 1, 0, 0], [0, 0, 1, 1, 1, 1, 0], [0, 0, 0, 1, 1, 1, 1], [1, 0, 0, 0, 1, 1, 0], [0, 1, 0, 0, 0, 1, 1], [1, 0, 1, 0, 0, 0, 0], [0, 1, 0, 1, 0, 0, 0], [0, 0, 1, 0, 1, 0, 0], [0, 0, 0, 1,"
     ]
    },
    {
     "name": "stdout",
     "output_type": "stream",
     "text": [
      " 0, 1, 0], [0, 0, 0, 0, 1, 0, 1], [1, 0, 0, 0, 0, 1, 1], [1, 1, 0, 0, 0, 0, 0], [0, 1, 1, 0, 0, 0, 0], [0, 0, 1, 1, 0, 0, 0], [0, 0, 0, 1, 1, 0, 0], [0, 0, 0, 0, 1, 1, 0], [0, 0, 0, 0, 0, 1, 1]]\n"
     ]
    }
   ],
   "source": [
    "# Test\n",
    "q = 128\n",
    "p = 2\n",
    "f_x = [1, 0, 0, 0, 0, 0, 1, 1]\n",
    "Table = Table_generator(q,p,f_x)\n",
    "d = 7\n",
    "n = q-1\n",
    "k = n-d+1\n",
    "t = floor(Int64,(d-1)/2)\n",
    "a = 2  # a is chosen to be [0, 1, 0, 0] for simplification\n",
    "RSPoly(q,p,d,n,k,t,a,Table)\n",
    "nothing"
   ]
  },
  {
   "cell_type": "code",
   "execution_count": 110,
   "metadata": {},
   "outputs": [
    {
     "name": "stdout",
     "output_type": "stream",
     "text": [
      "1.  Message m is [11, 7, 13, 7, 23, 6, 1, 29, 17, 28, 10, 22, 2, 1, 12, 2, 19, 28, 12, 23, 31, 30, 25, 10, 4]\n",
      "\n",
      "2.  Codeword c is [6, 10, 11, 6, 13, 7, 29, 9, 23, 26, 15, 23, 19, 15, 4, 19, 5, 2, 13, 23, 14, 9, 10, 19, 19, 12, 26, 11, 14, 11, 29]\n",
      "\n",
      "3.  Error position is [3, 9, 13, 30]\n",
      "\n",
      "4.  Error vector is [0, 0, 8, 0, 0, 0, 0, 0, 17, 0, 0, 0, 31, 0, 0, 0, 0, 0, 0, 0, 0, 0, 0, 0, 0, 0, 0, 0, 0, 25, 0]\n",
      "\n",
      "5.  Received word is [6, 10, 13, 6, 13, 7, 29, 9, 27, 26, 15, 23, 8, 15, 4, 19, 5, 2, 13, 23, 14, 9, 10, 19, 19, 12, 26, 11, 14, 12, 29]\n",
      "\n",
      "6.  Syndrome polynomial S(z) = 6 + 25*z + z^2 + 13*z^3 + 12*z^4 + 25*z^5\n",
      "\n",
      "7.  Locator polynomial L(z) = 13 + 9*z + 26*z^2\n",
      "\n",
      "8.  Error evaluator polynomial E(z) = 18 + 25*z + 4*z^2 + 21*z^3\n"
     ]
    },
    {
     "name": "stdout",
     "output_type": "stream",
     "text": [
      "\n",
      "9. Estimated error position is Int64[]\n",
      "\n",
      "10. Estimated error is [0, 0, 0, 0, 0, 0, 0, 0, 0, 0, 0, 0, 0, 0, 0, 0, 0, 0, 0, 0, 0, 0, 0, 0, 0, 0, 0, 0, 0, 0, 0]\n",
      "\n",
      "11. Estimated codeword is [6, 10, 13, 6, 13, 7, 29, 9, 27, 26, 15, 23, 8, 15, 4, 19, 5, 2, 13, 23, 14, 9, 10, 19, 19, 12, 26, 11, 14, 12, 29]\n",
      "\n",
      "12. Estimated message is [25, 18, 26, 15, 21, 8, 4, 30, 1, 31, 21, 8, 1, 28, 19, 21, 25, 1, 21, 13, 3, 3, 14, 13, 1]\n",
      "\n",
      "!!!!! Fail to recover message m !!!!!\n",
      "\n",
      "Put original message and estimated message together to compare:\n",
      "[11, 7, 13, 7, 23, 6, 1, 29, 17"
     ]
    },
    {
     "name": "stdout",
     "output_type": "stream",
     "text": [
      ", 28, 10, 22, 2, 1, 12, 2, 19, 28, 12, 23, 31, 30, 25, 10, 4]\n",
      "[25, 18, 26, 15, 21, 8, 4, 30, 1, 31, 21, 8, 1, 28, 19, 21, 25, 1, 21, 13, 3, 3, 14, 13, 1]\n",
      "\n",
      "The above m is in the Index form, the polynomial form of m is:\n",
      "Any[[0, 0, 1, 1, 1], [0, 0, 0, 1, 1], [1, 0, 0, 0, 1], [1, 1, 0, 0, 0], [1, "
     ]
    },
    {
     "name": "stdout",
     "output_type": "stream",
     "text": [
      "1, 1, 1, 1], [1, 0, 1, 1, 0], [0, 0, 0, 1, 0], [0, 1, 0, 1, 0], [1, 0, 0, 0, 0], [0, 0, 1, 0, 1], [1, 1, 1, 1, 1], [1, 0, 1, 1, 0], [1, 0, 0, 0, 0], [0, 1"
     ]
    },
    {
     "name": "stdout",
     "output_type": "stream",
     "text": [
      ", 1, 0, 1], [1, 0, 0, 1, 1], [1, 1, 1, 1, 1], [0, 0, 1, 1, 1], [1, 0, 0, 0, 0], [1, 1, 1, 1, 1], [0, 1, 1, 1, 1], [0, 0, 1, 0, 0], [0, 0, 1, 0, 0], [1, 0, 1, 0"
     ]
    },
    {
     "name": "stdout",
     "output_type": "stream",
     "text": [
      ", 1], [0, 1, 1, 1, 1], [1, 0, 0, 0, 0]]\n",
      "\n",
      "For convenience, the table is provided:\n",
      "Any[[0, 0, 0, 0, 0], [1, 0, 0, 0, 0], [0, 1, 0, 0, 0], [0, 0, 1, 0, 0], [0, 0, 0, 1, 0], "
     ]
    },
    {
     "name": "stdout",
     "output_type": "stream",
     "text": [
      "[0, 0, 0, 0, 1], [1, 0, 0, 1, 0], [0, 1, 0, 0, 1], [1, 0, 1, 1, 0], [0, 1, 0, 1, 1], [1, 0, 1, 1, 1], [1, 1, 0, 0, 1], [1, 1, 1, 1, 0], [0, 1, 1, 1, 1], [1, 0, 1, 0, 1], "
     ]
    },
    {
     "name": "stdout",
     "output_type": "stream",
     "text": [
      "[1, 1, 0, 0, 0], [0, 1, 1, 0, 0], [0, 0, 1, 1, 0], [0, 0, 0, 1, 1], [1, 0, 0, 1, 1], [1, 1, 0, 1, 1], [1, 1, 1, 1, 1], [1, 1, 1, 0, 1], "
     ]
    },
    {
     "name": "stdout",
     "output_type": "stream",
     "text": [
      "[1, 1, 1, 0, 0], [0, 1, 1, 1, 0], [0, 0, 1, 1, 1], [1, 0, 0, 0, 1], [1, 1, 0, 1, 0], [0, 1, 1, 0, 1], [1, 0, 1, 0, 0], [0, 1, 0, 1, 0], [0, 0, 1, 0, 1]]\n"
     ]
    }
   ],
   "source": [
    "# Test\n",
    "# This result should be fail !!!!!!!!!!!!!!\n",
    "\n",
    "\n",
    "q = 32\n",
    "p = 2\n",
    "f_x = [1, 0, 0, 1, 0, 1]\n",
    "Table = Table_generator(q,p,f_x)\n",
    "d = 7\n",
    "n = q-1\n",
    "k = n-d+1\n",
    "t = floor(Int64,(d-1)/2) + 1     # If t exceed its limitation \n",
    "a = 2  # a is chosen to be [0, 1, 0, 0] for simplification\n",
    "RSPoly(q,p,d,n,k,t,a,Table)\n",
    "nothing"
   ]
  },
  {
   "cell_type": "markdown",
   "metadata": {},
   "source": [
    "## Highlight\n",
    "\n",
    "Please list a couple of highlights of your coursework that may impress your markers."
   ]
  },
  {
   "cell_type": "markdown",
   "metadata": {},
   "source": [
    "1. We provide multiple versions of functions to some questions, although some solution has problems, they are usually caused by the inaccuracy of floating point numbers, and we still find nice ways to solve all the questions.\n",
    "\n",
    "\n",
    "2. We almost explain everything in detail, with enough annotations.\n",
    "\n",
    "\n",
    "3. We implement some nice approaches to difficult questions, such as the Gaussian elimination.\n",
    "\n",
    "\n",
    "4. In 3.2, we map the polynomials to Indexes, this allows us to implement the whole process almost as usual --- 1. map the polynomials to Index, 2. Use Indexes for calculation, 3. Convert Indexes back to polynomials. The only difficulty is the arithmetical operation between Indexes, they are different from the normal operations. Hence, we designed our own addition, multiplication, division, modulation, etc. The result shows that our idea is correct."
   ]
  }
 ],
 "metadata": {
  "kernelspec": {
   "display_name": "Julia 1.6.3",
   "language": "julia",
   "name": "julia-1.6"
  },
  "language_info": {
   "file_extension": ".jl",
   "mimetype": "application/julia",
   "name": "julia",
   "version": "1.6.3"
  },
  "orig_nbformat": 4
 },
 "nbformat": 4,
 "nbformat_minor": 2
}
