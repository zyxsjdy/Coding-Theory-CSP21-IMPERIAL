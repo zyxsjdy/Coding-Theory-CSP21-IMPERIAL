{
 "cells": [
  {
   "cell_type": "markdown",
   "metadata": {},
   "source": [
    "# Coursework 2: Cryptography"
   ]
  },
  {
   "cell_type": "markdown",
   "metadata": {},
   "source": [
    "[X] By tick the checkbox, we hereby declare that this coursework report is our own and autonomous work. We have acknowledged all material and sources used in its preparation, including books, articles, reports, lecture notes, internet software packages, and any other kind of document, electronic or personal communication. This work has not been submitted for any other assessment."
   ]
  },
  {
   "cell_type": "markdown",
   "metadata": {},
   "source": [
    "## 2.1 ElGamal Public Key and Digital Signature (50%)"
   ]
  },
  {
   "cell_type": "markdown",
   "metadata": {},
   "source": [
    "### Please run the following helper functions first\n",
    "\n",
    "The function **string_to_ints** can **convert a string into a Unicode vector**. For example, when we input the string Message = \"Hi\"， then the function will change it into the Unicode vector [72,105].\n",
    "  \n",
    "Then the function **ints_to_string** can **convert a Unicode vector into a string** e.g. [72,105] ==> \"Hi\".\n",
    "\n",
    "This is a very powerful conversion, and even **emoji can be transformed and turned back**. e.g. \"🙂\" ==> [128578] ==> \"🙂\"\n",
    "\n",
    "Function **isprime** checks if the input is a prime.\n",
    "\n",
    "Function **primitive** finds the primitive element of a prime number."
   ]
  },
  {
   "cell_type": "code",
   "execution_count": 1,
   "metadata": {},
   "outputs": [
    {
     "data": {
      "text/plain": [
       "find_primitive (generic function with 1 method)"
      ]
     },
     "metadata": {},
     "output_type": "display_data"
    }
   ],
   "source": [
    "# Helper functions for messages which are strings\n",
    "\n",
    "# Funtion for to convering string to vector of Int64\n",
    "function string_to_ints(message::String)::Vector{Int64}\n",
    "    return [ Int64(char) for char in message ]\n",
    "end\n",
    "\n",
    "# Funtion is used to convering vector to string by converting\n",
    "# every element in array to a unicode char\n",
    "function ints_to_string(int_message::Vector{Int64})::String\n",
    "    return join(Char(int) for int in int_message)\n",
    "end\n",
    "\n",
    "# Function that checks if the input is prime\n",
    "function isprime(x::Int64)::Bool\n",
    "    if x < 3\n",
    "        return x > 1\n",
    "    elseif x % 2 == 0 || x % 3 == 0\n",
    "        return false\n",
    "    else\n",
    "        for i in 5:(sqrt(x)):6\n",
    "            if x % i == 0 || x % (i+2) == 0\n",
    "                return false\n",
    "                end\n",
    "        return true\n",
    "        end\n",
    "    end\n",
    "end\n",
    "\n",
    "# Function to find a primitive element\n",
    "function find_primitive(p::Int64)::Int64 # This function is used to find the first primitive element of p\n",
    "    @assert isprime(p)\n",
    "    primitive_element = 0\n",
    "    for i in ceil(sqrt(p)) : p # only find primitive element bigger than √p\n",
    "        result = 1\n",
    "        judgement = 0\n",
    "        for n in 1:p-1\n",
    "            result = mod(result*i,p)\n",
    "            if result == 1 # If x^n is equal to 1, then count once\n",
    "                judgement += 1\n",
    "            end \n",
    "        end\n",
    "        if judgement == 1 # If x^n only occurs one time, x is a primitive element\n",
    "            primitive_element = i\n",
    "            return convert(Int64, primitive_element)\n",
    "        end\n",
    "    end\n",
    "end\n"
   ]
  },
  {
   "cell_type": "code",
   "execution_count": 2,
   "metadata": {},
   "outputs": [
    {
     "name": "stdout",
     "output_type": "stream",
     "text": [
      "string_to_ints(\"Hi 🙂\") = [72, 105, 32, 128578]\n",
      "ints_to_string([72, 105, 32, 128578]) = \"Hi 🙂\"\n"
     ]
    },
    {
     "name": "stdout",
     "output_type": "stream",
     "text": [
      "find_primitive(11) = 6\n"
     ]
    },
    {
     "data": {
      "text/plain": [
       "6"
      ]
     },
     "metadata": {},
     "output_type": "display_data"
    }
   ],
   "source": [
    "# examples:\n",
    "\n",
    "@show string_to_ints(\"Hi 🙂\")\n",
    "\n",
    "@show ints_to_string([72, 105, 32, 128578])\n",
    "\n",
    "@show find_primitive(11)"
   ]
  },
  {
   "cell_type": "markdown",
   "metadata": {},
   "source": [
    "### 2.1.1 Key Generation\n",
    "\n",
    "From [this list](https://primes.utm.edu/lists/small/10000.txt) choose a prime number $p$ that is larger than 10,000. Find a primitive element $b$ in $\\mathbb{F}_p$ such that $b > \\sqrt{p}$. Choose an integer $a^{\\prime} > \\sqrt{p}$ as your private key and use it to generate $a = b^{a^{\\prime}} \\in \\mathbb{F}_p^*$. \n",
    "\n",
    "$(p,b,a)$ is the public information. "
   ]
  },
  {
   "cell_type": "markdown",
   "metadata": {},
   "source": [
    "### Theory: The ElGamal Cryptography\n",
    "1. The transmitted message is ($b^t,ma^t$), where b is a primitive element of prime p, a' is the private key and $a= b^{a'}$ is the public key.  \n",
    "\n",
    "2. The message received can be recovered computing $ma^t(b^t)^{-a'} = ma^tb^{-a't} = ma^ta^{-t}$ mod $p$."
   ]
  },
  {
   "cell_type": "markdown",
   "metadata": {},
   "source": [
    "### Solution: Function to generate the private and public keys\n",
    "\n",
    "Input p should be a prime number.\n",
    "\n",
    "Outputs:\n",
    "1. b is a primitive element of p (because the calculation of the primitive element of large prime numbers is very slow, in order to save time, we choose the first primitive element bigger than  $\\sqrt{p}$).\n",
    "\n",
    "2. a' is a random integer bigger than $\\sqrt{p}$. We choose a number bigger than $\\sqrt{p}$ and smaller than p, which is used as a private key.\n",
    "\n",
    "3. a equals to $b^{a'}\\in \\mathbb{F}_p^*$, which is used as public key.\n",
    "\n",
    "4. t is another random integer bigger than $\\sqrt{p}$.  We choose a number bigger than $\\sqrt{p}$ and smaller than p, which is used as a second private key.  "
   ]
  },
  {
   "cell_type": "code",
   "execution_count": 3,
   "metadata": {},
   "outputs": [
    {
     "data": {
      "text/plain": [
       "findkey (generic function with 1 method)"
      ]
     },
     "metadata": {},
     "output_type": "display_data"
    }
   ],
   "source": [
    "function findkey(p::Int64)::NTuple{4, Int64}\n",
    "    b = find_primitive(p) # choose the first primitive element of p\n",
    "    a′ = convert(Int,rand((ceil(sqrt(p)):p))) # randomly choose a' form √p to p\n",
    "    a = powermod(b,a′,p)  # a = b^a'\n",
    "    t = convert(Int,rand((ceil(sqrt(p)):p))) # randomly choose one t form √p to p\n",
    "    return (b,a′,a,t)\n",
    "end"
   ]
  },
  {
   "cell_type": "markdown",
   "metadata": {},
   "source": [
    "### 2.1.2 Encryption\n",
    "\n",
    "Design and implement a function `ElGamal_Encrypt`. Write necessary documentation. "
   ]
  },
  {
   "cell_type": "markdown",
   "metadata": {},
   "source": [
    "### Solution: Function to encrypt the Message\n",
    "\n",
    "1. The inputs t,b,p,a can be generated with the findkey function.   \n",
    "\n",
    "2. The other input ***message* is a string or integer(Smaller than p)** (Example for use of integer: **4-digit password will be transmitted faster**), e.g. message = \"Hi\" ; message = 4436\n",
    "\n",
    "3. The function will return the encrypted string."
   ]
  },
  {
   "cell_type": "code",
   "execution_count": 4,
   "metadata": {},
   "outputs": [
    {
     "data": {
      "text/plain": [
       "ElGamal_Encrypt (generic function with 1 method)"
      ]
     },
     "metadata": {},
     "output_type": "display_data"
    }
   ],
   "source": [
    "# function to encrypt the message accepts message as a string or an integer (Int type)\n",
    "# (we could not type enforce this due to Julia's lack of signed-unsigned implicit conversion on function parameters)\n",
    "function ElGamal_Encrypt(t::Int64, b::Int64, p::Int64, message::Union{Int64, String}, a::Int64)::Tuple{Int64,Union{Int64, Vector{Int64}}}\n",
    "    b_t = powermod(b, t, p) # b^t mod p\n",
    "    if message isa Int64\n",
    "        @assert p > abs(message) # raise an Error when message is bigger than p\n",
    "        if message >= 0\n",
    "            return (b_t, mod(message * powermod(a, t, p), p))\n",
    "        else\n",
    "            negative_int = string('-',abs(message)) # If the message is a negative integer, change it to string\n",
    "            return (b_t, [ mod(m * powermod(a, t, p), p) for m in string_to_ints(negative_int) ])\n",
    "        end\n",
    "    else  # If the message is a string, convert it to a tuple\n",
    "        return (b_t, [ mod(m * powermod(a, t, p), p) for m in string_to_ints(message) ])\n",
    "    end\n",
    "end"
   ]
  },
  {
   "cell_type": "markdown",
   "metadata": {},
   "source": [
    "### 2.1.3 Decryption\n",
    "\n",
    "Design and implement a function `ElGamal_Decrypt`. Write necessary documentation. \n",
    "\n",
    "Use at least 3 examples to demonstrate the correctness of your encryption and decryption functions. "
   ]
  },
  {
   "cell_type": "markdown",
   "metadata": {},
   "source": [
    "### Solution: Function to decrypt the Message\n",
    "\n",
    "This function can **convert the encrypted message back**. The inputs are the private key a',the prime number p and the message received."
   ]
  },
  {
   "cell_type": "code",
   "execution_count": 5,
   "metadata": {},
   "outputs": [
    {
     "data": {
      "text/plain": [
       "ElGamal_Decrypt (generic function with 1 method)"
      ]
     },
     "metadata": {},
     "output_type": "display_data"
    }
   ],
   "source": [
    "# function to decrypt encrypted message accepts either a single integer (if original message was an integer)\n",
    "# or a string (if the original message had been a string)\n",
    "function ElGamal_Decrypt(a′::Int64, p::Int64, message::Tuple{Int64, Union{Int64, Vector{Int64}}})::Union{Int64, String}\n",
    "    b_t, encrypted_message = message\n",
    "    if encrypted_message isa Int64\n",
    "        @assert p > abs(encrypted_message) # raise an Error when message is bigger than p\n",
    "        return mod(encrypted_message * powermod(invmod(b_t, p), a′, p), p)\n",
    "    else\n",
    "        return ints_to_string([ mod(m * powermod(b_t,-a′,p),p) for m in encrypted_message ]) #change the Unicode vector into a string\n",
    "    end\n",
    "end"
   ]
  },
  {
   "cell_type": "markdown",
   "metadata": {},
   "source": [
    "### Testing \n",
    "\n",
    "1.A prime number should be big enough to be set send an emoji (ex:161771, 187139, 619331, 710641) and a number smaller than 2,500,000, is necessary to not cause data overflow.   \n",
    "\n",
    "2.For text messages, a prime number p larger than 10,000 is sufficient.    \n",
    "\n",
    "3.The input should be **String** or **Integer(Smaller than p)**.\n",
    "\n",
    "4.**If there is an error in the result, please change a bigger p**.\n"
   ]
  },
  {
   "cell_type": "code",
   "execution_count": 29,
   "metadata": {},
   "outputs": [
    {
     "name": "stdout",
     "output_type": "stream",
     "text": [
      "The received message is: 4436\n"
     ]
    }
   ],
   "source": [
    "p = 104729 # p can be small for text\n",
    "Message = 4436\n",
    "\n",
    "(b,a′,a,t) = findkey(p)\n",
    "Encrypted_message = ElGamal_Encrypt(t,b,p,Message,a)\n",
    "println(\"The received message is: \" ,ElGamal_Decrypt(a′,p,Encrypted_message))"
   ]
  },
  {
   "cell_type": "code",
   "execution_count": 30,
   "metadata": {},
   "outputs": [
    {
     "name": "stdout",
     "output_type": "stream",
     "text": [
      "The received message is: -4436\n"
     ]
    }
   ],
   "source": [
    "p = 104729 # p can be small for text\n",
    "Message = -4436\n",
    "\n",
    "(b,a′,a,t) = findkey(p)\n",
    "Encrypted_message = ElGamal_Encrypt(t,b,p,Message,a)\n",
    "println(\"The received message is: \" ,ElGamal_Decrypt(a′,p,Encrypted_message))"
   ]
  },
  {
   "cell_type": "code",
   "execution_count": 8,
   "metadata": {},
   "outputs": [
    {
     "name": "stdout",
     "output_type": "stream",
     "text": [
      "The received message is: Imperial Coding Theory\n"
     ]
    }
   ],
   "source": [
    "p = 11863 # p can be small for text\n",
    "Message = \"Imperial Coding Theory\"  \n",
    "\n",
    "(b,a′,a,t) = findkey(p)\n",
    "Encrypted_message = ElGamal_Encrypt(t,b,p,Message,a)\n",
    "println(\"The received message is: \" ,ElGamal_Decrypt(a′,p,Encrypted_message))"
   ]
  },
  {
   "cell_type": "code",
   "execution_count": 9,
   "metadata": {},
   "outputs": [
    {
     "name": "stdout",
     "output_type": "stream",
     "text": [
      "The received message is: ICanSendEmoji🙂!\n"
     ]
    }
   ],
   "source": [
    "p = 161771    # p should be bigger enough for emoji\n",
    "Message = \"ICanSendEmoji🙂!\" \n",
    "\n",
    "(b,a′,a,t) = findkey(p)\n",
    "Encrypted_message = ElGamal_Encrypt(t,b,p,Message,a)\n",
    "println(\"The received message is: \" ,ElGamal_Decrypt(a′,p,Encrypted_message))"
   ]
  },
  {
   "cell_type": "code",
   "execution_count": 10,
   "metadata": {},
   "outputs": [
    {
     "name": "stdout",
     "output_type": "stream",
     "text": [
      "The received message is: JuliaCoding\n"
     ]
    }
   ],
   "source": [
    "p = 161771 # big p also works for text\n",
    "Message = \"JuliaCoding\"\n",
    "\n",
    "(b,a′,a,t) = findkey(p)\n",
    "Encrypted_message = ElGamal_Encrypt(t,b,p,Message,a)\n",
    "println(\"The received message is: \" ,ElGamal_Decrypt(a′,p,Encrypted_message))"
   ]
  },
  {
   "cell_type": "markdown",
   "metadata": {},
   "source": [
    "### 2.1.4 Digital Signature Sign\n",
    "\n",
    "Design and implement a function `ElGamal_Sign` to digitally sign a Message. Write necessary documentation. "
   ]
  },
  {
   "cell_type": "markdown",
   "metadata": {},
   "source": [
    "### Theory: Digital Signature with ElGamal Signature Scheme\n",
    "The digital signature should be constructed based on the message. It should be: $i = b^t$, $j = u(|m|-a'|i|)$, where b is the primitive element, a' the private key and a the public key. t is chosen *s.t.* $1\\leq t\\leq p-1$ and $gcd(t,p-1) = 1$. u is chosen *s.t.* $mod(ut,p-1) = 1$. We should transmit (i,j).\n",
    "\n",
    "The received signature is valid if $a^{|i|}i^j$ equals to $b^{|m|}$."
   ]
  },
  {
   "cell_type": "code",
   "execution_count": 11,
   "metadata": {},
   "outputs": [
    {
     "data": {
      "text/plain": [
       "ElGamal_Sign (generic function with 1 method)"
      ]
     },
     "metadata": {},
     "output_type": "display_data"
    }
   ],
   "source": [
    "function Sign_gen(p::Int64)::Tuple{Int64, Int64} #function to generate t and u used for the digital signature\n",
    "    candidates = [ i for i in 1:p-1 if gcd(i, p-1) == 1 ]\n",
    "    t_sign = candidates[rand((1:length(candidates)))] # randomly choose one t\n",
    "    u_sign = invmod(t_sign,p-1) # mod(t*u,p-1) = 1\n",
    "    return (t_sign,u_sign)\n",
    "end\n",
    "\n",
    "# function to generate the digital signature for the Message\n",
    "function ElGamal_Sign(b::Int64, keys::Tuple{Int64, Int64}, p::Int64, a′::Int64, message::Union{Int64, String})::Tuple{Int64, Union{Int64, Vector{Int64}}} \n",
    "    t_sign, u_sign = keys\n",
    "    i = powermod(b,t_sign,p) # i = b^t\n",
    "    if message isa Int64\n",
    "        @assert p > abs(message) # raise an Error when message is bigger than p\n",
    "        if message >= 0\n",
    "            return (i, mod(u_sign*(abs(message%p) - a′ * abs(i%p)),p-1))\n",
    "        else\n",
    "            negative_int = string('-',abs(message)) # If the message is a negative integer, change it to string\n",
    "            return (i, [ mod(u_sign*(abs(m%p) - a′ * abs(i%p)),p-1) for m in string_to_ints(negative_int) ])\n",
    "        end\n",
    "    else  # If the message is a string, convert it to a tuple\n",
    "        return (i, [ mod(u_sign*(abs(m%p) - a′ * abs(i%p)),p-1) for m in string_to_ints(message) ])\n",
    "    end\n",
    "end"
   ]
  },
  {
   "cell_type": "markdown",
   "metadata": {},
   "source": [
    "### 2.1.5 Digital Signature Verification\n",
    "\n",
    "Design and implement a function `ElGamal_SignVerify` to verify the digital sigature. Write necessary documentation. \n",
    "\n",
    "Use at least 3 examples to demonstrate the correctness of your functions for digital signature and verification. "
   ]
  },
  {
   "cell_type": "code",
   "execution_count": 12,
   "metadata": {},
   "outputs": [
    {
     "data": {
      "text/plain": [
       "ElGamal_SignVerify (generic function with 1 method)"
      ]
     },
     "metadata": {},
     "output_type": "display_data"
    }
   ],
   "source": [
    "# This function is to decrypt the digital signature, determine whether the digital signature is valid\n",
    "# accepts an (enforced by assertion not parameter type-enforced) integer as input or string\n",
    "function ElGamal_SignVerify(Sign::Tuple{Int64, Union{Int64, Vector{Int64}}} ,a::Int64,b::Int64, message::Union{Int64, String},p::Int64)::Bool\n",
    "    i, j = Sign\n",
    "    if message isa String\n",
    "        @assert j isa Vector{Int64}\n",
    "        int_message = string_to_ints(message) # Convert the original Message to Unicode\n",
    "        Sign_m = [ mod(powermod(a, abs(i%p), p)*powermod(i, n, p) , p) for n in j ]\n",
    "        b_m = [ powermod(b,abs(m%p),p) for m in int_message ]\n",
    "    elseif message < 0\n",
    "        negative_int = string('-',abs(message))\n",
    "        @assert j isa Vector{Int64}\n",
    "        int_message = string_to_ints(negative_int) # Convert the original Message to Unicode\n",
    "        Sign_m = [ mod(powermod(a, abs(i%p), p)*powermod(i, n, p) , p) for n in j ]\n",
    "        b_m = [ powermod(b,abs(m%p),p) for m in int_message ]\n",
    "    else\n",
    "        @assert j isa Int64\n",
    "        @assert p> abs(message) # raise an Error when message is bigger than p\n",
    "        Sign_m = mod(powermod(a, abs(i%p), p)*powermod(i, j, p) , p)\n",
    "        b_m = powermod(b, abs(message%p), p)\n",
    "    end\n",
    "    if b_m == Sign_m # If they are same, the signature is valid\n",
    "        println(\"The decrypted digital signature is: \",Sign_m)\n",
    "        println(\"The decrypted signature should be: \",b_m)\n",
    "        println(\"Valid\")\n",
    "        return true\n",
    "    else\n",
    "        println(\"The decrypted digital signature is: \",Sign_m)\n",
    "        println(\"The decrypted signature should be: \",b_m)\n",
    "        println(\"Not Valid\")\n",
    "        return false\n",
    "    end\n",
    "end"
   ]
  },
  {
   "cell_type": "markdown",
   "metadata": {},
   "source": [
    "### Testing \n",
    "\n",
    "**Input for this part is the same as in the previous testing section**.\n",
    "\n",
    "**If there is an error in the result, please change a bigger p**."
   ]
  },
  {
   "cell_type": "code",
   "execution_count": 13,
   "metadata": {},
   "outputs": [
    {
     "name": "stdout",
     "output_type": "stream",
     "text": [
      "The decrypted digital signature is: 4088\n",
      "The decrypted signature should be: 4088\n",
      "Valid\n"
     ]
    },
    {
     "data": {
      "text/plain": [
       "true"
      ]
     },
     "metadata": {},
     "output_type": "display_data"
    }
   ],
   "source": [
    "p = 11863 # p can be small for text\n",
    "Message = 4436 # non-negative integer can run faster!\n",
    "\n",
    "(b,a′,a,t) = findkey(p) # find the private and public keys\n",
    "Keys_sign= Sign_gen(p) # find the t and u for digital signature\n",
    "Sign = ElGamal_Sign(b,Keys_sign,p,a′,Message) # the digital signature\n",
    "ElGamal_SignVerify(Sign,a,b,Message,p) # judgement"
   ]
  },
  {
   "cell_type": "code",
   "execution_count": 14,
   "metadata": {},
   "outputs": [
    {
     "name": "stdout",
     "output_type": "stream",
     "text": [
      "The decrypted digital signature is: [4958, 10885, 10885, 11842, 2993]\n",
      "The decrypted signature should be: [4958, 10885, 10885, 11842, 2993]\n",
      "Valid\n"
     ]
    },
    {
     "data": {
      "text/plain": [
       "true"
      ]
     },
     "metadata": {},
     "output_type": "display_data"
    }
   ],
   "source": [
    "p = 15467 # p can be small for text\n",
    "Message = -4436\n",
    "\n",
    "(b,a′,a,t) = findkey(p) # find the private and public keys\n",
    "Keys_sign= Sign_gen(p) # find the t and u for digital signature\n",
    "Sign = ElGamal_Sign(b,Keys_sign,p,a′,Message) # the digital signature\n",
    "ElGamal_SignVerify(Sign,a,b,Message,p) # judgement"
   ]
  },
  {
   "cell_type": "code",
   "execution_count": 15,
   "metadata": {},
   "outputs": [
    {
     "name": "stdout",
     "output_type": "stream",
     "text": [
      "The decrypted digital signature is: [9545, 7533, 10311, 4586, 7653, 2989, 4774, 4096, 2184, 9621, 5101, 6681, 2989, 2550, 11370, 2184, 3811, 5578, 4586, 5101, 7653, 10731]\n",
      "The decrypted signature should be: [9545, 7533, 10311, 4586, 7653, 2989, 4774, 4096, 2184, 9621, 5101, 6681, 2989, 2550, 11370, 2184, 3811, 5578, 4586, 5101, 7653, 10731]\n",
      "Valid\n"
     ]
    },
    {
     "data": {
      "text/plain": [
       "true"
      ]
     },
     "metadata": {},
     "output_type": "display_data"
    }
   ],
   "source": [
    "p = 11863 # p can be small for text\n",
    "Message = \"Imperial Coding Theory\" \n",
    "\n",
    "(b,a′,a,t) = findkey(p) # find the private and public keys\n",
    "Keys_sign= Sign_gen(p) # find the t and u for digital signature\n",
    "\n",
    "Sign = ElGamal_Sign(b,Keys_sign,p,a′,Message) # the digital signature\n",
    "ElGamal_SignVerify(Sign,a,b,Message,p) # judgement"
   ]
  },
  {
   "cell_type": "code",
   "execution_count": 16,
   "metadata": {},
   "outputs": [
    {
     "name": "stdout",
     "output_type": "stream",
     "text": [
      "The decrypted digital signature is: [87165, 23378, 13964, 84823, 160603, 114297, 84823, 18962, 68124, 41148, 65738, 160422, 108109, 141335, 148555]\n",
      "The decrypted signature should be: [87165, 23378, 13964, 84823, 160603, 114297, 84823, 18962, 68124, 41148, 65738, 160422, 108109, 141335, 148555]\n",
      "Valid\n"
     ]
    },
    {
     "data": {
      "text/plain": [
       "true"
      ]
     },
     "metadata": {},
     "output_type": "display_data"
    }
   ],
   "source": [
    "p = 161771 # p should bigger enough for emoji\n",
    "Message = \"ICanSendEmoji🙂!\"\n",
    "\n",
    "(b,a′,a,t) = findkey(p) # find the private and public keys\n",
    "Keys_sign= Sign_gen(p) # find the t and u for digital signature\n",
    "\n",
    "Sign = ElGamal_Sign(b,Keys_sign,p,a′,Message) # the digital signature\n",
    "ElGamal_SignVerify(Sign,a,b,Message,p) # judgement"
   ]
  },
  {
   "cell_type": "code",
   "execution_count": 17,
   "metadata": {},
   "outputs": [
    {
     "name": "stdout",
     "output_type": "stream",
     "text": [
      "The decrypted digital signature is: [48306, 30660, 107021, 108109, 13964, 23378, 65738, 18962, 108109, 84823, 152997]\n",
      "The decrypted signature should be: [48306, 30660, 107021, 108109, 13964, 23378, 65738, 18962, 108109, 84823, 152997]\n",
      "Valid\n"
     ]
    },
    {
     "data": {
      "text/plain": [
       "true"
      ]
     },
     "metadata": {},
     "output_type": "display_data"
    }
   ],
   "source": [
    "p = 161771 # Big prime also works for text\n",
    "Message = \"JuliaCoding\"\n",
    "\n",
    "(b,a′,a,t) = findkey(p) # find the private and public keys\n",
    "Keys_sign= Sign_gen(p) # find the t and u for digital signature\n",
    "\n",
    "Sign = ElGamal_Sign(b,Keys_sign,p,a′,Message) # the digital signature\n",
    "ElGamal_SignVerify(Sign,a,b,Message,p) # judgement"
   ]
  },
  {
   "cell_type": "markdown",
   "metadata": {},
   "source": [
    "## 2.2 RSA Public Key and Digital Signature (50%)"
   ]
  },
  {
   "cell_type": "markdown",
   "metadata": {},
   "source": [
    "### 2.2.1 Key Generation\n",
    "\n",
    "From [this list](https://primes.utm.edu/lists/small/10000.txt) choose two prime numbers $p_1$ and $p_2$ that are larger than 10,000. Calculate $n=p_1 p_2$ and $t=(p_1-1)(p_2-1)$. Find an $e > 10,000$ such that $\\text{gcd}(e,t)=1$. \n",
    "\n",
    "$(n,e)$ is the public key. "
   ]
  },
  {
   "cell_type": "markdown",
   "metadata": {},
   "source": [
    "### Solution:\n",
    "The first stage in RSA Cryptography is the key generation stage. In this stage the following steps need to be followed:\n",
    "\n",
    "1. Pick 2 distinct prime numbers. For testing we picked the following pairs : $ (17627, 18121), (12241, 983), (42169, 13127)$ . As a note, in reality, these numbers would have to be very large, however, this is a prototype and the functionality we used relatively smaller prime numbers to avoid potential overflowing and large running times.\n",
    "\n",
    "\n",
    "2. Let $n=p1*p2$ and $t=(p1-1)(p2-1)$. For the prime numberswe have chosen the following n, t pairs would be generated:  $(319418867, 319383120), (12032903, 12019680), (553552463, 553497168) $\n",
    "\n",
    "\n",
    "3. The public key is $(n,e)$ where e is a number between 1 and t with $gcd(e,t) = 1$.\n"
   ]
  },
  {
   "cell_type": "code",
   "execution_count": 18,
   "metadata": {},
   "outputs": [
    {
     "data": {
      "text/plain": [
       "public_keys (generic function with 1 method)"
      ]
     },
     "metadata": {},
     "output_type": "display_data"
    }
   ],
   "source": [
    "#input: the prime numbers pair (p1,p2)\n",
    "#output: the public key (n,e)\n",
    "\n",
    "using Random\n",
    "\n",
    "function public_keys(primes::Tuple{Int64, Int64})::Tuple{Int64, Int64}\n",
    "    p1, p2 = primes\n",
    "    e = 0\n",
    "    while gcd(e, (p1-1)*(p2-1)) != 1\n",
    "      e = rand(3:(p1-1)*(p2-1))  # randomly choose an e to check if it satisfies the condition gcd(e,t) = 1\n",
    "    end\n",
    "    return (p1*p2, e)\n",
    "end"
   ]
  },
  {
   "cell_type": "code",
   "execution_count": 19,
   "metadata": {},
   "outputs": [
    {
     "name": "stdout",
     "output_type": "stream",
     "text": [
      "public_keys(primes) = (319418867, 95305271)\n",
      "public_keys(primes) = (2459253623, 1303589017)\n",
      "public_keys(primes) = (553552463, 322710245)\n"
     ]
    },
    {
     "data": {
      "text/plain": [
       "(553552463, 322710245)"
      ]
     },
     "metadata": {},
     "output_type": "display_data"
    }
   ],
   "source": [
    "#Testing\n",
    "primes = (17627,18121) # Change p1 and p2 here, p1 = 17627 p2 =18121 \n",
    "@show public_keys(primes)\n",
    "\n",
    "primes = (12241, 200903)\n",
    "@show public_keys(primes)\n",
    "\n",
    "primes = (42169, 13127)\n",
    "@show public_keys(primes)"
   ]
  },
  {
   "cell_type": "markdown",
   "metadata": {},
   "source": [
    "### 2.2.2 Encryption\n",
    "\n",
    "Design and implement a function `RSA_Encrypt`. Write necessary documentation. "
   ]
  },
  {
   "cell_type": "markdown",
   "metadata": {},
   "source": [
    "### solution:\n",
    "\n",
    "1.In the encryption stage the message m has to be transformed to $c = m^e$ mod $n$.  \n",
    "\n",
    "2.The inputs public_key can be generated with the public_keys function.   \n",
    "\n",
    "3.The other input ***message* is a string or integer(smaller than n)** (Example for use of integer: **4-digit password will be transmitted faster**), e.g. message = \"Hi\" ; message = 4436\n",
    "\n",
    "4.The function will return the encrypted string."
   ]
  },
  {
   "cell_type": "code",
   "execution_count": 20,
   "metadata": {},
   "outputs": [
    {
     "data": {
      "text/plain": [
       "RSA_Encrypt (generic function with 1 method)"
      ]
     },
     "metadata": {},
     "output_type": "display_data"
    }
   ],
   "source": [
    "# inputs: public key(n,e), message accepts an NON-NEGATIVE integer(smaller than n) or string \n",
    "# (we could not type enforce this due to Julia's lack of signed-unsigned implicit conversion on function parameters)\n",
    "# output: encrypted message either a single integer (if message was a single integer) \n",
    "#.        or vector of integers (if message was strings)\n",
    "function RSA_Encrypt(public_key::Tuple{Int64, Int64}, message::Union{Int64, String})::Union{Int64, Vector{Int64}}\n",
    "    n, e = public_key\n",
    "    if message isa String # If the message is a string, convert it to a tuple\n",
    "        encrypted = [ powermod(m, e, n) for m in string_to_ints(message) ]\n",
    "    elseif message < 0 # If the message is a negative integer, change it to string\n",
    "        @assert n > abs(message)  # raise an Error when message is bigger than p\n",
    "        negative_int = string('-',abs(message))\n",
    "        encrypted = [ powermod(m, e, n) for m in string_to_ints(negative_int) ]\n",
    "    else\n",
    "        @assert n > abs(message)  # raise an Error when message is bigger than p\n",
    "        encrypted = powermod(message, e, n)\n",
    "    end\n",
    "    return encrypted\n",
    "end"
   ]
  },
  {
   "cell_type": "code",
   "execution_count": 21,
   "metadata": {},
   "outputs": [
    {
     "name": "stdout",
     "output_type": "stream",
     "text": [
      "RSA_Encrypt(public_keys(primes), message) = [300940292, 114705302, 139957317, 78360534, 9047108, 58080967, 139957317, 78360534, 268758596, 69538208, 152095227, 58080967, 240470369, 67215738, 240470369, 152095227, 7808255, 114749944, 73293133]"
     ]
    },
    {
     "name": "stdout",
     "output_type": "stream",
     "text": [
      "\n",
      "RSA_Encrypt(public_keys(primes), message) = 85551185\n",
      "RSA_Encrypt(public_keys(primes), message) = [60526653, 106740441, 106740441, 12665327, 277500417]\n"
     ]
    },
    {
     "data": {
      "text/plain": [
       "5-element Vector{Int64}:\n",
       "  60526653\n",
       " 106740441\n",
       " 106740441\n",
       "  12665327\n",
       " 277500417"
      ]
     },
     "metadata": {},
     "output_type": "display_data"
    }
   ],
   "source": [
    "#Testing (input message is a string or integer(Smaller than n))\n",
    "primes = (17627,18121)\n",
    "message = \"ICanTransformEmoji🙂\" \n",
    "@show RSA_Encrypt(public_keys(primes), message)\n",
    "\n",
    "primes = (17627,18121)\n",
    "message = 4436 # non-negative integer can run faster!\n",
    "@show RSA_Encrypt(public_keys(primes), message)\n",
    "\n",
    "primes = (17627,18121)\n",
    "message = -4436 # Negative number can still correct throuth string\n",
    "@show RSA_Encrypt(public_keys(primes), message)\n"
   ]
  },
  {
   "cell_type": "markdown",
   "metadata": {},
   "source": [
    "### 2.2.3 Decryption\n",
    "\n",
    "Design and implement a function `RSA_Decrypt`. Write necessary documentation. \n",
    "\n",
    "Use at least 3 examples to demonstrate the correctness of your encryption and decryption functions. "
   ]
  },
  {
   "cell_type": "markdown",
   "metadata": {},
   "source": [
    "The message can be recovered doing the following computation: $ c^d = m^{de} = m$ mod $n$.\n",
    "\n",
    "$d$ is the private key where $d$ is between $1$ and $t$ and $d*e$ mod $t=1$."
   ]
  },
  {
   "cell_type": "code",
   "execution_count": 22,
   "metadata": {},
   "outputs": [
    {
     "data": {
      "text/plain": [
       "RSA_Decrypt (generic function with 1 method)"
      ]
     },
     "metadata": {},
     "output_type": "display_data"
    }
   ],
   "source": [
    "#inputs: prime pair(p1,p2), public key(n,e), encrypted message\n",
    "#        encrypted_message can be an single int (if the original message was an integer) \n",
    "#        or an array of integers (if the original message was a string)\n",
    "#output: decoded message m either an integer (if original message was an int)\n",
    "#.       or a string (if the original message was a string)\n",
    "function RSA_Decrypt(prime_pair::Tuple{Int64, Int64}, public_key::Tuple{Int64, Int64}, encrypted_message::Union{Int64, Vector{Int64}})::Union{Int64, String}\n",
    "    n, e = public_key\n",
    "    p1, p2 = prime_pair\n",
    "    private_key = invmod(e, (p1 - 1)*(p2 - 1))\n",
    "    if encrypted_message isa Int64 # for non-negative message\n",
    "        @assert n > abs(message)  # raise an Error when message is bigger than p\n",
    "        return powermod(encrypted_message, private_key, n)\n",
    "    else # for negative and string message\n",
    "        return ints_to_string([ powermod(e, private_key, n) for e in encrypted_message ])\n",
    "    end\n",
    "end"
   ]
  },
  {
   "cell_type": "markdown",
   "metadata": {},
   "source": [
    "**If there is an error in the result, please change a bigger p**."
   ]
  },
  {
   "cell_type": "code",
   "execution_count": 23,
   "metadata": {},
   "outputs": [
    {
     "name": "stdout",
     "output_type": "stream",
     "text": [
      "The sent message is:     4436\n",
      "The received message is: 4436\n",
      "The sent message is:     -4436\n",
      "The received message is: -4436\n",
      "The sent message is:     ImperialCodingTheory\n",
      "The received message is: ImperialCodingTheory\n",
      "The sent message is:     !!FourthYear!!\n",
      "The received message is: !!FourthYear!!\n",
      "The sent message is:     ICanSendEmoji🙂\n",
      "The received message is: ICanSendEmoji🙂\n"
     ]
    }
   ],
   "source": [
    "###TEST CASES### The input message should be an integer(Smaller than n) or String\n",
    "#If there is an error in the result, please change a bigger p.\n",
    "\n",
    "message = 4436\n",
    "primes = (17627, 18121)\n",
    "public_key = public_keys(primes)\n",
    "println(\"The sent message is:     \",message)\n",
    "println(\"The received message is: \" ,RSA_Decrypt(primes, public_key, RSA_Encrypt(public_key, message)))\n",
    "\n",
    "message = -4436\n",
    "primes = (17627, 18121)\n",
    "public_key = public_keys(primes)\n",
    "println(\"The sent message is:     \",message)\n",
    "println(\"The received message is: \" ,RSA_Decrypt(primes, public_key, RSA_Encrypt(public_key, message)))\n",
    "\n",
    "message = \"ImperialCodingTheory\"\n",
    "primes = (17627, 18121)\n",
    "public_key = public_keys(primes)    \n",
    "println(\"The sent message is:     \",message)\n",
    "println(\"The received message is: \" ,RSA_Decrypt(primes, public_key, RSA_Encrypt(public_key, message)))\n",
    "\n",
    "message = \"!!FourthYear!!\"\n",
    "primes = (12241, 983)\n",
    "public_key = public_keys(primes)\n",
    "println(\"The sent message is:     \",message)\n",
    "println(\"The received message is: \" ,RSA_Decrypt(primes, public_key, RSA_Encrypt(public_key, message)))\n",
    "\n",
    "message = \"ICanSendEmoji🙂\"\n",
    "primes = (42169, 13127)\n",
    "public_key = public_keys(primes)\n",
    "println(\"The sent message is:     \",message)\n",
    "println(\"The received message is: \" ,RSA_Decrypt(primes, public_key, RSA_Encrypt(public_key, message)))\n"
   ]
  },
  {
   "cell_type": "markdown",
   "metadata": {},
   "source": [
    "### 2.2.4 Digital Signature Sign\n",
    "\n",
    "Design and implement a function `RSA_Sign` to digitally sign a Message. Write necessary documentation. "
   ]
  },
  {
   "cell_type": "markdown",
   "metadata": {},
   "source": [
    "The main steps for RSA signature are:\n",
    "\n",
    "1. Pick a pair of 2 distinct prime numbers and compute $ n = p1* p2$ and $ t = (p1-1)* (p2-1)$.\n",
    "2. (n, e) will be the public key where $ 1<e<t $ and $gcd(e,t)=1$\n",
    "4. $d$ is the private key where $d$ is between $1$ and $t$ and $d*e$ mod $t=1$.\n",
    "\n",
    "The signed message will be $y = m^d$ mod $n$ and the pair (m, y) will be sent where m is the original message."
   ]
  },
  {
   "cell_type": "code",
   "execution_count": 24,
   "metadata": {},
   "outputs": [
    {
     "data": {
      "text/plain": [
       "RSA_Sign (generic function with 1 method)"
      ]
     },
     "metadata": {},
     "output_type": "display_data"
    }
   ],
   "source": [
    "#inputs: prime pair(p1, p2), public key (n,e), message m (either an positive integer or a string)\n",
    "#outputs: signed message y\n",
    "function RSA_Sign(prime_pair::Tuple{Int64, Int64}, public_key::Tuple{Int64, Int64}, message::Union{String, Int64})::Union{Int64, Vector{Int64}}\n",
    "    n, e = public_key\n",
    "    p1, p2 = prime_pair\n",
    "    private_key = invmod(e, (p1 - 1)*(p2 - 1))\n",
    "    if message isa Int64\n",
    "        @assert n > abs(message)  # raise an Error when message is bigger than p\n",
    "        if message >= 0\n",
    "            return powermod(message, private_key, n)\n",
    "        else\n",
    "            negative_int = string('-',abs(message)) # If the message is a negative integer, change it to string\n",
    "            return [ powermod(m, private_key, n) for m in string_to_ints(negative_int) ]\n",
    "        end\n",
    "    else # If the message is a string, convert it to a tuple\n",
    "        return [ powermod(m, private_key, n) for m in string_to_ints(message) ]\n",
    "    end\n",
    "end"
   ]
  },
  {
   "cell_type": "code",
   "execution_count": 25,
   "metadata": {},
   "outputs": [
    {
     "name": "stdout",
     "output_type": "stream",
     "text": [
      "RSA_Sign(primes, public_key, message) = [9555602, 8364053, 894238, 3614842, 4821433, 3441357, 5241001, 10365496, 11315714, 7391298, 342141, 3441357, 7820368, 8094486, 4197794, 8144275, 3614842, 7391298, 4821433, 168988]\n",
      "RSA_Sign(primes, public_key, message) = [448686311, 113787627, 75399912, 474294332, 110380047, 301616594, 474294332, 441940740, 456616552, 187673958, 365617523, 55698441, 360215450, 202620695]\n"
     ]
    },
    {
     "name": "stdout",
     "output_type": "stream",
     "text": [
      "RSA_Sign(primes, public_key, message) = 215890578\n",
      "RSA_Sign(primes, public_key, message) = [117813071, 28811836, 28811836, 174904992, 137399469]\n"
     ]
    },
    {
     "data": {
      "text/plain": [
       "5-element Vector{Int64}:\n",
       " 117813071\n",
       "  28811836\n",
       "  28811836\n",
       " 174904992\n",
       " 137399469"
      ]
     },
     "metadata": {},
     "output_type": "display_data"
    }
   ],
   "source": [
    "#Testing: Input same as above\n",
    "message = \"ImperialCodingTheory\"\n",
    "primes = (12241, 983)\n",
    "public_key = public_keys(primes)\n",
    "@show RSA_Sign(primes , public_key, message)\n",
    "\n",
    "message = \"ICanSendEmoji🙂\"\n",
    "primes = (42169, 13127)\n",
    "public_key = public_keys(primes)\n",
    "@show RSA_Sign(primes , public_key, message)\n",
    "\n",
    "message = 4436\n",
    "primes = (17627, 18121)\n",
    "public_key = public_keys(primes)\n",
    "@show RSA_Sign(primes , public_key, message)\n",
    "\n",
    "message = -4436\n",
    "primes = (17627, 18121)\n",
    "public_key = public_keys(primes)\n",
    "@show RSA_Sign(primes , public_key, message)\n"
   ]
  },
  {
   "cell_type": "markdown",
   "metadata": {},
   "source": [
    "### 2.2.5 Digital Signature Verification\n",
    "\n",
    "Design and implement a function `RSA_SignVerify` to verify the digital sigature. Write necessary documentation. \n",
    "\n",
    "Use at least 3 examples to demonstrate the correctness of your functions for digital signature and verification. "
   ]
  },
  {
   "cell_type": "markdown",
   "metadata": {},
   "source": [
    "To verify the signature the receiver has to check if $y^e=m$ mod $n$. If this is satisfied the signature is validated."
   ]
  },
  {
   "cell_type": "code",
   "execution_count": 26,
   "metadata": {},
   "outputs": [
    {
     "data": {
      "text/plain": [
       "RSA_SignVerify (generic function with 1 method)"
      ]
     },
     "metadata": {},
     "output_type": "display_data"
    }
   ],
   "source": [
    "#input: public key\n",
    "#.      signature that is either an Int or vector of Ints depending on if message was single integer or string\n",
    "#.      message that is either an positive integer (enforced with assertion not parameter UInt type-checking or string\n",
    "#output: boolean indicating whether verification passed or not\n",
    "function RSA_SignVerify(public_key::Tuple{Int64, Int64}, signature::Union{Int64, Vector{Int64}}, message::Union{String, Int64})::Bool\n",
    "    n, e = public_key\n",
    "    if message isa Int64\n",
    "        @assert n> abs(message)  # raise an Error when message is bigger than p\n",
    "        if message >= 0\n",
    "            return message == powermod(signature, e, n)\n",
    "        else # for negative message\n",
    "            negative_int = string('-',abs(message))\n",
    "            return negative_int == ints_to_string([ powermod(s, e, n) for s in signature ])\n",
    "        end\n",
    "    else # for string message\n",
    "        return message == ints_to_string([ powermod(s, e, n) for s in signature ])\n",
    "    end\n",
    "end"
   ]
  },
  {
   "cell_type": "markdown",
   "metadata": {},
   "source": [
    "**If there is an error in the result, please change a bigger p**."
   ]
  },
  {
   "cell_type": "code",
   "execution_count": 27,
   "metadata": {},
   "outputs": [
    {
     "name": "stdout",
     "output_type": "stream",
     "text": [
      "RSA_SignVerify(public_key, RSA_Sign(primes, public_key, message), message) = true"
     ]
    },
    {
     "name": "stdout",
     "output_type": "stream",
     "text": [
      "\n",
      "RSA_SignVerify(public_key, RSA_Sign(primes, public_key, message), message) = true\n",
      "RSA_SignVerify(public_key, RSA_Sign(primes, public_key, message), message) = true\n",
      "RSA_SignVerify(public_key, RSA_Sign(primes, public_key, message), message) = true\n",
      "RSA_SignVerify(public_key, RSA_Sign(primes, public_key, message), message) = true\n"
     ]
    },
    {
     "data": {
      "text/plain": [
       "true"
      ]
     },
     "metadata": {},
     "output_type": "display_data"
    }
   ],
   "source": [
    "#Testing:  Input same as above\n",
    "#If there is an error in the result, please change a bigger p.\n",
    "\n",
    "message = 4436\n",
    "primes = (17627, 18121)\n",
    "public_key = public_keys(primes)\n",
    "@show RSA_SignVerify(public_key, RSA_Sign(primes, public_key, message), message)\n",
    "\n",
    "message = -4436\n",
    "primes = (17627, 18121)\n",
    "public_key = public_keys(primes)\n",
    "@show RSA_SignVerify(public_key, RSA_Sign(primes, public_key, message), message)\n",
    "\n",
    "message = \"ImperialCodingTheory\"\n",
    "primes = (12241, 983)\n",
    "public_key = public_keys(primes)\n",
    "@show RSA_SignVerify(public_key, RSA_Sign(primes, public_key, message), message)\n",
    "\n",
    "message = \"ICanSendEmoji🙂\"\n",
    "primes = (42169, 13127)\n",
    "public_key = public_keys(primes)\n",
    "@show RSA_SignVerify(public_key, RSA_Sign(primes, public_key, message), message)\n",
    "\n",
    "message = \"JuliaCoding\"\n",
    "primes = (42169, 13127)\n",
    "public_key = public_keys(primes)\n",
    "@show RSA_SignVerify(public_key, RSA_Sign(primes, public_key, message), message)"
   ]
  },
  {
   "cell_type": "markdown",
   "metadata": {},
   "source": [
    "## Highlight\n",
    "\n",
    "1. Both of the cryptography approaches were explained and the functions are supported with theory.\n",
    "\n",
    "2. The code was deeply optimised and we made use of fast functions such as powermod and invmod. The transmitted message can be of type Int and also String: **various languages and symbols can be supported** including emoji. Int and Strings have customized handling for both types to skip redundant conversions/calculations if the message is an Int (Example a 4-digit password will be transmitted faster).\n",
    "\n",
    "3. The code is modular and has clear comments and variable names that help the reader understand each step.\n",
    "\n",
    "4. All of the functions were thoroughly tested with at least 3 examples.\n",
    "\n",
    "5. All the private keys are randomly picked to enforce highly secure transmissions.\n",
    "\n"
   ]
  }
 ],
 "metadata": {
  "kernelspec": {
   "display_name": "Julia 1.6.3",
   "language": "julia",
   "name": "julia-1.6"
  },
  "language_info": {
   "file_extension": ".jl",
   "mimetype": "application/julia",
   "name": "julia",
   "version": "1.6.3"
  }
 },
 "nbformat": 4,
 "nbformat_minor": 2
}
